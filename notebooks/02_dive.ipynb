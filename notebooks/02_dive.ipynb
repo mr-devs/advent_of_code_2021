{
 "cells": [
  {
   "cell_type": "markdown",
   "metadata": {},
   "source": [
    "# --- Day 2: Dive! ---\n",
    "\n",
    "## Part 1\n",
    "\n",
    "Now, you need to figure out how to pilot this thing.\n",
    "\n",
    "It seems like the submarine can take a series of commands like forward 1, down 2, or up 3:\n",
    "\n",
    "```\n",
    "    forward X increases the horizontal position by X units.\n",
    "    down X increases the depth by X units.\n",
    "    up X decreases the depth by X units.\n",
    "```\n",
    "\n",
    "Note that since you're on a submarine, down and up affect your **depth**, and so they have the opposite result of what you might expect.\n",
    "\n",
    "The submarine seems to already have a planned course (your puzzle input). You should probably figure out where it's going. For example:\n",
    "\n",
    "```\n",
    "forward 5\n",
    "down 5\n",
    "forward 8\n",
    "up 3\n",
    "down 8\n",
    "forward 2\n",
    "```\n",
    "\n",
    "Your horizontal position and depth both start at 0. The steps above would then modify them as follows:\n",
    "\n",
    "```\n",
    "- forward 5 adds 5 to your horizontal position, a total of 5.\n",
    "- down 5 adds 5 to your depth, resulting in a value of 5.\n",
    "- forward 8 adds 8 to your horizontal position, a total of 13.\n",
    "- up 3 decreases your depth by 3, resulting in a value of 2.\n",
    "- down 8 adds 8 to your depth, resulting in a value of 10.\n",
    "- forward 2 adds 2 to your horizontal position, a total of 15.\n",
    "```\n",
    "\n",
    "After following these instructions, you would have a horizontal position of 15 and a depth of 10. (Multiplying these together produces 150.)\n",
    "\n",
    "Calculate the horizontal position and depth you would have after following the planned course. **What do you get if you multiply your final horizontal position by your final depth**?\n"
   ]
  },
  {
   "cell_type": "code",
   "execution_count": 1,
   "metadata": {},
   "outputs": [],
   "source": [
    "import os"
   ]
  },
  {
   "cell_type": "code",
   "execution_count": 2,
   "metadata": {},
   "outputs": [],
   "source": [
    "def get_positions(movements):\n",
    "    \"\"\"\n",
    "    Calculate and return the horizontal position * vertical position\n",
    "        from a list of movements\n",
    "    \n",
    "    Parameters:\n",
    "    ----------\n",
    "    - movements (list) : a list of lists. The nested lists\n",
    "        are in the following form:\n",
    "            [\"movement\" (str), magnitude (int)]\n",
    "\n",
    "    \"\"\"\n",
    "    move_dict = {\n",
    "        \"forward\" : 1,\n",
    "        \"down\" : 1,\n",
    "        \"up\" : -1\n",
    "    }\n",
    "    \n",
    "    horiztonal_pos = 0\n",
    "    vertical_pos = 0\n",
    "    \n",
    "    for move in movements:\n",
    "        direction = move[0]\n",
    "        magnitude = move[1]\n",
    "        \n",
    "        if direction in [\"down\", \"up\"]:\n",
    "            vertical_pos += magnitude * move_dict[direction]\n",
    "        \n",
    "        if direction in [\"forward\"]:\n",
    "            horiztonal_pos += magnitude * move_dict[direction]\n",
    "    \n",
    "    return horiztonal_pos * vertical_pos"
   ]
  },
  {
   "cell_type": "markdown",
   "metadata": {},
   "source": [
    "### Test the code on the example input"
   ]
  },
  {
   "cell_type": "code",
   "execution_count": 3,
   "metadata": {},
   "outputs": [
    {
     "name": "stdout",
     "output_type": "stream",
     "text": [
      "Looks like its working!!\n"
     ]
    }
   ],
   "source": [
    "test_input = [\n",
    "    [\"forward\", 5],\n",
    "    [\"down\", 5],\n",
    "    [\"forward\", 8],\n",
    "    [\"up\", 3],\n",
    "    [\"down\", 8],\n",
    "    [\"forward\", 2]\n",
    "]\n",
    "known_answer = 150\n",
    "\n",
    "myanswer = get_positions(test_input)\n",
    "\n",
    "if myanswer == known_answer:\n",
    "    print(\"Looks like its working!!\")\n",
    "else:\n",
    "    print(\"There is something wrong... :(\")\n"
   ]
  },
  {
   "cell_type": "markdown",
   "metadata": {},
   "source": [
    "### Run it on the assignment data"
   ]
  },
  {
   "cell_type": "code",
   "execution_count": 4,
   "metadata": {},
   "outputs": [
    {
     "data": {
      "text/plain": [
       "1427868"
      ]
     },
     "execution_count": 4,
     "metadata": {},
     "output_type": "execute_result"
    }
   ],
   "source": [
    "data_path = \"../data/02_data.txt\"\n",
    "\n",
    "with open(data_path, \"r\") as f:\n",
    "    movements = [line.rstrip(\"\\n\") for line in f]\n",
    "\n",
    "for idx, move in enumerate(movements):\n",
    "    split_move = move.split(\" \")\n",
    "    movements[idx] = [split_move[0], int(split_move[1])]\n",
    "    \n",
    "get_positions(movements)"
   ]
  },
  {
   "cell_type": "markdown",
   "metadata": {},
   "source": [
    "## Part Two\n",
    "\n",
    "Based on your calculations, the planned course doesn't seem to make any sense. You find the submarine manual and discover that the process is actually slightly more complicated.\n",
    "\n",
    "In addition to horizontal position and depth, you'll also need to track a third value, **aim**, which also starts at 0. The commands also mean something entirely different than you first thought:\n",
    "\n",
    "```\n",
    "- down X increases your aim by X units.\n",
    "- up X decreases your aim by X units.\n",
    "- forward X does two things:\n",
    "    - It increases your horizontal position by X units.\n",
    "    - It increases your depth by your aim multiplied by X.\n",
    "```\n",
    "\n",
    "Again note that since you're on a submarine, down and up do the opposite of what you might expect: \"down\" means aiming in the positive direction.\n",
    "\n",
    "Now, the above example does something different:\n",
    "\n",
    "```\n",
    "- forward 5 adds 5 to your horizontal position, a total of 5. Because your aim is 0, your depth does not change.\n",
    "- down 5 adds 5 to your aim, resulting in a value of 5.\n",
    "- forward 8 adds 8 to your horizontal position, a total of 13. Because your aim is 5, your depth increases by 8*5=40.\n",
    "- up 3 decreases your aim by 3, resulting in a value of 2.\n",
    "- down 8 adds 8 to your aim, resulting in a value of 10.\n",
    "- forward 2 adds 2 to your horizontal position, a total of 15. Because your aim is 10, your depth increases by 2*10=20 to a total of 60.\n",
    "```\n",
    "\n",
    "After following these new instructions, you would have a horizontal position of 15 and a depth of 60. (Multiplying these produces **900**.)\n",
    "\n",
    "Using this new interpretation of the commands, calculate the horizontal position and depth you would have after following the planned course. **What do you get if you multiply your final horizontal position by your final depth**?\n"
   ]
  },
  {
   "cell_type": "code",
   "execution_count": 5,
   "metadata": {},
   "outputs": [],
   "source": [
    "def get_positions_w_aim(movements):\n",
    "    \"\"\"\n",
    "    Calculate and return the horizontal position * vertical position\n",
    "        from a list of movements, now incorporating the 'aim'\n",
    "    \n",
    "    Parameters:\n",
    "    ----------\n",
    "    - movements (list) : a list of lists. The nested lists\n",
    "        are in the following form:\n",
    "            [\"movement\" (str), magnitude (int)]\n",
    "\n",
    "    \"\"\"\n",
    "    move_dict = {\n",
    "        \"forward\" : 1,\n",
    "        \"down\" : 1,\n",
    "        \"up\" : -1\n",
    "    }\n",
    "    \n",
    "    horiztonal_pos = 0\n",
    "    depth = 0\n",
    "    aim = 0\n",
    "    \n",
    "    for move in movements:\n",
    "        direction = move[0]\n",
    "        magnitude = move[1]\n",
    "        \n",
    "        if direction in [\"down\", \"up\"]:\n",
    "            aim += magnitude * move_dict[direction]\n",
    "        \n",
    "        if direction in [\"forward\"]:\n",
    "            horiztonal_pos += magnitude * move_dict[direction]\n",
    "            depth += aim*magnitude\n",
    "    \n",
    "    return horiztonal_pos * depth"
   ]
  },
  {
   "cell_type": "code",
   "execution_count": 6,
   "metadata": {},
   "outputs": [
    {
     "name": "stdout",
     "output_type": "stream",
     "text": [
      "Looks like its working!!\n"
     ]
    }
   ],
   "source": [
    "known_answer = 900\n",
    "\n",
    "if get_positions_w_aim(test_input) == known_answer:\n",
    "    print(\"Looks like its working!!\")\n",
    "else:\n",
    "    print(\"There is something wrong... :(\")"
   ]
  },
  {
   "cell_type": "code",
   "execution_count": 7,
   "metadata": {},
   "outputs": [
    {
     "data": {
      "text/plain": [
       "1568138742"
      ]
     },
     "execution_count": 7,
     "metadata": {},
     "output_type": "execute_result"
    }
   ],
   "source": [
    "get_positions_w_aim(movements)"
   ]
  },
  {
   "cell_type": "code",
   "execution_count": null,
   "metadata": {},
   "outputs": [],
   "source": []
  }
 ],
 "metadata": {
  "kernelspec": {
   "display_name": "Python 3",
   "language": "python",
   "name": "python3"
  },
  "language_info": {
   "codemirror_mode": {
    "name": "ipython",
    "version": 3
   },
   "file_extension": ".py",
   "mimetype": "text/x-python",
   "name": "python",
   "nbconvert_exporter": "python",
   "pygments_lexer": "ipython3",
   "version": "3.7.6"
  }
 },
 "nbformat": 4,
 "nbformat_minor": 2
}
