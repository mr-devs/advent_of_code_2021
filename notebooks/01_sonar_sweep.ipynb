{
 "cells": [
  {
   "cell_type": "markdown",
   "metadata": {},
   "source": [
    "# --- Day 1: Sonar Sweep ---\n",
    "\n",
    "## Part 1\n",
    "\n",
    "You're minding your own business on a ship at sea when the overboard alarm goes off! You rush to see if you can help. Apparently, one of the Elves tripped and accidentally sent the sleigh keys flying into the ocean!\n",
    "\n",
    "Before you know it, you're inside a submarine the Elves keep ready for situations like this. It's covered in Christmas lights (because of course it is), and it even has an experimental antenna that should be able to track the keys if you can boost its signal strength high enough; there's a little meter that indicates the antenna's signal strength by displaying 0-50 stars.\n",
    "\n",
    "Your instincts tell you that in order to save Christmas, you'll need to get all fifty stars by December 25th.\n",
    "\n",
    "Collect stars by solving puzzles. Two puzzles will be made available on each day in the Advent calendar; the second puzzle is unlocked when you complete the first. Each puzzle grants one star. Good luck!\n",
    "\n",
    "As the submarine drops below the surface of the ocean, it automatically performs a sonar sweep of the nearby sea floor. On a small screen, the sonar sweep report (your puzzle input) appears: each line is a measurement of the sea floor depth as the sweep looks further and further away from the submarine.\n",
    "\n",
    "For example, suppose you had the following report:\n",
    "\n",
    "```\n",
    "199\n",
    "200\n",
    "208\n",
    "210\n",
    "200\n",
    "207\n",
    "240\n",
    "269\n",
    "260\n",
    "263\n",
    "```\n",
    "\n",
    "This report indicates that, scanning outward from the submarine, the sonar sweep found depths of 199, 200, 208, 210, and so on.\n",
    "\n",
    "The first order of business is to figure out how quickly the depth increases, just so you know what you're dealing with - you never know if the keys will get carried into deeper water by an ocean current or a fish or something.\n",
    "\n",
    "To do this, **count the number of times a depth measurement increases from the previous measurement**. (There is no measurement before the first measurement.) In the example above, the changes are as follows:\n",
    "\n",
    "```\n",
    "199 (N/A - no previous measurement)\n",
    "200 (increased)\n",
    "208 (increased)\n",
    "210 (increased)\n",
    "200 (decreased)\n",
    "207 (increased)\n",
    "240 (increased)\n",
    "269 (increased)\n",
    "260 (decreased)\n",
    "263 (increased)\n",
    "```\n",
    "\n",
    "In this example, there are 7 measurements that are larger than the previous measurement.\n",
    "\n",
    "**How many measurements are larger than the previous measurement?**\n"
   ]
  },
  {
   "cell_type": "code",
   "execution_count": 1,
   "metadata": {},
   "outputs": [],
   "source": [
    "import os"
   ]
  },
  {
   "cell_type": "code",
   "execution_count": 2,
   "metadata": {},
   "outputs": [],
   "source": [
    "# Set up file name\n",
    "data_path = \"../data\"\n",
    "data_file = \"01_data.txt\"\n",
    "input_fname = os.path.join(data_path, data_file)\n",
    "\n",
    "# Load data\n",
    "\n",
    "with open(input_fname, \"r\") as f:\n",
    "    measurements = [int(line.rstrip(\"\\n\")) for line in f.readlines()]"
   ]
  },
  {
   "cell_type": "code",
   "execution_count": 3,
   "metadata": {},
   "outputs": [],
   "source": [
    "def get_num_larger_measurements(all_measurements):\n",
    "    \"\"\"\n",
    "    Return the number of measurements which are larger than the immediately\n",
    "    preceeding measurements.\n",
    "    \n",
    "    Parameters:\n",
    "    ----------\n",
    "    all_measurements (list) : an ordered list of depth measurements as described\n",
    "        by the problem.\n",
    "    \n",
    "    Returns:\n",
    "    ----------\n",
    "    - num_larger (int) : the number of measurements which are larger than\n",
    "    the immediately preceeding measurement\n",
    "    \"\"\"\n",
    "    \n",
    "    num_larger = 0\n",
    "\n",
    "    for idx in range(1, len(all_measurements)):\n",
    "        if all_measurements[idx] > all_measurements[idx-1]:\n",
    "            num_larger += 1\n",
    "    return num_larger"
   ]
  },
  {
   "cell_type": "markdown",
   "metadata": {},
   "source": [
    "### Test it on the example provided above"
   ]
  },
  {
   "cell_type": "code",
   "execution_count": 4,
   "metadata": {},
   "outputs": [
    {
     "name": "stdout",
     "output_type": "stream",
     "text": [
      "Seems to be working!!\n"
     ]
    }
   ],
   "source": [
    "test_input = [199, 200, 208, 210, 200, 207, 240, 269, 260, 263]\n",
    "known_answer = 7\n",
    "\n",
    "if get_num_larger_measurements(test_input) == known_answer:\n",
    "    print(\"Seems to be working!!\")\n",
    "else:\n",
    "    print(\"There seems to be a problem...\")"
   ]
  },
  {
   "cell_type": "markdown",
   "metadata": {},
   "source": [
    "### Run it on the input data set and get the answer"
   ]
  },
  {
   "cell_type": "code",
   "execution_count": 5,
   "metadata": {},
   "outputs": [
    {
     "data": {
      "text/plain": [
       "1400"
      ]
     },
     "execution_count": 5,
     "metadata": {},
     "output_type": "execute_result"
    }
   ],
   "source": [
    "get_num_larger_measurements(measurements)\n",
    "\n"
   ]
  },
  {
   "cell_type": "markdown",
   "metadata": {},
   "source": [
    "## Part Two\n",
    "\n",
    "Considering every single measurement isn't as useful as you expected: there's just too much noise in the data.\n",
    "\n",
    "Instead, consider sums of a three-measurement sliding window. Again considering the above example:\n",
    "\n",
    "```\n",
    "199  A      \n",
    "200  A B    \n",
    "208  A B C  \n",
    "210    B C D\n",
    "200  E   C D\n",
    "207  E F   D\n",
    "240  E F G  \n",
    "269    F G H\n",
    "260      G H\n",
    "263        H\n",
    "```\n",
    "\n",
    "Start by comparing the first and second three-measurement windows. The measurements in the first window are marked A (199, 200, 208); their sum is 199 + 200 + 208 = 607. The second window is marked B (200, 208, 210); its sum is 618. The sum of measurements in the second window is larger than the sum of the first, so this first comparison **increased**.\n",
    "\n",
    "Your goal now is to **count the number of times the sum of measurements in this sliding window increases from the previous sum**. So, compare A with B, then compare B with C, then C with D, and so on. Stop when there aren't enough measurements left to create a new three-measurement sum.\n",
    "\n",
    "In the above example, the sum of each three-measurement window is as follows:\n",
    "\n",
    "```\n",
    "A: 607 (N/A - no previous sum)\n",
    "B: 618 (increased)\n",
    "C: 618 (no change)\n",
    "D: 617 (decreased)\n",
    "E: 647 (increased)\n",
    "F: 716 (increased)\n",
    "G: 769 (increased)\n",
    "H: 792 (increased)\n",
    "```\n",
    "\n",
    "In this example, there are 5 sums that are larger than the previous sum.\n",
    "\n",
    "**Consider sums of a three-measurement sliding window. How many sums are larger than the previous sum?**\n"
   ]
  },
  {
   "cell_type": "code",
   "execution_count": 6,
   "metadata": {},
   "outputs": [],
   "source": [
    "def get_number_of_window_sum_increases(all_measurements):\n",
    "    \"\"\"\n",
    "    Return the number of increasing sums of a three-measurement sliding windows.\n",
    "    That is, how many three index sums are larger than the previous three index sums.\n",
    "    \n",
    "    Parameters:\n",
    "    ----------\n",
    "    all_measurements (list) : an ordered list of depth measurements as described\n",
    "        by the problem.\n",
    "    \n",
    "    Returns:\n",
    "    ----------\n",
    "    - num_larger (int) : the number of measurements which are larger than\n",
    "    the immediately preceeding measurement\n",
    "    \"\"\"\n",
    "    \n",
    "    num_larger = 0\n",
    "    \n",
    "    for idx in range(1, len(all_measurements)-2): # Subtract by two because of sliding window\n",
    "        \n",
    "        curr_window_sum = sum(all_measurements[idx:idx+3])\n",
    "        prev_window_sum = sum(all_measurements[idx-1:idx-1+3])\n",
    "\n",
    "        if curr_window_sum > prev_window_sum:\n",
    "            num_larger += 1\n",
    "\n",
    "    return num_larger"
   ]
  },
  {
   "cell_type": "code",
   "execution_count": 7,
   "metadata": {},
   "outputs": [
    {
     "name": "stdout",
     "output_type": "stream",
     "text": [
      "Seems to be working!!\n"
     ]
    }
   ],
   "source": [
    "test_input = [199, 200, 208, 210, 200, 207, 240, 269, 260, 263]\n",
    "known_answer = 5\n",
    "\n",
    "if get_number_of_window_sum_increases(test_input) == known_answer:\n",
    "    print(\"Seems to be working!!\")\n",
    "else:\n",
    "    print(\"There seems to be a problem...\")"
   ]
  },
  {
   "cell_type": "markdown",
   "metadata": {},
   "source": [
    "### Run it on the input data set and get the answer"
   ]
  },
  {
   "cell_type": "code",
   "execution_count": 8,
   "metadata": {},
   "outputs": [
    {
     "data": {
      "text/plain": [
       "1429"
      ]
     },
     "execution_count": 8,
     "metadata": {},
     "output_type": "execute_result"
    }
   ],
   "source": [
    "get_number_of_window_sum_increases(measurements)"
   ]
  },
  {
   "cell_type": "markdown",
   "metadata": {},
   "source": [
    "### Note: All answers in this notebook have been confirmed as correct."
   ]
  },
  {
   "cell_type": "code",
   "execution_count": null,
   "metadata": {},
   "outputs": [],
   "source": []
  }
 ],
 "metadata": {
  "kernelspec": {
   "display_name": "Python 3",
   "language": "python",
   "name": "python3"
  },
  "language_info": {
   "codemirror_mode": {
    "name": "ipython",
    "version": 3
   },
   "file_extension": ".py",
   "mimetype": "text/x-python",
   "name": "python",
   "nbconvert_exporter": "python",
   "pygments_lexer": "ipython3",
   "version": "3.7.6"
  }
 },
 "nbformat": 4,
 "nbformat_minor": 2
}
