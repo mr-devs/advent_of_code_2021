{
 "cells": [
  {
   "cell_type": "markdown",
   "metadata": {},
   "source": [
    "# --- Day 9: Smoke Basin ---\n",
    "\n",
    "These caves seem to be lava tubes. Parts are even still volcanically active; small hydrothermal vents release smoke into the caves that slowly settles like rain.\n",
    "\n",
    "If you can model how the smoke flows through the caves, you might be able to avoid it and be that much safer. The submarine generates a heightmap of the floor of the nearby caves for you (your puzzle input).\n",
    "\n",
    "Smoke flows to the lowest point of the area it's in. For example, consider the following heightmap:\n",
    "\n",
    "```\n",
    "2<1>9994321<0>\n",
    "3987894921\n",
    "98<5>6789892\n",
    "8767896789\n",
    "989996<5>678\n",
    "```\n",
    "\n",
    "Each number corresponds to the height of a particular location, where 9 is the highest and 0 is the lowest a location can be.\n",
    "\n",
    "Your first goal is to find the low points - the locations that are lower than any of its adjacent locations. Most locations have four adjacent locations (up, down, left, and right); locations on the edge or corner of the map have three or two adjacent locations, respectively. (Diagonal locations do not count as adjacent.)\n",
    "\n",
    "In the above example, there are four low points, all highlighted: two are in the first row (a 1 and a 0), one is in the third row (a 5), and one is in the bottom row (also a 5). All other locations on the heightmap have some lower adjacent location, and so are not low points.\n",
    "\n",
    "The risk level of a low point is 1 plus its height. In the above example, the risk levels of the low points are 2, 1, 6, and 6. **The sum of the risk levels of all low points in the heightmap is therefore 15**.\n",
    "\n",
    "**Find all of the low points on your heightmap. What is the sum of the risk levels of all low points on your heightmap**?\n"
   ]
  },
  {
   "cell_type": "code",
   "execution_count": 1,
   "metadata": {},
   "outputs": [],
   "source": [
    "import numpy as np"
   ]
  },
  {
   "cell_type": "code",
   "execution_count": 2,
   "metadata": {},
   "outputs": [],
   "source": [
    "# Covert input into a numpy matrix\n",
    "test_input = [\n",
    "    \"2199943210\",\n",
    "    \"3987894921\",\n",
    "    \"9856789892\",\n",
    "    \"8767896789\",\n",
    "    \"9899965678\"\n",
    "]\n",
    "\n",
    "for idx, numstr in enumerate(test_input):\n",
    "    test_input[idx] = [int(char) for char in numstr]\n",
    "\n",
    "test_input = np.array(test_input)"
   ]
  },
  {
   "cell_type": "code",
   "execution_count": 3,
   "metadata": {},
   "outputs": [],
   "source": [
    "def is_lowest(row, col, heightmap):\n",
    "    \"\"\"Check if value is the lower than its adjacent values\"\"\"\n",
    "    val = heightmap[row, col]\n",
    "    \n",
    "    adjacent_values = []\n",
    "    # Below\n",
    "    if row+1 < len(heightmap):\n",
    "        adjacent_values.append(heightmap[row+1, col])\n",
    "\n",
    "    # Above\n",
    "    if row-1 >= 0:\n",
    "        adjacent_values.append(heightmap[row-1, col])\n",
    "\n",
    "    # Right\n",
    "    if col+1 < len(heightmap[0]):\n",
    "        adjacent_values.append(heightmap[row, col+1])\n",
    "\n",
    "    # Left\n",
    "    if col-1 >= 0:\n",
    "        adjacent_values.append(heightmap[row, col-1])\n",
    "\n",
    "    # If `val` is less than the smallest adjacent value,\n",
    "    # return `True`\n",
    "    if val < min(adjacent_values):\n",
    "        return True\n",
    "\n",
    "    # Otherwise, it is not a low point, and we return `False`\n",
    "    return False"
   ]
  },
  {
   "cell_type": "code",
   "execution_count": 4,
   "metadata": {},
   "outputs": [],
   "source": [
    "def sum_of_lowest(puzzle_input):\n",
    "    \n",
    "    if not isinstance(puzzle_input, np.ndarray):\n",
    "        raise Exception(\"Input puzzle must be a numpy array!\")\n",
    "    \n",
    "    num_rows = len(puzzle_input)\n",
    "    num_cols = len(puzzle_input[0])\n",
    "\n",
    "    lowest_vals = []\n",
    "    row_vals = []\n",
    "    col_vals = []\n",
    "\n",
    "    for row in range(num_rows):\n",
    "        for col in range(num_cols):\n",
    "            if is_lowest(row, col, puzzle_input):\n",
    "                lowest_vals.append(puzzle_input[row,col]+1)\n",
    "    return sum(lowest_vals)#, row_vals, col_vals"
   ]
  },
  {
   "cell_type": "code",
   "execution_count": 5,
   "metadata": {},
   "outputs": [
    {
     "data": {
      "text/plain": [
       "0"
      ]
     },
     "execution_count": 5,
     "metadata": {},
     "output_type": "execute_result"
    }
   ],
   "source": [
    "test_input[0,9]"
   ]
  },
  {
   "cell_type": "code",
   "execution_count": 6,
   "metadata": {},
   "outputs": [
    {
     "name": "stdout",
     "output_type": "stream",
     "text": [
      "Looks like its working!!\n"
     ]
    }
   ],
   "source": [
    "known_answer = 15\n",
    "answer = sum_of_lowest(test_input)\n",
    "\n",
    "if known_answer == answer:\n",
    "    print(\"Looks like its working!!\")\n",
    "else:\n",
    "    print(\"There is something wrong... :(\")"
   ]
  },
  {
   "cell_type": "code",
   "execution_count": 7,
   "metadata": {
    "scrolled": true
   },
   "outputs": [
    {
     "data": {
      "text/plain": [
       "560"
      ]
     },
     "execution_count": 7,
     "metadata": {},
     "output_type": "execute_result"
    }
   ],
   "source": [
    "data_file = \"../data/09_data.txt\"\n",
    "\n",
    "with open(data_file, \"r\") as f:\n",
    "    puzzle_input = [line.rstrip(\"\\n\") for line in f]\n",
    "\n",
    "for idx, numstr in enumerate(puzzle_input):\n",
    "    puzzle_input[idx] = [int(char) for char in numstr]\n",
    "\n",
    "puzzle_input = np.array(puzzle_input)\n",
    "    \n",
    "answer = sum_of_lowest(puzzle_input)\n",
    "answer"
   ]
  },
  {
   "cell_type": "markdown",
   "metadata": {},
   "source": [
    "# --- Part Two ---\n",
    "\n",
    "Next, you need to find the largest basins so you know what areas are most important to avoid.\n",
    "\n",
    "A basin is all locations that eventually flow downward to a single low point. Therefore, every low point has a basin, although some basins are very small. Locations of height 9 do not count as being in any basin, and all other locations will always be part of exactly one basin.\n",
    "\n",
    "The size of a basin is the number of locations within the basin, including the low point. The example above has four basins.\n",
    "\n",
    "The top-left basin, size 3:\n",
    "\n",
    "```\n",
    "2199943210\n",
    "3987894921\n",
    "9856789892\n",
    "8767896789\n",
    "9899965678\n",
    "```\n",
    "\n",
    "The top-right basin, size 9:\n",
    "\n",
    "```\n",
    "2199943210\n",
    "3987894921\n",
    "9856789892\n",
    "8767896789\n",
    "9899965678\n",
    "```\n",
    "\n",
    "The middle basin, size 14:\n",
    "\n",
    "```\n",
    "2199943210\n",
    "3987894921\n",
    "9856789892\n",
    "8767896789\n",
    "9899965678\n",
    "```\n",
    "\n",
    "The bottom-right basin, size 9:\n",
    "\n",
    "```\n",
    "2199943210\n",
    "3987894921\n",
    "9856789892\n",
    "8767896789\n",
    "9899965678\n",
    "```\n",
    "\n",
    "Find the three largest basins and multiply their sizes together. In the above example, this is 9 * 14 * 9 = 1134.\n",
    "\n",
    "**What do you get if you multiply together the sizes of the three largest basins?**\n"
   ]
  },
  {
   "cell_type": "code",
   "execution_count": 8,
   "metadata": {},
   "outputs": [],
   "source": [
    "groups = []\n",
    "\n",
    "def count_groups(row, col, puzzle):\n",
    "    \"\"\"\n",
    "    Count the size of a group starting at location puzzle[row,col].\n",
    "    \n",
    "    Function returns if it is within bounds, has not been checked already\n",
    "    (i.e., has value of -1), and recursively expands to adjacent locations.\n",
    "    \"\"\"\n",
    "    \n",
    "    # Out of bounds\n",
    "    if (col < 0):\n",
    "        return\n",
    "    if (col >= len(puzzle[0])):\n",
    "        return \n",
    "    if (row < 0):\n",
    "        return\n",
    "    if (row >= len(puzzle)):\n",
    "        return\n",
    "    \n",
    "    # Boundary location\n",
    "    if (puzzle[row][col] == 9):\n",
    "        return\n",
    "    \n",
    "    # Already checked this\n",
    "    if (puzzle[row][col] == -1):\n",
    "        return\n",
    "    \n",
    "    # If we get this far, mark it as being checked by changing value to -1\n",
    "    puzzle[row][col] = -1\n",
    "    \n",
    "    groups[len(groups)-1] += 1         # Increment size of group by one\n",
    "    count_groups(row+1, col, puzzle)   # Go down\n",
    "    count_groups(row-1, col, puzzle)   # Go up\n",
    "    count_groups(row, col+1, puzzle)   # Go right\n",
    "    count_groups(row, col-1, puzzle)   # Go left\n",
    "\n",
    "def get_part2(puzzle):\n",
    "    \"\"\"\n",
    "    Iterate through every location in the height map, create a new group, but only\n",
    "    increment the size if it's an area we haven't searched already.\n",
    "    \"\"\"\n",
    "    for row in range(0, len(puzzle)):\n",
    "        for col in range(0, len(puzzle[0])):\n",
    "            groups.append(0)\n",
    "            count_groups(row, col, puzzle)\n",
    "\n",
    "    return np.prod(sorted(groups, reverse=True)[:3])  # Sort groups, taking the largest three"
   ]
  },
  {
   "cell_type": "markdown",
   "metadata": {},
   "source": [
    "### Run it on the test input"
   ]
  },
  {
   "cell_type": "code",
   "execution_count": 9,
   "metadata": {},
   "outputs": [
    {
     "name": "stdout",
     "output_type": "stream",
     "text": [
      "Looks like its working!!\n"
     ]
    }
   ],
   "source": [
    "# Covert input into a numpy matrix\n",
    "test_input = [\n",
    "    \"2199943210\",\n",
    "    \"3987894921\",\n",
    "    \"9856789892\",\n",
    "    \"8767896789\",\n",
    "    \"9899965678\"\n",
    "]\n",
    "\n",
    "for idx, numstr in enumerate(test_input):\n",
    "    test_input[idx] = [int(char) for char in numstr]\n",
    "\n",
    "test_input = np.array(test_input)\n",
    "\n",
    "known_answer = 1134\n",
    "answer = get_part2(test_input)\n",
    "\n",
    "if known_answer == answer:\n",
    "    print(\"Looks like its working!!\")\n",
    "else:\n",
    "    print(\"There is something wrong... :(\")"
   ]
  },
  {
   "cell_type": "markdown",
   "metadata": {},
   "source": [
    "### Run it on the puzzle file"
   ]
  },
  {
   "cell_type": "code",
   "execution_count": 10,
   "metadata": {
    "scrolled": true
   },
   "outputs": [
    {
     "data": {
      "text/plain": [
       "959136"
      ]
     },
     "execution_count": 10,
     "metadata": {},
     "output_type": "execute_result"
    }
   ],
   "source": [
    "data_file = \"../data/09_data.txt\"\n",
    "\n",
    "with open(data_file, \"r\") as f:\n",
    "    puzzle_input = [line.rstrip(\"\\n\") for line in f]\n",
    "\n",
    "for idx, numstr in enumerate(puzzle_input):\n",
    "    puzzle_input[idx] = [int(char) for char in numstr]\n",
    "\n",
    "puzzle_input = np.array(puzzle_input)\n",
    "    \n",
    "answer = get_part2(puzzle_input)\n",
    "answer"
   ]
  },
  {
   "cell_type": "code",
   "execution_count": 11,
   "metadata": {},
   "outputs": [],
   "source": [
    "import seaborn as sns"
   ]
  },
  {
   "cell_type": "code",
   "execution_count": 12,
   "metadata": {},
   "outputs": [],
   "source": [
    "import matplotlib.pyplot as plt"
   ]
  },
  {
   "cell_type": "code",
   "execution_count": 14,
   "metadata": {},
   "outputs": [
    {
     "data": {
      "image/png": "[encoded data removed]",
      "text/plain": [
       "<Figure size 1080x1080 with 2 Axes>"
      ]
     },
     "metadata": {
      "needs_background": "light"
     },
     "output_type": "display_data"
    }
   ],
   "source": [
    "data_file = \"../data/09_data.txt\"\n",
    "\n",
    "with open(data_file, \"r\") as f:\n",
    "    puzzle_input = [line.rstrip(\"\\n\") for line in f]\n",
    "\n",
    "for idx, numstr in enumerate(puzzle_input):\n",
    "    puzzle_input[idx] = [int(char) for char in numstr]\n",
    "\n",
    "puzzle_input = np.array(puzzle_input)\n",
    "\n",
    "plt.figure(figsize = (15,15))\n",
    "\n",
    "sns.heatmap(puzzle_input)\n",
    "\n",
    "plt.xticks([])\n",
    "plt.yticks([])\n",
    "\n",
    "_ = plt.title(\"The Heightmap!\")"
   ]
  },
  {
   "cell_type": "code",
   "execution_count": null,
   "metadata": {},
   "outputs": [],
   "source": []
  }
 ],
 "metadata": {
  "kernelspec": {
   "display_name": "Python 3",
   "language": "python",
   "name": "python3"
  },
  "language_info": {
   "codemirror_mode": {
    "name": "ipython",
    "version": 3
   },
   "file_extension": ".py",
   "mimetype": "text/x-python",
   "name": "python",
   "nbconvert_exporter": "python",
   "pygments_lexer": "ipython3",
   "version": "3.7.6"
  }
 },
 "nbformat": 4,
 "nbformat_minor": 2
}
