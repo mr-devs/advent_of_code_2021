{
 "cells": [
  {
   "cell_type": "markdown",
   "metadata": {},
   "source": [
    "# --- Day 8: Seven Segment Search ---\n",
    "\n",
    "You barely reach the safety of the cave when the whale smashes into the cave mouth, collapsing it. Sensors indicate another exit to this cave at a much greater depth, so you have no choice but to press on.\n",
    "\n",
    "As your submarine slowly makes its way through the cave system, you notice that the four-digit seven-segment displays in your submarine are malfunctioning; they must have been damaged during the escape. You'll be in a lot of trouble without them, so you'd better figure out what's wrong.\n",
    "\n",
    "Each digit of a seven-segment display is rendered by turning on or off any of seven segments named a through g:\n",
    "\n",
    "```\n",
    "  0:      1:      2:      3:      4:\n",
    " aaaa    ....    aaaa    aaaa    ....\n",
    "b    c  .    c  .    c  .    c  b    c\n",
    "b    c  .    c  .    c  .    c  b    c\n",
    " ....    ....    dddd    dddd    dddd\n",
    "e    f  .    f  e    .  .    f  .    f\n",
    "e    f  .    f  e    .  .    f  .    f\n",
    " gggg    ....    gggg    gggg    ....\n",
    "\n",
    "  5:      6:      7:      8:      9:\n",
    " aaaa    aaaa    aaaa    aaaa    aaaa\n",
    "b    .  b    .  .    c  b    c  b    c\n",
    "b    .  b    .  .    c  b    c  b    c\n",
    " dddd    dddd    ....    dddd    dddd\n",
    ".    f  e    f  .    f  e    f  .    f\n",
    ".    f  e    f  .    f  e    f  .    f\n",
    " gggg    gggg    ....    gggg    gggg\n",
    "```\n",
    "\n",
    "So, to render a 1, only segments c and f would be turned on; the rest would be off. To render a 7, only segments a, c, and f would be turned on.\n",
    "\n",
    "The problem is that the signals which control the segments have been mixed up on each display. The submarine is still trying to display numbers by producing output on signal wires a through g, but those wires are connected to segments randomly. Worse, the wire/segment connections are mixed up separately for each four-digit display! (All of the digits within a display use the same connections, though.)\n",
    "\n",
    "So, you might know that only signal wires b and g are turned on, but that doesn't mean segments b and g are turned on: the only digit that uses two segments is 1, so it must mean segments c and f are meant to be on. With just that information, you still can't tell which wire (b/g) goes to which segment (c/f). For that, you'll need to collect more information.\n",
    "\n",
    "For each display, you watch the changing signals for a while, make a note of all ten unique signal patterns you see, and then write down a single four digit output value (your puzzle input). Using the signal patterns, you should be able to work out which pattern corresponds to which digit.\n",
    "\n",
    "For example, here is what you might see in a single entry in your notes:\n",
    "\n",
    "```\n",
    "acedgfb cdfbe gcdfa fbcad dab cefabd cdfgeb eafb cagedb ab |\n",
    "cdfeb fcadb cdfeb cdbaf\n",
    "```\n",
    "\n",
    "(The entry is wrapped here to two lines so it fits; in your notes, it will all be on a single line.)\n",
    "\n",
    "Each entry consists of ten unique signal patterns, a | delimiter, and finally the four digit output value. Within an entry, the same wire/segment connections are used (but you don't know what the connections actually are). The unique signal patterns correspond to the ten different ways the submarine tries to render a digit using the current wire/segment connections. Because 7 is the only digit that uses three segments, dab in the above example means that to render a 7, signal lines d, a, and b are on. Because 4 is the only digit that uses four segments, eafb means that to render a 4, signal lines e, a, f, and b are on.\n",
    "\n",
    "Using this information, you should be able to work out which combination of signal wires corresponds to each of the ten digits. Then, you can decode the four digit output value. Unfortunately, in the above example, all of the digits in the output value (cdfeb fcadb cdfeb cdbaf) use five segments and are more difficult to deduce.\n",
    "\n",
    "For now, focus on the easy digits. Consider this larger example:\n",
    "\n",
    "```\n",
    "be cfbegad cbdgef fgaecd cgeb fdcge agebfd fecdb fabcd edb |\n",
    "fdgacbe cefdb cefbgd gcbe\n",
    "edbfga begcd cbg gc gcadebf fbgde acbgfd abcde gfcbed gfec |\n",
    "fcgedb cgb dgebacf gc\n",
    "fgaebd cg bdaec gdafb agbcfd gdcbef bgcad gfac gcb cdgabef |\n",
    "cg cg fdcagb cbg\n",
    "fbegcd cbd adcefb dageb afcb bc aefdc ecdab fgdeca fcdbega |\n",
    "efabcd cedba gadfec cb\n",
    "aecbfdg fbg gf bafeg dbefa fcge gcbea fcaegb dgceab fcbdga |\n",
    "gecf egdcabf bgf bfgea\n",
    "fgeab ca afcebg bdacfeg cfaedg gcfdb baec bfadeg bafgc acf |\n",
    "gebdcfa ecba ca fadegcb\n",
    "dbcfg fgd bdegcaf fgec aegbdf ecdfab fbedc dacgb gdcebf gf |\n",
    "cefg dcbef fcge gbcadfe\n",
    "bdfegc cbegaf gecbf dfcage bdacg ed bedf ced adcbefg gebcd |\n",
    "ed bcgafe cdgba cbgef\n",
    "egadfb cdbfeg cegd fecab cgb gbdefca cg fgcdab egfdb bfceg |\n",
    "gbdfcae bgc cg cgb\n",
    "gcafb gcf dcaebfg ecagb gf abcdeg gaef cafbge fdbac fegbdc |\n",
    "fgae cfgab fg bagce\n",
    "```\n",
    "\n",
    "Because the digits 1, 4, 7, and 8 each use a unique number of segments, you should be able to tell which combinations of signals correspond to those digits. Counting only digits in the output values (the part after | on each line), in the above example, there are 26 instances of digits that use a unique number of segments (highlighted above).\n",
    "\n",
    "In the output values, how many times do digits 1, 4, 7, or 8 appear?\n",
    "\n",
    "To begin, get your puzzle input."
   ]
  },
  {
   "cell_type": "code",
   "execution_count": 1,
   "metadata": {},
   "outputs": [],
   "source": [
    "def clean_line(line):\n",
    "    front, end = line.split(\"|\")\n",
    "    front_list = front.split(\" \")[:-1]\n",
    "    end_list = end.split(\" \")[1:]\n",
    "    \n",
    "    return front_list, end_list\n",
    "\n"
   ]
  },
  {
   "cell_type": "code",
   "execution_count": 2,
   "metadata": {},
   "outputs": [],
   "source": [
    "def count_unique_digits(input_puzzle):\n",
    "    \n",
    "    len_lookup = {\n",
    "        3 : 7,\n",
    "        4 : 4,\n",
    "        2 : 1,\n",
    "        7 : 8\n",
    "    }\n",
    "    \n",
    "    unique_counts = 0\n",
    "\n",
    "    for line in input_puzzle:\n",
    "        front, end = clean_line(line)\n",
    "        line_cnts = sum(1 for bit in end if len(bit) in len_lookup)\n",
    "        unique_counts += line_cnts\n",
    "    \n",
    "    return unique_counts"
   ]
  },
  {
   "cell_type": "markdown",
   "metadata": {},
   "source": [
    "### Run it on the test input"
   ]
  },
  {
   "cell_type": "code",
   "execution_count": 3,
   "metadata": {},
   "outputs": [
    {
     "name": "stdout",
     "output_type": "stream",
     "text": [
      "Looks like its working!!\n"
     ]
    }
   ],
   "source": [
    "test_input = [\n",
    "    'be cfbegad cbdgef fgaecd cgeb fdcge agebfd fecdb fabcd edb | fdgacbe cefdb cefbgd gcbe',\n",
    "    'edbfga begcd cbg gc gcadebf fbgde acbgfd abcde gfcbed gfec | fcgedb cgb dgebacf gc',\n",
    "    'fgaebd cg bdaec gdafb agbcfd gdcbef bgcad gfac gcb cdgabef | cg cg fdcagb cbg',\n",
    "    'fbegcd cbd adcefb dageb afcb bc aefdc ecdab fgdeca fcdbega | efabcd cedba gadfec cb',\n",
    "    'aecbfdg fbg gf bafeg dbefa fcge gcbea fcaegb dgceab fcbdga | gecf egdcabf bgf bfgea',\n",
    "    'fgeab ca afcebg bdacfeg cfaedg gcfdb baec bfadeg bafgc acf | gebdcfa ecba ca fadegcb',\n",
    "    'dbcfg fgd bdegcaf fgec aegbdf ecdfab fbedc dacgb gdcebf gf | cefg dcbef fcge gbcadfe',\n",
    "    'bdfegc cbegaf gecbf dfcage bdacg ed bedf ced adcbefg gebcd | ed bcgafe cdgba cbgef',\n",
    "    'egadfb cdbfeg cegd fecab cgb gbdefca cg fgcdab egfdb bfceg | gbdfcae bgc cg cgb',\n",
    "    'gcafb gcf dcaebfg ecagb gf abcdeg gaef cafbge fdbac fegbdc | fgae cfgab fg bagce'\n",
    "]\n",
    "\n",
    "\n",
    "\n",
    "known_answer = 26\n",
    "answer = count_unique_digits(test_input)\n",
    "\n",
    "if known_answer == answer:\n",
    "    print(\"Looks like its working!!\")\n",
    "else:\n",
    "    print(\"There is something wrong... :(\")"
   ]
  },
  {
   "cell_type": "markdown",
   "metadata": {},
   "source": [
    "### Test it on the puzzle input"
   ]
  },
  {
   "cell_type": "code",
   "execution_count": 4,
   "metadata": {},
   "outputs": [
    {
     "data": {
      "text/plain": [
       "294"
      ]
     },
     "execution_count": 4,
     "metadata": {},
     "output_type": "execute_result"
    }
   ],
   "source": [
    "data_file = \"../data/08_data.txt\"\n",
    "\n",
    "with open(data_file, \"r\") as f:\n",
    "    puzzle_input = [line.rstrip(\"\\n\") for line in f]\n",
    "\n",
    "answer = count_unique_digits(puzzle_input)\n",
    "answer"
   ]
  },
  {
   "cell_type": "markdown",
   "metadata": {},
   "source": [
    "## Part Two\n",
    "\n",
    "Through a little deduction, you should now be able to determine the remaining digits. Consider again the first example above:\n",
    "\n",
    "acedgfb cdfbe gcdfa fbcad dab cefabd cdfgeb eafb cagedb ab |\n",
    "cdfeb fcadb cdfeb cdbaf\n",
    "\n",
    "After some careful analysis, the mapping between signal wires and segments only make sense in the following configuration:\n",
    "\n",
    "```\n",
    " dddd\n",
    "e    a\n",
    "e    a\n",
    " ffff\n",
    "g    b\n",
    "g    b\n",
    " cccc\n",
    "```\n",
    "\n",
    "So, the unique signal patterns would correspond to the following digits:\n",
    "\n",
    "```\n",
    "    acedgfb: 8\n",
    "    cdfbe: 5\n",
    "    gcdfa: 2\n",
    "    fbcad: 3\n",
    "    dab: 7\n",
    "    cefabd: 9\n",
    "    cdfgeb: 6\n",
    "    eafb: 4\n",
    "    cagedb: 0\n",
    "    ab: 1\n",
    "```\n",
    "\n",
    "Then, the four digits of the output value can be decoded:\n",
    "\n",
    "```\n",
    "    cdfeb: 5\n",
    "    fcadb: 3\n",
    "    cdfeb: 5\n",
    "    cdbaf: 3\n",
    "```\n",
    "\n",
    "Therefore, the output value for this entry is 5353.\n",
    "\n",
    "Following this same process for each entry in the second, larger example above, the output value of each entry can be determined:\n",
    "\n",
    "```\n",
    "    fdgacbe cefdb cefbgd gcbe: 8394\n",
    "    fcgedb cgb dgebacf gc: 9781\n",
    "    cg cg fdcagb cbg: 1197\n",
    "    efabcd cedba gadfec cb: 9361\n",
    "    gecf egdcabf bgf bfgea: 4873\n",
    "    gebdcfa ecba ca fadegcb: 8418\n",
    "    cefg dcbef fcge gbcadfe: 4548\n",
    "    ed bcgafe cdgba cbgef: 1625\n",
    "    gbdfcae bgc cg cgb: 8717\n",
    "    fgae cfgab fg bagce: 4315\n",
    "```\n",
    "\n",
    "Adding all of the output values in this larger example produces 61229.\n",
    "\n",
    "For each entry, determine all of the wire/segment connections and decode the four-digit output values. What do you get if you add up all of the output values?\n"
   ]
  },
  {
   "cell_type": "code",
   "execution_count": 5,
   "metadata": {},
   "outputs": [],
   "source": [
    "def decode_and_sum_output(input_puzzle):\n",
    "    \n",
    "    # Set unique length look up dictionary\n",
    "    len_lookup = {\n",
    "            3 : 7,\n",
    "            4 : 4,\n",
    "            2 : 1,\n",
    "            7 : 8\n",
    "        }\n",
    "\n",
    "    total = 0\n",
    "    \n",
    "    # For each individual line, find the set of characters\n",
    "    # that match the unique lengths\n",
    "    for idx, line in enumerate(input_puzzle):\n",
    "        mapper = {}\n",
    "        front, end = clean_line(line)\n",
    "        for word in front:\n",
    "            if len(word) in len_lookup:\n",
    "                mapper[len_lookup[len(word)]] = word\n",
    "\n",
    "\n",
    "        ## From here on out, we use process of elimination to figure out\n",
    "        ## which input character set represents which digit\n",
    "\n",
    "        # Find 6\n",
    "        for word in front:\n",
    "            if (len(word) == 6) and any(char not in word for char in mapper[1]):\n",
    "                mapper[6] = word\n",
    "                break\n",
    "\n",
    "        # Find 0\n",
    "        for word in front:\n",
    "            if len(word) == 6 and any(char not in word for char in mapper[4]) and word not in mapper.values():\n",
    "                mapper[0] = word\n",
    "                break\n",
    "\n",
    "        # Find 9 after 6 and 0 with length 6\n",
    "        for word in front:\n",
    "            if len(word) == 6 and word not in mapper.values():\n",
    "                mapper[9] = word\n",
    "                break\n",
    "\n",
    "        # Find 5\n",
    "        for word in front:\n",
    "            if len(word) == 5 and all(char in mapper[6] for char in word):\n",
    "                mapper[5] = word\n",
    "                break\n",
    "\n",
    "        # Find 3\n",
    "        for word in front:\n",
    "            if len(word) == 5 and all(char in mapper[9] for char in word) and word not in mapper.values():\n",
    "                mapper[3] = word\n",
    "                break\n",
    "\n",
    "        # Find 2 after 3 and 5 with length 5\n",
    "        for word in front:\n",
    "            if len(word) == 5 and word not in mapper.values():\n",
    "                mapper[2] = word\n",
    "\n",
    "        # Transform key-value to value-key\n",
    "        mapper = {v: k for k, v in mapper.items()}\n",
    "        \n",
    "        ## Figure out the current four digit number by\n",
    "        # checking the *set* of letters in the output word\n",
    "        # matches the *set* of letters in the input mapper\n",
    "        curr_num = \"\"\n",
    "        for out_word in end:\n",
    "            out_set = set(out_word)\n",
    "\n",
    "            for in_word, num in mapper.items():\n",
    "                in_set = set(in_word)\n",
    "\n",
    "                if in_set == out_set:\n",
    "                    curr_num += str(num)\n",
    "\n",
    "        total += int(curr_num)\n",
    "        \n",
    "    return total"
   ]
  },
  {
   "cell_type": "code",
   "execution_count": 6,
   "metadata": {},
   "outputs": [],
   "source": [
    "### Test with the test input"
   ]
  },
  {
   "cell_type": "code",
   "execution_count": 7,
   "metadata": {},
   "outputs": [
    {
     "name": "stdout",
     "output_type": "stream",
     "text": [
      "Looks like its working!!\n"
     ]
    }
   ],
   "source": [
    "known_answer = 61229\n",
    "answer = decode_and_sum_output(test_input)\n",
    "\n",
    "if known_answer == answer:\n",
    "    print(\"Looks like its working!!\")\n",
    "else:\n",
    "    print(\"There is something wrong... :(\")"
   ]
  },
  {
   "cell_type": "markdown",
   "metadata": {},
   "source": [
    "### Run it on the puzzle input"
   ]
  },
  {
   "cell_type": "code",
   "execution_count": 8,
   "metadata": {},
   "outputs": [
    {
     "data": {
      "text/plain": [
       "973292"
      ]
     },
     "execution_count": 8,
     "metadata": {},
     "output_type": "execute_result"
    }
   ],
   "source": [
    "decode_and_sum_output(puzzle_input)"
   ]
  },
  {
   "cell_type": "code",
   "execution_count": null,
   "metadata": {},
   "outputs": [],
   "source": []
  }
 ],
 "metadata": {
  "kernelspec": {
   "display_name": "Python 3",
   "language": "python",
   "name": "python3"
  },
  "language_info": {
   "codemirror_mode": {
    "name": "ipython",
    "version": 3
   },
   "file_extension": ".py",
   "mimetype": "text/x-python",
   "name": "python",
   "nbconvert_exporter": "python",
   "pygments_lexer": "ipython3",
   "version": "3.7.6"
  }
 },
 "nbformat": 4,
 "nbformat_minor": 2
}
