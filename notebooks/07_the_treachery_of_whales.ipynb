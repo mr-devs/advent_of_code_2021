{
 "cells": [
  {
   "cell_type": "markdown",
   "metadata": {},
   "source": [
    "# --- Day 7: The Treachery of Whales ---\n",
    "\n",
    "## Part 1\n",
    "\n",
    "A giant whale has decided your submarine is its next meal, and it's much faster than you are. There's nowhere to run!\n",
    "\n",
    "Suddenly, a swarm of crabs (each in its own tiny submarine - it's too deep for them otherwise) zooms in to rescue you! They seem to be preparing to blast a hole in the ocean floor; sensors indicate a **massive underground cave system** just beyond where they're aiming!\n",
    "\n",
    "The crab submarines all need to be aligned before they'll have enough power to blast a large enough hole for your submarine to get through. However, it doesn't look like they'll be aligned before the whale catches you! Maybe you can help?\n",
    "\n",
    "There's one major catch - crab submarines can only move horizontally.\n",
    "\n",
    "You quickly make a list of the **horizontal position of each crab** (your puzzle input). Crab submarines have limited fuel, so you need to find a way to make all of their horizontal positions match while requiring them to spend as little fuel as possible.\n",
    "\n",
    "For example, consider the following horizontal positions:\n",
    "\n",
    "```\n",
    "16,1,2,0,4,2,7,1,2,14\n",
    "```\n",
    "\n",
    "This means there's a crab with horizontal position 16, a crab with horizontal position 1, and so on.\n",
    "\n",
    "Each change of 1 step in horizontal position of a single crab costs 1 fuel. You could choose any horizontal position to align them all on, but the one that costs the least fuel is horizontal position 2:\n",
    "\n",
    "```\n",
    "    Move from 16 to 2: 14 fuel\n",
    "    Move from 1 to 2: 1 fuel\n",
    "    Move from 2 to 2: 0 fuel\n",
    "    Move from 0 to 2: 2 fuel\n",
    "    Move from 4 to 2: 2 fuel\n",
    "    Move from 2 to 2: 0 fuel\n",
    "    Move from 7 to 2: 5 fuel\n",
    "    Move from 1 to 2: 1 fuel\n",
    "    Move from 2 to 2: 0 fuel\n",
    "    Move from 14 to 2: 12 fuel\n",
    "```\n",
    "\n",
    "This costs a total of 37 fuel. This is the cheapest possible outcome; more expensive outcomes include aligning at position 1 (41 fuel), position 3 (39 fuel), or position 10 (71 fuel).\n",
    "\n",
    "Determine the horizontal position that the crabs can align to using the least fuel possible. **How much fuel must they spend to align to that position**?\n",
    "\n"
   ]
  },
  {
   "cell_type": "code",
   "execution_count": 1,
   "metadata": {},
   "outputs": [],
   "source": [
    "import numpy as np\n",
    "import altair as alt\n",
    "import pandas as pd"
   ]
  },
  {
   "cell_type": "code",
   "execution_count": 2,
   "metadata": {},
   "outputs": [],
   "source": [
    "def find_min_fuel(crab_locations):\n",
    "    \n",
    "    crab_locations = np.array(crab_locations)\n",
    "    max_val = max(crab_locations)\n",
    "    min_val = min(crab_locations)\n",
    "    \n",
    "    fuel_cost_dict = dict()\n",
    "\n",
    "    for point in range(min_val, max_val+1):\n",
    "        fuel_cost_dict[point] = sum( abs(crab_locations - point) )\n",
    "    \n",
    "    min_key = min(fuel_cost_dict, key=fuel_cost_dict.get)\n",
    "    return min_key, fuel_cost_dict[min_key]"
   ]
  },
  {
   "cell_type": "markdown",
   "metadata": {},
   "source": [
    "### Run function with the test input\n"
   ]
  },
  {
   "cell_type": "code",
   "execution_count": 3,
   "metadata": {},
   "outputs": [
    {
     "name": "stdout",
     "output_type": "stream",
     "text": [
      "Looks like its working!!\n"
     ]
    }
   ],
   "source": [
    "test_input = [16,1,2,0,4,2,7,1,2,14]\n",
    "\n",
    "known_answer = 37\n",
    "\n",
    "min_key, answer = find_min_fuel(test_input)\n",
    "\n",
    "if known_answer == answer:\n",
    "    print(\"Looks like its working!!\")\n",
    "else:\n",
    "    print(\"There is something wrong... :(\")"
   ]
  },
  {
   "cell_type": "markdown",
   "metadata": {},
   "source": [
    "### Visualize the crabs and the minimum fuel location..."
   ]
  },
  {
   "cell_type": "code",
   "execution_count": 4,
   "metadata": {},
   "outputs": [
    {
     "data": {
      "text/html": [
       "\n",
       "<div id=\"altair-viz-3af8f34dbb534bd397c18141c4f83fdc\"></div>\n",
       "<script type=\"text/javascript\">\n",
       "  (function(spec, embedOpt){\n",
       "    let outputDiv = document.currentScript.previousElementSibling;\n",
       "    if (outputDiv.id !== \"altair-viz-3af8f34dbb534bd397c18141c4f83fdc\") {\n",
       "      outputDiv = document.getElementById(\"altair-viz-3af8f34dbb534bd397c18141c4f83fdc\");\n",
       "    }\n",
       "    const paths = {\n",
       "      \"vega\": \"https://cdn.jsdelivr.net/npm//vega@5?noext\",\n",
       "      \"vega-lib\": \"https://cdn.jsdelivr.net/npm//vega-lib?noext\",\n",
       "      \"vega-lite\": \"https://cdn.jsdelivr.net/npm//vega-lite@4.8.1?noext\",\n",
       "      \"vega-embed\": \"https://cdn.jsdelivr.net/npm//vega-embed@6?noext\",\n",
       "    };\n",
       "\n",
       "    function loadScript(lib) {\n",
       "      return new Promise(function(resolve, reject) {\n",
       "        var s = document.createElement('script');\n",
       "        s.src = paths[lib];\n",
       "        s.async = true;\n",
       "        s.onload = () => resolve(paths[lib]);\n",
       "        s.onerror = () => reject(`Error loading script: ${paths[lib]}`);\n",
       "        document.getElementsByTagName(\"head\")[0].appendChild(s);\n",
       "      });\n",
       "    }\n",
       "\n",
       "    function showError(err) {\n",
       "      outputDiv.innerHTML = `<div class=\"error\" style=\"color:red;\">${err}</div>`;\n",
       "      throw err;\n",
       "    }\n",
       "\n",
       "    function displayChart(vegaEmbed) {\n",
       "      vegaEmbed(outputDiv, spec, embedOpt)\n",
       "        .catch(err => showError(`Javascript Error: ${err.message}<br>This usually means there's a typo in your chart specification. See the javascript console for the full traceback.`));\n",
       "    }\n",
       "\n",
       "    if(typeof define === \"function\" && define.amd) {\n",
       "      requirejs.config({paths});\n",
       "      require([\"vega-embed\"], displayChart, err => showError(`Error loading script: ${err.message}`));\n",
       "    } else if (typeof vegaEmbed === \"function\") {\n",
       "      displayChart(vegaEmbed);\n",
       "    } else {\n",
       "      loadScript(\"vega\")\n",
       "        .then(() => loadScript(\"vega-lite\"))\n",
       "        .then(() => loadScript(\"vega-embed\"))\n",
       "        .catch(showError)\n",
       "        .then(() => displayChart(vegaEmbed));\n",
       "    }\n",
       "  })({\"config\": {\"view\": {\"continuousWidth\": 400, \"continuousHeight\": 300}}, \"layer\": [{\"data\": {\"name\": \"data-bd102d998e2ee6f71ac825881686c7b6\"}, \"mark\": \"point\", \"encoding\": {\"x\": {\"type\": \"ordinal\", \"field\": \"idx\"}, \"y\": {\"type\": \"quantitative\", \"field\": \"points\"}}, \"height\": 300, \"width\": 600}, {\"data\": {\"name\": \"data-74981ddc38c2c6e774ac0f2daab4a437\"}, \"mark\": \"rule\", \"encoding\": {\"y\": {\"type\": \"quantitative\", \"field\": \"y\"}}}], \"title\": \"Crabs and minimum fuel location\", \"$schema\": \"https://vega.github.io/schema/vega-lite/v4.8.1.json\", \"datasets\": {\"data-bd102d998e2ee6f71ac825881686c7b6\": [{\"points\": 16, \"idx\": 0, \"min_loc\": 37}, {\"points\": 1, \"idx\": 1, \"min_loc\": 37}, {\"points\": 2, \"idx\": 2, \"min_loc\": 37}, {\"points\": 0, \"idx\": 3, \"min_loc\": 37}, {\"points\": 4, \"idx\": 4, \"min_loc\": 37}, {\"points\": 2, \"idx\": 5, \"min_loc\": 37}, {\"points\": 7, \"idx\": 6, \"min_loc\": 37}, {\"points\": 1, \"idx\": 7, \"min_loc\": 37}, {\"points\": 2, \"idx\": 8, \"min_loc\": 37}, {\"points\": 14, \"idx\": 9, \"min_loc\": 37}], \"data-74981ddc38c2c6e774ac0f2daab4a437\": [{\"y\": 2}]}}, {\"mode\": \"vega-lite\"});\n",
       "</script>"
      ],
      "text/plain": [
       "alt.LayerChart(...)"
      ]
     },
     "execution_count": 4,
     "metadata": {},
     "output_type": "execute_result"
    }
   ],
   "source": [
    "frame = pd.DataFrame({\n",
    "    \"points\" : test_input,\n",
    "    \"idx\" : range(len(test_input)),\n",
    "    \"min_loc\" : [known_answer] * len(test_input)\n",
    "})\n",
    "\n",
    "crabs = alt.Chart(frame).mark_point().encode(\n",
    "    x = alt.X('idx:O'),\n",
    "    y = alt.Y('points:Q')\n",
    ").properties(height = 300, width = 600)\n",
    "\n",
    "line = alt.Chart(pd.DataFrame({'y': [min_key]})).mark_rule().encode(y='y')\n",
    "\n",
    "\n",
    "alt.layer(crabs, line, title = \"Crabs and minimum fuel location\")"
   ]
  },
  {
   "cell_type": "markdown",
   "metadata": {},
   "source": [
    "### Run it again on the puzzle input..."
   ]
  },
  {
   "cell_type": "code",
   "execution_count": 5,
   "metadata": {},
   "outputs": [
    {
     "data": {
      "text/plain": [
       "340987"
      ]
     },
     "execution_count": 5,
     "metadata": {},
     "output_type": "execute_result"
    }
   ],
   "source": [
    "data_file = \"../data/07_data.txt\"\n",
    "\n",
    "with open(data_file, \"r\") as f:\n",
    "    puzzle_input = [line.split(\",\") for line in f][0]\n",
    "\n",
    "puzzle_input = list(map(int, puzzle_input))\n",
    "\n",
    "min_key, answer = find_min_fuel(puzzle_input)\n",
    "answer"
   ]
  },
  {
   "cell_type": "code",
   "execution_count": 6,
   "metadata": {},
   "outputs": [
    {
     "data": {
      "text/plain": [
       "343"
      ]
     },
     "execution_count": 6,
     "metadata": {},
     "output_type": "execute_result"
    }
   ],
   "source": [
    "min_key"
   ]
  },
  {
   "cell_type": "markdown",
   "metadata": {},
   "source": [
    "## Part 2\n",
    "\n",
    "The crabs don't seem interested in your proposed solution. Perhaps you misunderstand crab engineering?\n",
    "\n",
    "As it turns out, crab submarine engines don't burn fuel at a constant rate. **Instead, each change of 1 step in horizontal position costs 1 more unit of fuel than the last: the first step costs 1, the second step costs 2, the third step costs 3, and so on.**\n",
    "\n",
    "As each crab moves, moving further becomes more expensive. This changes the best horizontal position to align them all on; in the example above, this becomes 5:\n",
    "\n",
    "```\n",
    "    Move from 16 to 5: 66 fuel\n",
    "    Move from 1 to 5: 10 fuel\n",
    "    Move from 2 to 5: 6 fuel\n",
    "    Move from 0 to 5: 15 fuel\n",
    "    Move from 4 to 5: 1 fuel\n",
    "    Move from 2 to 5: 6 fuel\n",
    "    Move from 7 to 5: 3 fuel\n",
    "    Move from 1 to 5: 10 fuel\n",
    "    Move from 2 to 5: 6 fuel\n",
    "    Move from 14 to 5: 45 fuel\n",
    "```\n",
    "\n",
    "This costs a total of **168** fuel. This is the new cheapest possible outcome; the old alignment position (2) now costs 206 fuel instead.\n",
    "\n",
    "**Determine the horizontal position that the crabs can align to using the least fuel possible so they can make you an escape route! How much fuel must they spend to align to that position?**\n"
   ]
  },
  {
   "cell_type": "markdown",
   "metadata": {},
   "source": [
    "### New cost function..."
   ]
  },
  {
   "cell_type": "code",
   "execution_count": 7,
   "metadata": {},
   "outputs": [],
   "source": [
    "difference_cache = dict()\n",
    "\n",
    "def repetitive_addition(n):\n",
    "    \"\"\"\n",
    "    This is a recursive cost function which must\n",
    "    run on the difference for each \n",
    "    \"\"\"\n",
    "    if n == 0:\n",
    "        return 0\n",
    "\n",
    "    if n == 1:\n",
    "        return 1\n",
    "    else:\n",
    "        return n + repetitive_addition(n-1)\n",
    "\n",
    "def find_min_fuel_factorial(crab_locations):\n",
    "    \"\"\"\n",
    "    The main change to this function is:\n",
    "        1. The cost function (above) is much more expensive\n",
    "        2. We use a cache to record previously calculated fuel\n",
    "            cost values, making this MUCH more efficient.\n",
    "\n",
    "    The idea here is that the space of possible distances crabs\n",
    "    can travel is well defined. Between...\n",
    "        min fuel cost = 0 and\n",
    "        max fuel cost = max_crab_location - min_crab_location\n",
    "    ... so there is a very high chance that lots of crabs will\n",
    "    need to travel the same distances. As we calculate the cost\n",
    "    of traveling n moves (with the above recursive function), we\n",
    "    can then simply save that value in the `difference_cache` so\n",
    "    we don't need to calculate it again the next time we need it.\n",
    "    \"\"\"\n",
    "    \n",
    "    # Initialize a cost difference cache.\n",
    "    difference_cache = dict()\n",
    "    \n",
    "    # Initialize final fuel cost dictionary\n",
    "    fuel_cost_dict = dict()\n",
    "    \n",
    "    # Convert input to array and get search bounds\n",
    "    crab_locations = np.array(crab_locations)\n",
    "    max_val = max(crab_locations)\n",
    "    min_val = min(crab_locations)\n",
    "    \n",
    "    # Search through  \n",
    "    for point in range(min_val, max_val+1):\n",
    "        abs_val_diff = abs(crab_locations - point)\n",
    "        \n",
    "        fuel_cost = 0\n",
    "        for val in abs_val_diff:\n",
    "            \n",
    "            # Try to draw on our fuel cost difference cache\n",
    "            if val in difference_cache:\n",
    "                fuel_cost += difference_cache[val]\n",
    "            \n",
    "            # Otherwise, we update it with the newly calculated cost\n",
    "            else:\n",
    "                indv_fuel_cost = repetitive_addition(val)\n",
    "                difference_cache[val] = indv_fuel_cost\n",
    "                fuel_cost += indv_fuel_cost\n",
    "\n",
    "        fuel_cost_dict[point] = fuel_cost\n",
    "\n",
    "    min_key = min(fuel_cost_dict, key=fuel_cost_dict.get)\n",
    "    return min_key, fuel_cost_dict[min_key]"
   ]
  },
  {
   "cell_type": "markdown",
   "metadata": {},
   "source": [
    "### Run on test input"
   ]
  },
  {
   "cell_type": "code",
   "execution_count": 8,
   "metadata": {},
   "outputs": [
    {
     "name": "stdout",
     "output_type": "stream",
     "text": [
      "Looks like its working!!\n"
     ]
    }
   ],
   "source": [
    "known_answer = 168\n",
    "\n",
    "min_key, answer = find_min_fuel_factorial(test_input)\n",
    "\n",
    "if known_answer == answer:\n",
    "    print(\"Looks like its working!!\")\n",
    "else:\n",
    "    print(\"There is something wrong... :(\")"
   ]
  },
  {
   "cell_type": "markdown",
   "metadata": {},
   "source": [
    "### Run on puzzle input"
   ]
  },
  {
   "cell_type": "code",
   "execution_count": 9,
   "metadata": {},
   "outputs": [
    {
     "data": {
      "text/plain": [
       "5"
      ]
     },
     "execution_count": 9,
     "metadata": {},
     "output_type": "execute_result"
    }
   ],
   "source": [
    "min_key"
   ]
  },
  {
   "cell_type": "code",
   "execution_count": 10,
   "metadata": {},
   "outputs": [
    {
     "name": "stdout",
     "output_type": "stream",
     "text": [
      "96987874\n"
     ]
    }
   ],
   "source": [
    "min_key, answer = find_min_fuel_factorial(puzzle_input)\n",
    "\n",
    "print(answer)"
   ]
  },
  {
   "cell_type": "code",
   "execution_count": 11,
   "metadata": {},
   "outputs": [
    {
     "data": {
      "text/html": [
       "\n",
       "<div id=\"altair-viz-4677439dbe5d47a7b9f9013382521b0c\"></div>\n",
       "<script type=\"text/javascript\">\n",
       "  (function(spec, embedOpt){\n",
       "    let outputDiv = document.currentScript.previousElementSibling;\n",
       "    if (outputDiv.id !== \"altair-viz-4677439dbe5d47a7b9f9013382521b0c\") {\n",
       "      outputDiv = document.getElementById(\"altair-viz-4677439dbe5d47a7b9f9013382521b0c\");\n",
       "    }\n",
       "    const paths = {\n",
       "      \"vega\": \"https://cdn.jsdelivr.net/npm//vega@5?noext\",\n",
       "      \"vega-lib\": \"https://cdn.jsdelivr.net/npm//vega-lib?noext\",\n",
       "      \"vega-lite\": \"https://cdn.jsdelivr.net/npm//vega-lite@4.8.1?noext\",\n",
       "      \"vega-embed\": \"https://cdn.jsdelivr.net/npm//vega-embed@6?noext\",\n",
       "    };\n",
       "\n",
       "    function loadScript(lib) {\n",
       "      return new Promise(function(resolve, reject) {\n",
       "        var s = document.createElement('script');\n",
       "        s.src = paths[lib];\n",
       "        s.async = true;\n",
       "        s.onload = () => resolve(paths[lib]);\n",
       "        s.onerror = () => reject(`Error loading script: ${paths[lib]}`);\n",
       "        document.getElementsByTagName(\"head\")[0].appendChild(s);\n",
       "      });\n",
       "    }\n",
       "\n",
       "    function showError(err) {\n",
       "      outputDiv.innerHTML = `<div class=\"error\" style=\"color:red;\">${err}</div>`;\n",
       "      throw err;\n",
       "    }\n",
       "\n",
       "    function displayChart(vegaEmbed) {\n",
       "      vegaEmbed(outputDiv, spec, embedOpt)\n",
       "        .catch(err => showError(`Javascript Error: ${err.message}<br>This usually means there's a typo in your chart specification. See the javascript console for the full traceback.`));\n",
       "    }\n",
       "\n",
       "    if(typeof define === \"function\" && define.amd) {\n",
       "      requirejs.config({paths});\n",
       "      require([\"vega-embed\"], displayChart, err => showError(`Error loading script: ${err.message}`));\n",
       "    } else if (typeof vegaEmbed === \"function\") {\n",
       "      displayChart(vegaEmbed);\n",
       "    } else {\n",
       "      loadScript(\"vega\")\n",
       "        .then(() => loadScript(\"vega-lite\"))\n",
       "        .then(() => loadScript(\"vega-embed\"))\n",
       "        .catch(showError)\n",
       "        .then(() => displayChart(vegaEmbed));\n",
       "    }\n",
       "  })({\"config\": {\"view\": {\"continuousWidth\": 400, \"continuousHeight\": 300}}, \"layer\": [{\"data\": {\"name\": \"data-6802c9b91f0fd1bfe9038fe8d2c1571f\"}, \"mark\": \"point\", \"encoding\": {\"x\": {\"type\": \"quantitative\", \"field\": \"jitter\"}, \"y\": {\"type\": \"quantitative\", \"axis\": {\"title\": [\"Crab\", \"Location\"], \"titleAngle\": 0, \"titlePadding\": 20}, \"field\": \"points\"}}, \"height\": 300, \"transform\": [{\"calculate\": \"sqrt(-2*log(random()))*cos(2*PI*random())\", \"as\": \"jitter\"}], \"width\": 800}, {\"data\": {\"name\": \"data-7a3ebea16b9d8f755cf0e1ec17158025\"}, \"mark\": \"rule\", \"encoding\": {\"y\": {\"type\": \"quantitative\", \"field\": \"y\"}}}, {\"data\": {\"name\": \"data-01938aafef8b322b90209acfbc103439\"}, \"mark\": \"text\", \"encoding\": {\"text\": {\"type\": \"nominal\", \"field\": \"text\"}, \"x\": {\"type\": \"quantitative\", \"field\": \"x\"}, \"y\": {\"type\": \"quantitative\", \"field\": \"y\"}}}], \"title\": [\"Crabs and minimum fuel location\", \"(marked with the horizontal line)\"], \"$schema\": \"https://vega.github.io/schema/vega-lite/v4.8.1.json\", \"datasets\": {\"data-6802c9b91f0fd1bfe9038fe8d2c1571f\": [{\"points\": 1101, \"idx\": 0, \"min_loc\": 96987874}, {\"points\": 1, \"idx\": 1, \"min_loc\": 96987874}, {\"points\": 29, \"idx\": 2, \"min_loc\": 96987874}, {\"points\": 67, \"idx\": 3, \"min_loc\": 96987874}, {\"points\": 1102, \"idx\": 4, \"min_loc\": 96987874}, {\"points\": 0, \"idx\": 5, \"min_loc\": 96987874}, {\"points\": 1, \"idx\": 6, \"min_loc\": 96987874}, {\"points\": 65, \"idx\": 7, \"min_loc\": 96987874}, {\"points\": 1008, \"idx\": 8, \"min_loc\": 96987874}, {\"points\": 65, \"idx\": 9, \"min_loc\": 96987874}, {\"points\": 35, \"idx\": 10, \"min_loc\": 96987874}, {\"points\": 66, \"idx\": 11, \"min_loc\": 96987874}, {\"points\": 1005, \"idx\": 12, \"min_loc\": 96987874}, {\"points\": 66, \"idx\": 13, \"min_loc\": 96987874}, {\"points\": 28, \"idx\": 14, \"min_loc\": 96987874}, {\"points\": 1, \"idx\": 15, \"min_loc\": 96987874}, {\"points\": 67, \"idx\": 16, \"min_loc\": 96987874}, {\"points\": 65, \"idx\": 17, \"min_loc\": 96987874}, {\"points\": 20, \"idx\": 18, \"min_loc\": 96987874}, {\"points\": 4, \"idx\": 19, \"min_loc\": 96987874}, {\"points\": 0, \"idx\": 20, \"min_loc\": 96987874}, {\"points\": 1001, \"idx\": 21, \"min_loc\": 96987874}, {\"points\": 65, \"idx\": 22, \"min_loc\": 96987874}, {\"points\": 1, \"idx\": 23, \"min_loc\": 96987874}, {\"points\": 65, \"idx\": 24, \"min_loc\": 96987874}, {\"points\": 1106, \"idx\": 25, \"min_loc\": 96987874}, {\"points\": 0, \"idx\": 26, \"min_loc\": 96987874}, {\"points\": 8, \"idx\": 27, \"min_loc\": 96987874}, {\"points\": 99, \"idx\": 28, \"min_loc\": 96987874}, {\"points\": 35, \"idx\": 29, \"min_loc\": 96987874}, {\"points\": 67, \"idx\": 30, \"min_loc\": 96987874}, {\"points\": 101, \"idx\": 31, \"min_loc\": 96987874}, {\"points\": 99, \"idx\": 32, \"min_loc\": 96987874}, {\"points\": 105, \"idx\": 33, \"min_loc\": 96987874}, {\"points\": 32, \"idx\": 34, \"min_loc\": 96987874}, {\"points\": 110, \"idx\": 35, \"min_loc\": 96987874}, {\"points\": 39, \"idx\": 36, \"min_loc\": 96987874}, {\"points\": 101, \"idx\": 37, \"min_loc\": 96987874}, {\"points\": 115, \"idx\": 38, \"min_loc\": 96987874}, {\"points\": 116, \"idx\": 39, \"min_loc\": 96987874}, {\"points\": 32, \"idx\": 40, \"min_loc\": 96987874}, {\"points\": 112, \"idx\": 41, \"min_loc\": 96987874}, {\"points\": 97, \"idx\": 42, \"min_loc\": 96987874}, {\"points\": 115, \"idx\": 43, \"min_loc\": 96987874}, {\"points\": 32, \"idx\": 44, \"min_loc\": 96987874}, {\"points\": 117, \"idx\": 45, \"min_loc\": 96987874}, {\"points\": 110, \"idx\": 46, \"min_loc\": 96987874}, {\"points\": 101, \"idx\": 47, \"min_loc\": 96987874}, {\"points\": 32, \"idx\": 48, \"min_loc\": 96987874}, {\"points\": 105, \"idx\": 49, \"min_loc\": 96987874}, {\"points\": 110, \"idx\": 50, \"min_loc\": 96987874}, {\"points\": 116, \"idx\": 51, \"min_loc\": 96987874}, {\"points\": 99, \"idx\": 52, \"min_loc\": 96987874}, {\"points\": 111, \"idx\": 53, \"min_loc\": 96987874}, {\"points\": 100, \"idx\": 54, \"min_loc\": 96987874}, {\"points\": 101, \"idx\": 55, \"min_loc\": 96987874}, {\"points\": 32, \"idx\": 56, \"min_loc\": 96987874}, {\"points\": 112, \"idx\": 57, \"min_loc\": 96987874}, {\"points\": 114, \"idx\": 58, \"min_loc\": 96987874}, {\"points\": 111, \"idx\": 59, \"min_loc\": 96987874}, {\"points\": 103, \"idx\": 60, \"min_loc\": 96987874}, {\"points\": 114, \"idx\": 61, \"min_loc\": 96987874}, {\"points\": 97, \"idx\": 62, \"min_loc\": 96987874}, {\"points\": 109, \"idx\": 63, \"min_loc\": 96987874}, {\"points\": 10, \"idx\": 64, \"min_loc\": 96987874}, {\"points\": 591, \"idx\": 65, \"min_loc\": 96987874}, {\"points\": 116, \"idx\": 66, \"min_loc\": 96987874}, {\"points\": 168, \"idx\": 67, \"min_loc\": 96987874}, {\"points\": 1277, \"idx\": 68, \"min_loc\": 96987874}, {\"points\": 832, \"idx\": 69, \"min_loc\": 96987874}, {\"points\": 147, \"idx\": 70, \"min_loc\": 96987874}, {\"points\": 32, \"idx\": 71, \"min_loc\": 96987874}, {\"points\": 237, \"idx\": 72, \"min_loc\": 96987874}, {\"points\": 1060, \"idx\": 73, \"min_loc\": 96987874}, {\"points\": 589, \"idx\": 74, \"min_loc\": 96987874}, {\"points\": 149, \"idx\": 75, \"min_loc\": 96987874}, {\"points\": 100, \"idx\": 76, \"min_loc\": 96987874}, {\"points\": 137, \"idx\": 77, \"min_loc\": 96987874}, {\"points\": 603, \"idx\": 78, \"min_loc\": 96987874}, {\"points\": 662, \"idx\": 79, \"min_loc\": 96987874}, {\"points\": 290, \"idx\": 80, \"min_loc\": 96987874}, {\"points\": 361, \"idx\": 81, \"min_loc\": 96987874}, {\"points\": 139, \"idx\": 82, \"min_loc\": 96987874}, {\"points\": 1145, \"idx\": 83, \"min_loc\": 96987874}, {\"points\": 163, \"idx\": 84, \"min_loc\": 96987874}, {\"points\": 241, \"idx\": 85, \"min_loc\": 96987874}, {\"points\": 524, \"idx\": 86, \"min_loc\": 96987874}, {\"points\": 700, \"idx\": 87, \"min_loc\": 96987874}, {\"points\": 85, \"idx\": 88, \"min_loc\": 96987874}, {\"points\": 94, \"idx\": 89, \"min_loc\": 96987874}, {\"points\": 91, \"idx\": 90, \"min_loc\": 96987874}, {\"points\": 267, \"idx\": 91, \"min_loc\": 96987874}, {\"points\": 615, \"idx\": 92, \"min_loc\": 96987874}, {\"points\": 934, \"idx\": 93, \"min_loc\": 96987874}, {\"points\": 378, \"idx\": 94, \"min_loc\": 96987874}, {\"points\": 134, \"idx\": 95, \"min_loc\": 96987874}, {\"points\": 63, \"idx\": 96, \"min_loc\": 96987874}, {\"points\": 503, \"idx\": 97, \"min_loc\": 96987874}, {\"points\": 1022, \"idx\": 98, \"min_loc\": 96987874}, {\"points\": 87, \"idx\": 99, \"min_loc\": 96987874}, {\"points\": 44, \"idx\": 100, \"min_loc\": 96987874}, {\"points\": 711, \"idx\": 101, \"min_loc\": 96987874}, {\"points\": 26, \"idx\": 102, \"min_loc\": 96987874}, {\"points\": 567, \"idx\": 103, \"min_loc\": 96987874}, {\"points\": 49, \"idx\": 104, \"min_loc\": 96987874}, {\"points\": 141, \"idx\": 105, \"min_loc\": 96987874}, {\"points\": 80, \"idx\": 106, \"min_loc\": 96987874}, {\"points\": 53, \"idx\": 107, \"min_loc\": 96987874}, {\"points\": 1434, \"idx\": 108, \"min_loc\": 96987874}, {\"points\": 153, \"idx\": 109, \"min_loc\": 96987874}, {\"points\": 904, \"idx\": 110, \"min_loc\": 96987874}, {\"points\": 243, \"idx\": 111, \"min_loc\": 96987874}, {\"points\": 119, \"idx\": 112, \"min_loc\": 96987874}, {\"points\": 1064, \"idx\": 113, \"min_loc\": 96987874}, {\"points\": 9, \"idx\": 114, \"min_loc\": 96987874}, {\"points\": 202, \"idx\": 115, \"min_loc\": 96987874}, {\"points\": 18, \"idx\": 116, \"min_loc\": 96987874}, {\"points\": 1410, \"idx\": 117, \"min_loc\": 96987874}, {\"points\": 362, \"idx\": 118, \"min_loc\": 96987874}, {\"points\": 61, \"idx\": 119, \"min_loc\": 96987874}, {\"points\": 220, \"idx\": 120, \"min_loc\": 96987874}, {\"points\": 37, \"idx\": 121, \"min_loc\": 96987874}, {\"points\": 699, \"idx\": 122, \"min_loc\": 96987874}, {\"points\": 557, \"idx\": 123, \"min_loc\": 96987874}, {\"points\": 109, \"idx\": 124, \"min_loc\": 96987874}, {\"points\": 396, \"idx\": 125, \"min_loc\": 96987874}, {\"points\": 1065, \"idx\": 126, \"min_loc\": 96987874}, {\"points\": 1, \"idx\": 127, \"min_loc\": 96987874}, {\"points\": 928, \"idx\": 128, \"min_loc\": 96987874}, {\"points\": 614, \"idx\": 129, \"min_loc\": 96987874}, {\"points\": 351, \"idx\": 130, \"min_loc\": 96987874}, {\"points\": 169, \"idx\": 131, \"min_loc\": 96987874}, {\"points\": 498, \"idx\": 132, \"min_loc\": 96987874}, {\"points\": 282, \"idx\": 133, \"min_loc\": 96987874}, {\"points\": 156, \"idx\": 134, \"min_loc\": 96987874}, {\"points\": 614, \"idx\": 135, \"min_loc\": 96987874}, {\"points\": 879, \"idx\": 136, \"min_loc\": 96987874}, {\"points\": 199, \"idx\": 137, \"min_loc\": 96987874}, {\"points\": 259, \"idx\": 138, \"min_loc\": 96987874}, {\"points\": 1323, \"idx\": 139, \"min_loc\": 96987874}, {\"points\": 283, \"idx\": 140, \"min_loc\": 96987874}, {\"points\": 1128, \"idx\": 141, \"min_loc\": 96987874}, {\"points\": 307, \"idx\": 142, \"min_loc\": 96987874}, {\"points\": 374, \"idx\": 143, \"min_loc\": 96987874}, {\"points\": 60, \"idx\": 144, \"min_loc\": 96987874}, {\"points\": 218, \"idx\": 145, \"min_loc\": 96987874}, {\"points\": 1658, \"idx\": 146, \"min_loc\": 96987874}, {\"points\": 103, \"idx\": 147, \"min_loc\": 96987874}, {\"points\": 369, \"idx\": 148, \"min_loc\": 96987874}, {\"points\": 967, \"idx\": 149, \"min_loc\": 96987874}, {\"points\": 816, \"idx\": 150, \"min_loc\": 96987874}, {\"points\": 1037, \"idx\": 151, \"min_loc\": 96987874}, {\"points\": 694, \"idx\": 152, \"min_loc\": 96987874}, {\"points\": 160, \"idx\": 153, \"min_loc\": 96987874}, {\"points\": 1335, \"idx\": 154, \"min_loc\": 96987874}, {\"points\": 943, \"idx\": 155, \"min_loc\": 96987874}, {\"points\": 222, \"idx\": 156, \"min_loc\": 96987874}, {\"points\": 151, \"idx\": 157, \"min_loc\": 96987874}, {\"points\": 451, \"idx\": 158, \"min_loc\": 96987874}, {\"points\": 289, \"idx\": 159, \"min_loc\": 96987874}, {\"points\": 289, \"idx\": 160, \"min_loc\": 96987874}, {\"points\": 1079, \"idx\": 161, \"min_loc\": 96987874}, {\"points\": 604, \"idx\": 162, \"min_loc\": 96987874}, {\"points\": 165, \"idx\": 163, \"min_loc\": 96987874}, {\"points\": 111, \"idx\": 164, \"min_loc\": 96987874}, {\"points\": 130, \"idx\": 165, \"min_loc\": 96987874}, {\"points\": 228, \"idx\": 166, \"min_loc\": 96987874}, {\"points\": 45, \"idx\": 167, \"min_loc\": 96987874}, {\"points\": 368, \"idx\": 168, \"min_loc\": 96987874}, {\"points\": 153, \"idx\": 169, \"min_loc\": 96987874}, {\"points\": 122, \"idx\": 170, \"min_loc\": 96987874}, {\"points\": 356, \"idx\": 171, \"min_loc\": 96987874}, {\"points\": 923, \"idx\": 172, \"min_loc\": 96987874}, {\"points\": 691, \"idx\": 173, \"min_loc\": 96987874}, {\"points\": 183, \"idx\": 174, \"min_loc\": 96987874}, {\"points\": 386, \"idx\": 175, \"min_loc\": 96987874}, {\"points\": 1296, \"idx\": 176, \"min_loc\": 96987874}, {\"points\": 1868, \"idx\": 177, \"min_loc\": 96987874}, {\"points\": 367, \"idx\": 178, \"min_loc\": 96987874}, {\"points\": 1071, \"idx\": 179, \"min_loc\": 96987874}, {\"points\": 10, \"idx\": 180, \"min_loc\": 96987874}, {\"points\": 11, \"idx\": 181, \"min_loc\": 96987874}, {\"points\": 554, \"idx\": 182, \"min_loc\": 96987874}, {\"points\": 134, \"idx\": 183, \"min_loc\": 96987874}, {\"points\": 354, \"idx\": 184, \"min_loc\": 96987874}, {\"points\": 350, \"idx\": 185, \"min_loc\": 96987874}, {\"points\": 221, \"idx\": 186, \"min_loc\": 96987874}, {\"points\": 598, \"idx\": 187, \"min_loc\": 96987874}, {\"points\": 220, \"idx\": 188, \"min_loc\": 96987874}, {\"points\": 1082, \"idx\": 189, \"min_loc\": 96987874}, {\"points\": 361, \"idx\": 190, \"min_loc\": 96987874}, {\"points\": 35, \"idx\": 191, \"min_loc\": 96987874}, {\"points\": 982, \"idx\": 192, \"min_loc\": 96987874}, {\"points\": 18, \"idx\": 193, \"min_loc\": 96987874}, {\"points\": 4, \"idx\": 194, \"min_loc\": 96987874}, {\"points\": 11, \"idx\": 195, \"min_loc\": 96987874}, {\"points\": 13, \"idx\": 196, \"min_loc\": 96987874}, {\"points\": 262, \"idx\": 197, \"min_loc\": 96987874}, {\"points\": 281, \"idx\": 198, \"min_loc\": 96987874}, {\"points\": 57, \"idx\": 199, \"min_loc\": 96987874}, {\"points\": 325, \"idx\": 200, \"min_loc\": 96987874}, {\"points\": 204, \"idx\": 201, \"min_loc\": 96987874}, {\"points\": 1054, \"idx\": 202, \"min_loc\": 96987874}, {\"points\": 583, \"idx\": 203, \"min_loc\": 96987874}, {\"points\": 1166, \"idx\": 204, \"min_loc\": 96987874}, {\"points\": 474, \"idx\": 205, \"min_loc\": 96987874}, {\"points\": 141, \"idx\": 206, \"min_loc\": 96987874}, {\"points\": 9, \"idx\": 207, \"min_loc\": 96987874}, {\"points\": 788, \"idx\": 208, \"min_loc\": 96987874}, {\"points\": 157, \"idx\": 209, \"min_loc\": 96987874}, {\"points\": 85, \"idx\": 210, \"min_loc\": 96987874}, {\"points\": 345, \"idx\": 211, \"min_loc\": 96987874}, {\"points\": 903, \"idx\": 212, \"min_loc\": 96987874}, {\"points\": 2, \"idx\": 213, \"min_loc\": 96987874}, {\"points\": 365, \"idx\": 214, \"min_loc\": 96987874}, {\"points\": 863, \"idx\": 215, \"min_loc\": 96987874}, {\"points\": 661, \"idx\": 216, \"min_loc\": 96987874}, {\"points\": 140, \"idx\": 217, \"min_loc\": 96987874}, {\"points\": 131, \"idx\": 218, \"min_loc\": 96987874}, {\"points\": 1285, \"idx\": 219, \"min_loc\": 96987874}, {\"points\": 381, \"idx\": 220, \"min_loc\": 96987874}, {\"points\": 348, \"idx\": 221, \"min_loc\": 96987874}, {\"points\": 1443, \"idx\": 222, \"min_loc\": 96987874}, {\"points\": 926, \"idx\": 223, \"min_loc\": 96987874}, {\"points\": 172, \"idx\": 224, \"min_loc\": 96987874}, {\"points\": 374, \"idx\": 225, \"min_loc\": 96987874}, {\"points\": 1284, \"idx\": 226, \"min_loc\": 96987874}, {\"points\": 1285, \"idx\": 227, \"min_loc\": 96987874}, {\"points\": 915, \"idx\": 228, \"min_loc\": 96987874}, {\"points\": 380, \"idx\": 229, \"min_loc\": 96987874}, {\"points\": 433, \"idx\": 230, \"min_loc\": 96987874}, {\"points\": 854, \"idx\": 231, \"min_loc\": 96987874}, {\"points\": 11, \"idx\": 232, \"min_loc\": 96987874}, {\"points\": 352, \"idx\": 233, \"min_loc\": 96987874}, {\"points\": 152, \"idx\": 234, \"min_loc\": 96987874}, {\"points\": 1049, \"idx\": 235, \"min_loc\": 96987874}, {\"points\": 209, \"idx\": 236, \"min_loc\": 96987874}, {\"points\": 982, \"idx\": 237, \"min_loc\": 96987874}, {\"points\": 108, \"idx\": 238, \"min_loc\": 96987874}, {\"points\": 893, \"idx\": 239, \"min_loc\": 96987874}, {\"points\": 46, \"idx\": 240, \"min_loc\": 96987874}, {\"points\": 650, \"idx\": 241, \"min_loc\": 96987874}, {\"points\": 100, \"idx\": 242, \"min_loc\": 96987874}, {\"points\": 1653, \"idx\": 243, \"min_loc\": 96987874}, {\"points\": 834, \"idx\": 244, \"min_loc\": 96987874}, {\"points\": 1716, \"idx\": 245, \"min_loc\": 96987874}, {\"points\": 693, \"idx\": 246, \"min_loc\": 96987874}, {\"points\": 24, \"idx\": 247, \"min_loc\": 96987874}, {\"points\": 138, \"idx\": 248, \"min_loc\": 96987874}, {\"points\": 555, \"idx\": 249, \"min_loc\": 96987874}, {\"points\": 112, \"idx\": 250, \"min_loc\": 96987874}, {\"points\": 184, \"idx\": 251, \"min_loc\": 96987874}, {\"points\": 8, \"idx\": 252, \"min_loc\": 96987874}, {\"points\": 448, \"idx\": 253, \"min_loc\": 96987874}, {\"points\": 239, \"idx\": 254, \"min_loc\": 96987874}, {\"points\": 1226, \"idx\": 255, \"min_loc\": 96987874}, {\"points\": 45, \"idx\": 256, \"min_loc\": 96987874}, {\"points\": 788, \"idx\": 257, \"min_loc\": 96987874}, {\"points\": 109, \"idx\": 258, \"min_loc\": 96987874}, {\"points\": 178, \"idx\": 259, \"min_loc\": 96987874}, {\"points\": 517, \"idx\": 260, \"min_loc\": 96987874}, {\"points\": 173, \"idx\": 261, \"min_loc\": 96987874}, {\"points\": 152, \"idx\": 262, \"min_loc\": 96987874}, {\"points\": 364, \"idx\": 263, \"min_loc\": 96987874}, {\"points\": 190, \"idx\": 264, \"min_loc\": 96987874}, {\"points\": 344, \"idx\": 265, \"min_loc\": 96987874}, {\"points\": 951, \"idx\": 266, \"min_loc\": 96987874}, {\"points\": 97, \"idx\": 267, \"min_loc\": 96987874}, {\"points\": 644, \"idx\": 268, \"min_loc\": 96987874}, {\"points\": 716, \"idx\": 269, \"min_loc\": 96987874}, {\"points\": 746, \"idx\": 270, \"min_loc\": 96987874}, {\"points\": 882, \"idx\": 271, \"min_loc\": 96987874}, {\"points\": 58, \"idx\": 272, \"min_loc\": 96987874}, {\"points\": 74, \"idx\": 273, \"min_loc\": 96987874}, {\"points\": 149, \"idx\": 274, \"min_loc\": 96987874}, {\"points\": 716, \"idx\": 275, \"min_loc\": 96987874}, {\"points\": 1316, \"idx\": 276, \"min_loc\": 96987874}, {\"points\": 312, \"idx\": 277, \"min_loc\": 96987874}, {\"points\": 53, \"idx\": 278, \"min_loc\": 96987874}, {\"points\": 323, \"idx\": 279, \"min_loc\": 96987874}, {\"points\": 606, \"idx\": 280, \"min_loc\": 96987874}, {\"points\": 648, \"idx\": 281, \"min_loc\": 96987874}, {\"points\": 906, \"idx\": 282, \"min_loc\": 96987874}, {\"points\": 62, \"idx\": 283, \"min_loc\": 96987874}, {\"points\": 4, \"idx\": 284, \"min_loc\": 96987874}, {\"points\": 275, \"idx\": 285, \"min_loc\": 96987874}, {\"points\": 563, \"idx\": 286, \"min_loc\": 96987874}, {\"points\": 1092, \"idx\": 287, \"min_loc\": 96987874}, {\"points\": 192, \"idx\": 288, \"min_loc\": 96987874}, {\"points\": 527, \"idx\": 289, \"min_loc\": 96987874}, {\"points\": 6, \"idx\": 290, \"min_loc\": 96987874}, {\"points\": 58, \"idx\": 291, \"min_loc\": 96987874}, {\"points\": 376, \"idx\": 292, \"min_loc\": 96987874}, {\"points\": 350, \"idx\": 293, \"min_loc\": 96987874}, {\"points\": 594, \"idx\": 294, \"min_loc\": 96987874}, {\"points\": 50, \"idx\": 295, \"min_loc\": 96987874}, {\"points\": 179, \"idx\": 296, \"min_loc\": 96987874}, {\"points\": 483, \"idx\": 297, \"min_loc\": 96987874}, {\"points\": 693, \"idx\": 298, \"min_loc\": 96987874}, {\"points\": 321, \"idx\": 299, \"min_loc\": 96987874}, {\"points\": 1428, \"idx\": 300, \"min_loc\": 96987874}, {\"points\": 946, \"idx\": 301, \"min_loc\": 96987874}, {\"points\": 41, \"idx\": 302, \"min_loc\": 96987874}, {\"points\": 581, \"idx\": 303, \"min_loc\": 96987874}, {\"points\": 1794, \"idx\": 304, \"min_loc\": 96987874}, {\"points\": 1801, \"idx\": 305, \"min_loc\": 96987874}, {\"points\": 270, \"idx\": 306, \"min_loc\": 96987874}, {\"points\": 1344, \"idx\": 307, \"min_loc\": 96987874}, {\"points\": 902, \"idx\": 308, \"min_loc\": 96987874}, {\"points\": 1347, \"idx\": 309, \"min_loc\": 96987874}, {\"points\": 1064, \"idx\": 310, \"min_loc\": 96987874}, {\"points\": 19, \"idx\": 311, \"min_loc\": 96987874}, {\"points\": 168, \"idx\": 312, \"min_loc\": 96987874}, {\"points\": 687, \"idx\": 313, \"min_loc\": 96987874}, {\"points\": 1631, \"idx\": 314, \"min_loc\": 96987874}, {\"points\": 394, \"idx\": 315, \"min_loc\": 96987874}, {\"points\": 27, \"idx\": 316, \"min_loc\": 96987874}, {\"points\": 1327, \"idx\": 317, \"min_loc\": 96987874}, {\"points\": 98, \"idx\": 318, \"min_loc\": 96987874}, {\"points\": 212, \"idx\": 319, \"min_loc\": 96987874}, {\"points\": 285, \"idx\": 320, \"min_loc\": 96987874}, {\"points\": 436, \"idx\": 321, \"min_loc\": 96987874}, {\"points\": 602, \"idx\": 322, \"min_loc\": 96987874}, {\"points\": 936, \"idx\": 323, \"min_loc\": 96987874}, {\"points\": 760, \"idx\": 324, \"min_loc\": 96987874}, {\"points\": 175, \"idx\": 325, \"min_loc\": 96987874}, {\"points\": 984, \"idx\": 326, \"min_loc\": 96987874}, {\"points\": 1062, \"idx\": 327, \"min_loc\": 96987874}, {\"points\": 842, \"idx\": 328, \"min_loc\": 96987874}, {\"points\": 1133, \"idx\": 329, \"min_loc\": 96987874}, {\"points\": 572, \"idx\": 330, \"min_loc\": 96987874}, {\"points\": 153, \"idx\": 331, \"min_loc\": 96987874}, {\"points\": 792, \"idx\": 332, \"min_loc\": 96987874}, {\"points\": 677, \"idx\": 333, \"min_loc\": 96987874}, {\"points\": 1223, \"idx\": 334, \"min_loc\": 96987874}, {\"points\": 1949, \"idx\": 335, \"min_loc\": 96987874}, {\"points\": 296, \"idx\": 336, \"min_loc\": 96987874}, {\"points\": 221, \"idx\": 337, \"min_loc\": 96987874}, {\"points\": 1421, \"idx\": 338, \"min_loc\": 96987874}, {\"points\": 159, \"idx\": 339, \"min_loc\": 96987874}, {\"points\": 441, \"idx\": 340, \"min_loc\": 96987874}, {\"points\": 316, \"idx\": 341, \"min_loc\": 96987874}, {\"points\": 808, \"idx\": 342, \"min_loc\": 96987874}, {\"points\": 797, \"idx\": 343, \"min_loc\": 96987874}, {\"points\": 278, \"idx\": 344, \"min_loc\": 96987874}, {\"points\": 613, \"idx\": 345, \"min_loc\": 96987874}, {\"points\": 216, \"idx\": 346, \"min_loc\": 96987874}, {\"points\": 147, \"idx\": 347, \"min_loc\": 96987874}, {\"points\": 353, \"idx\": 348, \"min_loc\": 96987874}, {\"points\": 379, \"idx\": 349, \"min_loc\": 96987874}, {\"points\": 23, \"idx\": 350, \"min_loc\": 96987874}, {\"points\": 566, \"idx\": 351, \"min_loc\": 96987874}, {\"points\": 1149, \"idx\": 352, \"min_loc\": 96987874}, {\"points\": 76, \"idx\": 353, \"min_loc\": 96987874}, {\"points\": 232, \"idx\": 354, \"min_loc\": 96987874}, {\"points\": 431, \"idx\": 355, \"min_loc\": 96987874}, {\"points\": 1818, \"idx\": 356, \"min_loc\": 96987874}, {\"points\": 43, \"idx\": 357, \"min_loc\": 96987874}, {\"points\": 81, \"idx\": 358, \"min_loc\": 96987874}, {\"points\": 538, \"idx\": 359, \"min_loc\": 96987874}, {\"points\": 129, \"idx\": 360, \"min_loc\": 96987874}, {\"points\": 80, \"idx\": 361, \"min_loc\": 96987874}, {\"points\": 40, \"idx\": 362, \"min_loc\": 96987874}, {\"points\": 27, \"idx\": 363, \"min_loc\": 96987874}, {\"points\": 1178, \"idx\": 364, \"min_loc\": 96987874}, {\"points\": 348, \"idx\": 365, \"min_loc\": 96987874}, {\"points\": 60, \"idx\": 366, \"min_loc\": 96987874}, {\"points\": 512, \"idx\": 367, \"min_loc\": 96987874}, {\"points\": 343, \"idx\": 368, \"min_loc\": 96987874}, {\"points\": 378, \"idx\": 369, \"min_loc\": 96987874}, {\"points\": 321, \"idx\": 370, \"min_loc\": 96987874}, {\"points\": 1162, \"idx\": 371, \"min_loc\": 96987874}, {\"points\": 932, \"idx\": 372, \"min_loc\": 96987874}, {\"points\": 14, \"idx\": 373, \"min_loc\": 96987874}, {\"points\": 1293, \"idx\": 374, \"min_loc\": 96987874}, {\"points\": 72, \"idx\": 375, \"min_loc\": 96987874}, {\"points\": 846, \"idx\": 376, \"min_loc\": 96987874}, {\"points\": 351, \"idx\": 377, \"min_loc\": 96987874}, {\"points\": 632, \"idx\": 378, \"min_loc\": 96987874}, {\"points\": 1561, \"idx\": 379, \"min_loc\": 96987874}, {\"points\": 247, \"idx\": 380, \"min_loc\": 96987874}, {\"points\": 161, \"idx\": 381, \"min_loc\": 96987874}, {\"points\": 519, \"idx\": 382, \"min_loc\": 96987874}, {\"points\": 97, \"idx\": 383, \"min_loc\": 96987874}, {\"points\": 1361, \"idx\": 384, \"min_loc\": 96987874}, {\"points\": 350, \"idx\": 385, \"min_loc\": 96987874}, {\"points\": 683, \"idx\": 386, \"min_loc\": 96987874}, {\"points\": 118, \"idx\": 387, \"min_loc\": 96987874}, {\"points\": 142, \"idx\": 388, \"min_loc\": 96987874}, {\"points\": 16, \"idx\": 389, \"min_loc\": 96987874}, {\"points\": 34, \"idx\": 390, \"min_loc\": 96987874}, {\"points\": 1577, \"idx\": 391, \"min_loc\": 96987874}, {\"points\": 436, \"idx\": 392, \"min_loc\": 96987874}, {\"points\": 327, \"idx\": 393, \"min_loc\": 96987874}, {\"points\": 118, \"idx\": 394, \"min_loc\": 96987874}, {\"points\": 1102, \"idx\": 395, \"min_loc\": 96987874}, {\"points\": 195, \"idx\": 396, \"min_loc\": 96987874}, {\"points\": 154, \"idx\": 397, \"min_loc\": 96987874}, {\"points\": 579, \"idx\": 398, \"min_loc\": 96987874}, {\"points\": 1147, \"idx\": 399, \"min_loc\": 96987874}, {\"points\": 164, \"idx\": 400, \"min_loc\": 96987874}, {\"points\": 272, \"idx\": 401, \"min_loc\": 96987874}, {\"points\": 773, \"idx\": 402, \"min_loc\": 96987874}, {\"points\": 1017, \"idx\": 403, \"min_loc\": 96987874}, {\"points\": 556, \"idx\": 404, \"min_loc\": 96987874}, {\"points\": 549, \"idx\": 405, \"min_loc\": 96987874}, {\"points\": 589, \"idx\": 406, \"min_loc\": 96987874}, {\"points\": 32, \"idx\": 407, \"min_loc\": 96987874}, {\"points\": 52, \"idx\": 408, \"min_loc\": 96987874}, {\"points\": 118, \"idx\": 409, \"min_loc\": 96987874}, {\"points\": 417, \"idx\": 410, \"min_loc\": 96987874}, {\"points\": 394, \"idx\": 411, \"min_loc\": 96987874}, {\"points\": 133, \"idx\": 412, \"min_loc\": 96987874}, {\"points\": 29, \"idx\": 413, \"min_loc\": 96987874}, {\"points\": 512, \"idx\": 414, \"min_loc\": 96987874}, {\"points\": 1582, \"idx\": 415, \"min_loc\": 96987874}, {\"points\": 126, \"idx\": 416, \"min_loc\": 96987874}, {\"points\": 1106, \"idx\": 417, \"min_loc\": 96987874}, {\"points\": 156, \"idx\": 418, \"min_loc\": 96987874}, {\"points\": 175, \"idx\": 419, \"min_loc\": 96987874}, {\"points\": 484, \"idx\": 420, \"min_loc\": 96987874}, {\"points\": 875, \"idx\": 421, \"min_loc\": 96987874}, {\"points\": 467, \"idx\": 422, \"min_loc\": 96987874}, {\"points\": 544, \"idx\": 423, \"min_loc\": 96987874}, {\"points\": 300, \"idx\": 424, \"min_loc\": 96987874}, {\"points\": 462, \"idx\": 425, \"min_loc\": 96987874}, {\"points\": 22, \"idx\": 426, \"min_loc\": 96987874}, {\"points\": 437, \"idx\": 427, \"min_loc\": 96987874}, {\"points\": 255, \"idx\": 428, \"min_loc\": 96987874}, {\"points\": 507, \"idx\": 429, \"min_loc\": 96987874}, {\"points\": 355, \"idx\": 430, \"min_loc\": 96987874}, {\"points\": 405, \"idx\": 431, \"min_loc\": 96987874}, {\"points\": 1096, \"idx\": 432, \"min_loc\": 96987874}, {\"points\": 36, \"idx\": 433, \"min_loc\": 96987874}, {\"points\": 375, \"idx\": 434, \"min_loc\": 96987874}, {\"points\": 261, \"idx\": 435, \"min_loc\": 96987874}, {\"points\": 284, \"idx\": 436, \"min_loc\": 96987874}, {\"points\": 282, \"idx\": 437, \"min_loc\": 96987874}, {\"points\": 13, \"idx\": 438, \"min_loc\": 96987874}, {\"points\": 457, \"idx\": 439, \"min_loc\": 96987874}, {\"points\": 434, \"idx\": 440, \"min_loc\": 96987874}, {\"points\": 509, \"idx\": 441, \"min_loc\": 96987874}, {\"points\": 12, \"idx\": 442, \"min_loc\": 96987874}, {\"points\": 684, \"idx\": 443, \"min_loc\": 96987874}, {\"points\": 80, \"idx\": 444, \"min_loc\": 96987874}, {\"points\": 614, \"idx\": 445, \"min_loc\": 96987874}, {\"points\": 2, \"idx\": 446, \"min_loc\": 96987874}, {\"points\": 222, \"idx\": 447, \"min_loc\": 96987874}, {\"points\": 657, \"idx\": 448, \"min_loc\": 96987874}, {\"points\": 554, \"idx\": 449, \"min_loc\": 96987874}, {\"points\": 520, \"idx\": 450, \"min_loc\": 96987874}, {\"points\": 710, \"idx\": 451, \"min_loc\": 96987874}, {\"points\": 825, \"idx\": 452, \"min_loc\": 96987874}, {\"points\": 242, \"idx\": 453, \"min_loc\": 96987874}, {\"points\": 29, \"idx\": 454, \"min_loc\": 96987874}, {\"points\": 144, \"idx\": 455, \"min_loc\": 96987874}, {\"points\": 570, \"idx\": 456, \"min_loc\": 96987874}, {\"points\": 1116, \"idx\": 457, \"min_loc\": 96987874}, {\"points\": 182, \"idx\": 458, \"min_loc\": 96987874}, {\"points\": 861, \"idx\": 459, \"min_loc\": 96987874}, {\"points\": 209, \"idx\": 460, \"min_loc\": 96987874}, {\"points\": 159, \"idx\": 461, \"min_loc\": 96987874}, {\"points\": 247, \"idx\": 462, \"min_loc\": 96987874}, {\"points\": 191, \"idx\": 463, \"min_loc\": 96987874}, {\"points\": 423, \"idx\": 464, \"min_loc\": 96987874}, {\"points\": 733, \"idx\": 465, \"min_loc\": 96987874}, {\"points\": 386, \"idx\": 466, \"min_loc\": 96987874}, {\"points\": 385, \"idx\": 467, \"min_loc\": 96987874}, {\"points\": 774, \"idx\": 468, \"min_loc\": 96987874}, {\"points\": 810, \"idx\": 469, \"min_loc\": 96987874}, {\"points\": 22, \"idx\": 470, \"min_loc\": 96987874}, {\"points\": 131, \"idx\": 471, \"min_loc\": 96987874}, {\"points\": 76, \"idx\": 472, \"min_loc\": 96987874}, {\"points\": 105, \"idx\": 473, \"min_loc\": 96987874}, {\"points\": 235, \"idx\": 474, \"min_loc\": 96987874}, {\"points\": 1522, \"idx\": 475, \"min_loc\": 96987874}, {\"points\": 91, \"idx\": 476, \"min_loc\": 96987874}, {\"points\": 2, \"idx\": 477, \"min_loc\": 96987874}, {\"points\": 422, \"idx\": 478, \"min_loc\": 96987874}, {\"points\": 1133, \"idx\": 479, \"min_loc\": 96987874}, {\"points\": 81, \"idx\": 480, \"min_loc\": 96987874}, {\"points\": 11, \"idx\": 481, \"min_loc\": 96987874}, {\"points\": 151, \"idx\": 482, \"min_loc\": 96987874}, {\"points\": 341, \"idx\": 483, \"min_loc\": 96987874}, {\"points\": 317, \"idx\": 484, \"min_loc\": 96987874}, {\"points\": 1332, \"idx\": 485, \"min_loc\": 96987874}, {\"points\": 873, \"idx\": 486, \"min_loc\": 96987874}, {\"points\": 1218, \"idx\": 487, \"min_loc\": 96987874}, {\"points\": 374, \"idx\": 488, \"min_loc\": 96987874}, {\"points\": 0, \"idx\": 489, \"min_loc\": 96987874}, {\"points\": 49, \"idx\": 490, \"min_loc\": 96987874}, {\"points\": 19, \"idx\": 491, \"min_loc\": 96987874}, {\"points\": 73, \"idx\": 492, \"min_loc\": 96987874}, {\"points\": 268, \"idx\": 493, \"min_loc\": 96987874}, {\"points\": 332, \"idx\": 494, \"min_loc\": 96987874}, {\"points\": 60, \"idx\": 495, \"min_loc\": 96987874}, {\"points\": 558, \"idx\": 496, \"min_loc\": 96987874}, {\"points\": 244, \"idx\": 497, \"min_loc\": 96987874}, {\"points\": 595, \"idx\": 498, \"min_loc\": 96987874}, {\"points\": 210, \"idx\": 499, \"min_loc\": 96987874}, {\"points\": 535, \"idx\": 500, \"min_loc\": 96987874}, {\"points\": 7, \"idx\": 501, \"min_loc\": 96987874}, {\"points\": 409, \"idx\": 502, \"min_loc\": 96987874}, {\"points\": 985, \"idx\": 503, \"min_loc\": 96987874}, {\"points\": 970, \"idx\": 504, \"min_loc\": 96987874}, {\"points\": 223, \"idx\": 505, \"min_loc\": 96987874}, {\"points\": 286, \"idx\": 506, \"min_loc\": 96987874}, {\"points\": 84, \"idx\": 507, \"min_loc\": 96987874}, {\"points\": 486, \"idx\": 508, \"min_loc\": 96987874}, {\"points\": 246, \"idx\": 509, \"min_loc\": 96987874}, {\"points\": 675, \"idx\": 510, \"min_loc\": 96987874}, {\"points\": 1112, \"idx\": 511, \"min_loc\": 96987874}, {\"points\": 494, \"idx\": 512, \"min_loc\": 96987874}, {\"points\": 219, \"idx\": 513, \"min_loc\": 96987874}, {\"points\": 605, \"idx\": 514, \"min_loc\": 96987874}, {\"points\": 298, \"idx\": 515, \"min_loc\": 96987874}, {\"points\": 642, \"idx\": 516, \"min_loc\": 96987874}, {\"points\": 139, \"idx\": 517, \"min_loc\": 96987874}, {\"points\": 81, \"idx\": 518, \"min_loc\": 96987874}, {\"points\": 152, \"idx\": 519, \"min_loc\": 96987874}, {\"points\": 899, \"idx\": 520, \"min_loc\": 96987874}, {\"points\": 1181, \"idx\": 521, \"min_loc\": 96987874}, {\"points\": 157, \"idx\": 522, \"min_loc\": 96987874}, {\"points\": 1055, \"idx\": 523, \"min_loc\": 96987874}, {\"points\": 290, \"idx\": 524, \"min_loc\": 96987874}, {\"points\": 199, \"idx\": 525, \"min_loc\": 96987874}, {\"points\": 28, \"idx\": 526, \"min_loc\": 96987874}, {\"points\": 604, \"idx\": 527, \"min_loc\": 96987874}, {\"points\": 9, \"idx\": 528, \"min_loc\": 96987874}, {\"points\": 52, \"idx\": 529, \"min_loc\": 96987874}, {\"points\": 125, \"idx\": 530, \"min_loc\": 96987874}, {\"points\": 723, \"idx\": 531, \"min_loc\": 96987874}, {\"points\": 218, \"idx\": 532, \"min_loc\": 96987874}, {\"points\": 211, \"idx\": 533, \"min_loc\": 96987874}, {\"points\": 519, \"idx\": 534, \"min_loc\": 96987874}, {\"points\": 591, \"idx\": 535, \"min_loc\": 96987874}, {\"points\": 121, \"idx\": 536, \"min_loc\": 96987874}, {\"points\": 264, \"idx\": 537, \"min_loc\": 96987874}, {\"points\": 157, \"idx\": 538, \"min_loc\": 96987874}, {\"points\": 225, \"idx\": 539, \"min_loc\": 96987874}, {\"points\": 1431, \"idx\": 540, \"min_loc\": 96987874}, {\"points\": 172, \"idx\": 541, \"min_loc\": 96987874}, {\"points\": 26, \"idx\": 542, \"min_loc\": 96987874}, {\"points\": 424, \"idx\": 543, \"min_loc\": 96987874}, {\"points\": 212, \"idx\": 544, \"min_loc\": 96987874}, {\"points\": 1173, \"idx\": 545, \"min_loc\": 96987874}, {\"points\": 377, \"idx\": 546, \"min_loc\": 96987874}, {\"points\": 228, \"idx\": 547, \"min_loc\": 96987874}, {\"points\": 597, \"idx\": 548, \"min_loc\": 96987874}, {\"points\": 63, \"idx\": 549, \"min_loc\": 96987874}, {\"points\": 380, \"idx\": 550, \"min_loc\": 96987874}, {\"points\": 0, \"idx\": 551, \"min_loc\": 96987874}, {\"points\": 596, \"idx\": 552, \"min_loc\": 96987874}, {\"points\": 489, \"idx\": 553, \"min_loc\": 96987874}, {\"points\": 38, \"idx\": 554, \"min_loc\": 96987874}, {\"points\": 28, \"idx\": 555, \"min_loc\": 96987874}, {\"points\": 876, \"idx\": 556, \"min_loc\": 96987874}, {\"points\": 108, \"idx\": 557, \"min_loc\": 96987874}, {\"points\": 1669, \"idx\": 558, \"min_loc\": 96987874}, {\"points\": 169, \"idx\": 559, \"min_loc\": 96987874}, {\"points\": 295, \"idx\": 560, \"min_loc\": 96987874}, {\"points\": 318, \"idx\": 561, \"min_loc\": 96987874}, {\"points\": 251, \"idx\": 562, \"min_loc\": 96987874}, {\"points\": 847, \"idx\": 563, \"min_loc\": 96987874}, {\"points\": 1023, \"idx\": 564, \"min_loc\": 96987874}, {\"points\": 181, \"idx\": 565, \"min_loc\": 96987874}, {\"points\": 668, \"idx\": 566, \"min_loc\": 96987874}, {\"points\": 721, \"idx\": 567, \"min_loc\": 96987874}, {\"points\": 205, \"idx\": 568, \"min_loc\": 96987874}, {\"points\": 1376, \"idx\": 569, \"min_loc\": 96987874}, {\"points\": 1890, \"idx\": 570, \"min_loc\": 96987874}, {\"points\": 85, \"idx\": 571, \"min_loc\": 96987874}, {\"points\": 488, \"idx\": 572, \"min_loc\": 96987874}, {\"points\": 636, \"idx\": 573, \"min_loc\": 96987874}, {\"points\": 1022, \"idx\": 574, \"min_loc\": 96987874}, {\"points\": 21, \"idx\": 575, \"min_loc\": 96987874}, {\"points\": 1482, \"idx\": 576, \"min_loc\": 96987874}, {\"points\": 703, \"idx\": 577, \"min_loc\": 96987874}, {\"points\": 599, \"idx\": 578, \"min_loc\": 96987874}, {\"points\": 1136, \"idx\": 579, \"min_loc\": 96987874}, {\"points\": 427, \"idx\": 580, \"min_loc\": 96987874}, {\"points\": 513, \"idx\": 581, \"min_loc\": 96987874}, {\"points\": 186, \"idx\": 582, \"min_loc\": 96987874}, {\"points\": 1320, \"idx\": 583, \"min_loc\": 96987874}, {\"points\": 491, \"idx\": 584, \"min_loc\": 96987874}, {\"points\": 1502, \"idx\": 585, \"min_loc\": 96987874}, {\"points\": 528, \"idx\": 586, \"min_loc\": 96987874}, {\"points\": 4, \"idx\": 587, \"min_loc\": 96987874}, {\"points\": 247, \"idx\": 588, \"min_loc\": 96987874}, {\"points\": 393, \"idx\": 589, \"min_loc\": 96987874}, {\"points\": 152, \"idx\": 590, \"min_loc\": 96987874}, {\"points\": 363, \"idx\": 591, \"min_loc\": 96987874}, {\"points\": 243, \"idx\": 592, \"min_loc\": 96987874}, {\"points\": 1292, \"idx\": 593, \"min_loc\": 96987874}, {\"points\": 508, \"idx\": 594, \"min_loc\": 96987874}, {\"points\": 619, \"idx\": 595, \"min_loc\": 96987874}, {\"points\": 818, \"idx\": 596, \"min_loc\": 96987874}, {\"points\": 151, \"idx\": 597, \"min_loc\": 96987874}, {\"points\": 30, \"idx\": 598, \"min_loc\": 96987874}, {\"points\": 298, \"idx\": 599, \"min_loc\": 96987874}, {\"points\": 89, \"idx\": 600, \"min_loc\": 96987874}, {\"points\": 466, \"idx\": 601, \"min_loc\": 96987874}, {\"points\": 25, \"idx\": 602, \"min_loc\": 96987874}, {\"points\": 393, \"idx\": 603, \"min_loc\": 96987874}, {\"points\": 641, \"idx\": 604, \"min_loc\": 96987874}, {\"points\": 841, \"idx\": 605, \"min_loc\": 96987874}, {\"points\": 200, \"idx\": 606, \"min_loc\": 96987874}, {\"points\": 815, \"idx\": 607, \"min_loc\": 96987874}, {\"points\": 947, \"idx\": 608, \"min_loc\": 96987874}, {\"points\": 260, \"idx\": 609, \"min_loc\": 96987874}, {\"points\": 332, \"idx\": 610, \"min_loc\": 96987874}, {\"points\": 422, \"idx\": 611, \"min_loc\": 96987874}, {\"points\": 958, \"idx\": 612, \"min_loc\": 96987874}, {\"points\": 1186, \"idx\": 613, \"min_loc\": 96987874}, {\"points\": 382, \"idx\": 614, \"min_loc\": 96987874}, {\"points\": 814, \"idx\": 615, \"min_loc\": 96987874}, {\"points\": 1045, \"idx\": 616, \"min_loc\": 96987874}, {\"points\": 830, \"idx\": 617, \"min_loc\": 96987874}, {\"points\": 230, \"idx\": 618, \"min_loc\": 96987874}, {\"points\": 221, \"idx\": 619, \"min_loc\": 96987874}, {\"points\": 673, \"idx\": 620, \"min_loc\": 96987874}, {\"points\": 499, \"idx\": 621, \"min_loc\": 96987874}, {\"points\": 1402, \"idx\": 622, \"min_loc\": 96987874}, {\"points\": 867, \"idx\": 623, \"min_loc\": 96987874}, {\"points\": 635, \"idx\": 624, \"min_loc\": 96987874}, {\"points\": 57, \"idx\": 625, \"min_loc\": 96987874}, {\"points\": 814, \"idx\": 626, \"min_loc\": 96987874}, {\"points\": 1149, \"idx\": 627, \"min_loc\": 96987874}, {\"points\": 1027, \"idx\": 628, \"min_loc\": 96987874}, {\"points\": 830, \"idx\": 629, \"min_loc\": 96987874}, {\"points\": 331, \"idx\": 630, \"min_loc\": 96987874}, {\"points\": 1346, \"idx\": 631, \"min_loc\": 96987874}, {\"points\": 299, \"idx\": 632, \"min_loc\": 96987874}, {\"points\": 0, \"idx\": 633, \"min_loc\": 96987874}, {\"points\": 92, \"idx\": 634, \"min_loc\": 96987874}, {\"points\": 543, \"idx\": 635, \"min_loc\": 96987874}, {\"points\": 160, \"idx\": 636, \"min_loc\": 96987874}, {\"points\": 339, \"idx\": 637, \"min_loc\": 96987874}, {\"points\": 809, \"idx\": 638, \"min_loc\": 96987874}, {\"points\": 59, \"idx\": 639, \"min_loc\": 96987874}, {\"points\": 1128, \"idx\": 640, \"min_loc\": 96987874}, {\"points\": 259, \"idx\": 641, \"min_loc\": 96987874}, {\"points\": 271, \"idx\": 642, \"min_loc\": 96987874}, {\"points\": 1593, \"idx\": 643, \"min_loc\": 96987874}, {\"points\": 475, \"idx\": 644, \"min_loc\": 96987874}, {\"points\": 71, \"idx\": 645, \"min_loc\": 96987874}, {\"points\": 574, \"idx\": 646, \"min_loc\": 96987874}, {\"points\": 95, \"idx\": 647, \"min_loc\": 96987874}, {\"points\": 220, \"idx\": 648, \"min_loc\": 96987874}, {\"points\": 158, \"idx\": 649, \"min_loc\": 96987874}, {\"points\": 288, \"idx\": 650, \"min_loc\": 96987874}, {\"points\": 443, \"idx\": 651, \"min_loc\": 96987874}, {\"points\": 1052, \"idx\": 652, \"min_loc\": 96987874}, {\"points\": 156, \"idx\": 653, \"min_loc\": 96987874}, {\"points\": 450, \"idx\": 654, \"min_loc\": 96987874}, {\"points\": 1218, \"idx\": 655, \"min_loc\": 96987874}, {\"points\": 177, \"idx\": 656, \"min_loc\": 96987874}, {\"points\": 1351, \"idx\": 657, \"min_loc\": 96987874}, {\"points\": 204, \"idx\": 658, \"min_loc\": 96987874}, {\"points\": 1229, \"idx\": 659, \"min_loc\": 96987874}, {\"points\": 765, \"idx\": 660, \"min_loc\": 96987874}, {\"points\": 596, \"idx\": 661, \"min_loc\": 96987874}, {\"points\": 565, \"idx\": 662, \"min_loc\": 96987874}, {\"points\": 62, \"idx\": 663, \"min_loc\": 96987874}, {\"points\": 313, \"idx\": 664, \"min_loc\": 96987874}, {\"points\": 7, \"idx\": 665, \"min_loc\": 96987874}, {\"points\": 313, \"idx\": 666, \"min_loc\": 96987874}, {\"points\": 53, \"idx\": 667, \"min_loc\": 96987874}, {\"points\": 575, \"idx\": 668, \"min_loc\": 96987874}, {\"points\": 10, \"idx\": 669, \"min_loc\": 96987874}, {\"points\": 448, \"idx\": 670, \"min_loc\": 96987874}, {\"points\": 5, \"idx\": 671, \"min_loc\": 96987874}, {\"points\": 705, \"idx\": 672, \"min_loc\": 96987874}, {\"points\": 360, \"idx\": 673, \"min_loc\": 96987874}, {\"points\": 1371, \"idx\": 674, \"min_loc\": 96987874}, {\"points\": 1372, \"idx\": 675, \"min_loc\": 96987874}, {\"points\": 315, \"idx\": 676, \"min_loc\": 96987874}, {\"points\": 256, \"idx\": 677, \"min_loc\": 96987874}, {\"points\": 1323, \"idx\": 678, \"min_loc\": 96987874}, {\"points\": 136, \"idx\": 679, \"min_loc\": 96987874}, {\"points\": 62, \"idx\": 680, \"min_loc\": 96987874}, {\"points\": 807, \"idx\": 681, \"min_loc\": 96987874}, {\"points\": 238, \"idx\": 682, \"min_loc\": 96987874}, {\"points\": 343, \"idx\": 683, \"min_loc\": 96987874}, {\"points\": 173, \"idx\": 684, \"min_loc\": 96987874}, {\"points\": 904, \"idx\": 685, \"min_loc\": 96987874}, {\"points\": 67, \"idx\": 686, \"min_loc\": 96987874}, {\"points\": 680, \"idx\": 687, \"min_loc\": 96987874}, {\"points\": 162, \"idx\": 688, \"min_loc\": 96987874}, {\"points\": 509, \"idx\": 689, \"min_loc\": 96987874}, {\"points\": 231, \"idx\": 690, \"min_loc\": 96987874}, {\"points\": 524, \"idx\": 691, \"min_loc\": 96987874}, {\"points\": 196, \"idx\": 692, \"min_loc\": 96987874}, {\"points\": 218, \"idx\": 693, \"min_loc\": 96987874}, {\"points\": 681, \"idx\": 694, \"min_loc\": 96987874}, {\"points\": 715, \"idx\": 695, \"min_loc\": 96987874}, {\"points\": 552, \"idx\": 696, \"min_loc\": 96987874}, {\"points\": 658, \"idx\": 697, \"min_loc\": 96987874}, {\"points\": 183, \"idx\": 698, \"min_loc\": 96987874}, {\"points\": 1670, \"idx\": 699, \"min_loc\": 96987874}, {\"points\": 379, \"idx\": 700, \"min_loc\": 96987874}, {\"points\": 203, \"idx\": 701, \"min_loc\": 96987874}, {\"points\": 37, \"idx\": 702, \"min_loc\": 96987874}, {\"points\": 8, \"idx\": 703, \"min_loc\": 96987874}, {\"points\": 409, \"idx\": 704, \"min_loc\": 96987874}, {\"points\": 1403, \"idx\": 705, \"min_loc\": 96987874}, {\"points\": 371, \"idx\": 706, \"min_loc\": 96987874}, {\"points\": 69, \"idx\": 707, \"min_loc\": 96987874}, {\"points\": 361, \"idx\": 708, \"min_loc\": 96987874}, {\"points\": 511, \"idx\": 709, \"min_loc\": 96987874}, {\"points\": 272, \"idx\": 710, \"min_loc\": 96987874}, {\"points\": 498, \"idx\": 711, \"min_loc\": 96987874}, {\"points\": 46, \"idx\": 712, \"min_loc\": 96987874}, {\"points\": 489, \"idx\": 713, \"min_loc\": 96987874}, {\"points\": 1346, \"idx\": 714, \"min_loc\": 96987874}, {\"points\": 857, \"idx\": 715, \"min_loc\": 96987874}, {\"points\": 69, \"idx\": 716, \"min_loc\": 96987874}, {\"points\": 233, \"idx\": 717, \"min_loc\": 96987874}, {\"points\": 117, \"idx\": 718, \"min_loc\": 96987874}, {\"points\": 318, \"idx\": 719, \"min_loc\": 96987874}, {\"points\": 1199, \"idx\": 720, \"min_loc\": 96987874}, {\"points\": 977, \"idx\": 721, \"min_loc\": 96987874}, {\"points\": 871, \"idx\": 722, \"min_loc\": 96987874}, {\"points\": 308, \"idx\": 723, \"min_loc\": 96987874}, {\"points\": 435, \"idx\": 724, \"min_loc\": 96987874}, {\"points\": 42, \"idx\": 725, \"min_loc\": 96987874}, {\"points\": 797, \"idx\": 726, \"min_loc\": 96987874}, {\"points\": 550, \"idx\": 727, \"min_loc\": 96987874}, {\"points\": 406, \"idx\": 728, \"min_loc\": 96987874}, {\"points\": 91, \"idx\": 729, \"min_loc\": 96987874}, {\"points\": 171, \"idx\": 730, \"min_loc\": 96987874}, {\"points\": 133, \"idx\": 731, \"min_loc\": 96987874}, {\"points\": 1148, \"idx\": 732, \"min_loc\": 96987874}, {\"points\": 104, \"idx\": 733, \"min_loc\": 96987874}, {\"points\": 324, \"idx\": 734, \"min_loc\": 96987874}, {\"points\": 1489, \"idx\": 735, \"min_loc\": 96987874}, {\"points\": 942, \"idx\": 736, \"min_loc\": 96987874}, {\"points\": 530, \"idx\": 737, \"min_loc\": 96987874}, {\"points\": 468, \"idx\": 738, \"min_loc\": 96987874}, {\"points\": 196, \"idx\": 739, \"min_loc\": 96987874}, {\"points\": 293, \"idx\": 740, \"min_loc\": 96987874}, {\"points\": 534, \"idx\": 741, \"min_loc\": 96987874}, {\"points\": 613, \"idx\": 742, \"min_loc\": 96987874}, {\"points\": 73, \"idx\": 743, \"min_loc\": 96987874}, {\"points\": 29, \"idx\": 744, \"min_loc\": 96987874}, {\"points\": 497, \"idx\": 745, \"min_loc\": 96987874}, {\"points\": 814, \"idx\": 746, \"min_loc\": 96987874}, {\"points\": 1199, \"idx\": 747, \"min_loc\": 96987874}, {\"points\": 466, \"idx\": 748, \"min_loc\": 96987874}, {\"points\": 312, \"idx\": 749, \"min_loc\": 96987874}, {\"points\": 138, \"idx\": 750, \"min_loc\": 96987874}, {\"points\": 70, \"idx\": 751, \"min_loc\": 96987874}, {\"points\": 33, \"idx\": 752, \"min_loc\": 96987874}, {\"points\": 178, \"idx\": 753, \"min_loc\": 96987874}, {\"points\": 29, \"idx\": 754, \"min_loc\": 96987874}, {\"points\": 1549, \"idx\": 755, \"min_loc\": 96987874}, {\"points\": 98, \"idx\": 756, \"min_loc\": 96987874}, {\"points\": 442, \"idx\": 757, \"min_loc\": 96987874}, {\"points\": 23, \"idx\": 758, \"min_loc\": 96987874}, {\"points\": 1142, \"idx\": 759, \"min_loc\": 96987874}, {\"points\": 1074, \"idx\": 760, \"min_loc\": 96987874}, {\"points\": 551, \"idx\": 761, \"min_loc\": 96987874}, {\"points\": 12, \"idx\": 762, \"min_loc\": 96987874}, {\"points\": 741, \"idx\": 763, \"min_loc\": 96987874}, {\"points\": 1277, \"idx\": 764, \"min_loc\": 96987874}, {\"points\": 1278, \"idx\": 765, \"min_loc\": 96987874}, {\"points\": 217, \"idx\": 766, \"min_loc\": 96987874}, {\"points\": 1839, \"idx\": 767, \"min_loc\": 96987874}, {\"points\": 294, \"idx\": 768, \"min_loc\": 96987874}, {\"points\": 200, \"idx\": 769, \"min_loc\": 96987874}, {\"points\": 212, \"idx\": 770, \"min_loc\": 96987874}, {\"points\": 1014, \"idx\": 771, \"min_loc\": 96987874}, {\"points\": 383, \"idx\": 772, \"min_loc\": 96987874}, {\"points\": 1067, \"idx\": 773, \"min_loc\": 96987874}, {\"points\": 30, \"idx\": 774, \"min_loc\": 96987874}, {\"points\": 1257, \"idx\": 775, \"min_loc\": 96987874}, {\"points\": 279, \"idx\": 776, \"min_loc\": 96987874}, {\"points\": 93, \"idx\": 777, \"min_loc\": 96987874}, {\"points\": 786, \"idx\": 778, \"min_loc\": 96987874}, {\"points\": 96, \"idx\": 779, \"min_loc\": 96987874}, {\"points\": 219, \"idx\": 780, \"min_loc\": 96987874}, {\"points\": 639, \"idx\": 781, \"min_loc\": 96987874}, {\"points\": 932, \"idx\": 782, \"min_loc\": 96987874}, {\"points\": 983, \"idx\": 783, \"min_loc\": 96987874}, {\"points\": 45, \"idx\": 784, \"min_loc\": 96987874}, {\"points\": 633, \"idx\": 785, \"min_loc\": 96987874}, {\"points\": 687, \"idx\": 786, \"min_loc\": 96987874}, {\"points\": 67, \"idx\": 787, \"min_loc\": 96987874}, {\"points\": 726, \"idx\": 788, \"min_loc\": 96987874}, {\"points\": 11, \"idx\": 789, \"min_loc\": 96987874}, {\"points\": 162, \"idx\": 790, \"min_loc\": 96987874}, {\"points\": 297, \"idx\": 791, \"min_loc\": 96987874}, {\"points\": 1157, \"idx\": 792, \"min_loc\": 96987874}, {\"points\": 44, \"idx\": 793, \"min_loc\": 96987874}, {\"points\": 273, \"idx\": 794, \"min_loc\": 96987874}, {\"points\": 450, \"idx\": 795, \"min_loc\": 96987874}, {\"points\": 1689, \"idx\": 796, \"min_loc\": 96987874}, {\"points\": 1070, \"idx\": 797, \"min_loc\": 96987874}, {\"points\": 1407, \"idx\": 798, \"min_loc\": 96987874}, {\"points\": 198, \"idx\": 799, \"min_loc\": 96987874}, {\"points\": 1288, \"idx\": 800, \"min_loc\": 96987874}, {\"points\": 790, \"idx\": 801, \"min_loc\": 96987874}, {\"points\": 118, \"idx\": 802, \"min_loc\": 96987874}, {\"points\": 1221, \"idx\": 803, \"min_loc\": 96987874}, {\"points\": 310, \"idx\": 804, \"min_loc\": 96987874}, {\"points\": 655, \"idx\": 805, \"min_loc\": 96987874}, {\"points\": 285, \"idx\": 806, \"min_loc\": 96987874}, {\"points\": 167, \"idx\": 807, \"min_loc\": 96987874}, {\"points\": 115, \"idx\": 808, \"min_loc\": 96987874}, {\"points\": 870, \"idx\": 809, \"min_loc\": 96987874}, {\"points\": 156, \"idx\": 810, \"min_loc\": 96987874}, {\"points\": 217, \"idx\": 811, \"min_loc\": 96987874}, {\"points\": 444, \"idx\": 812, \"min_loc\": 96987874}, {\"points\": 518, \"idx\": 813, \"min_loc\": 96987874}, {\"points\": 1422, \"idx\": 814, \"min_loc\": 96987874}, {\"points\": 52, \"idx\": 815, \"min_loc\": 96987874}, {\"points\": 48, \"idx\": 816, \"min_loc\": 96987874}, {\"points\": 721, \"idx\": 817, \"min_loc\": 96987874}, {\"points\": 34, \"idx\": 818, \"min_loc\": 96987874}, {\"points\": 381, \"idx\": 819, \"min_loc\": 96987874}, {\"points\": 41, \"idx\": 820, \"min_loc\": 96987874}, {\"points\": 299, \"idx\": 821, \"min_loc\": 96987874}, {\"points\": 386, \"idx\": 822, \"min_loc\": 96987874}, {\"points\": 506, \"idx\": 823, \"min_loc\": 96987874}, {\"points\": 327, \"idx\": 824, \"min_loc\": 96987874}, {\"points\": 1201, \"idx\": 825, \"min_loc\": 96987874}, {\"points\": 262, \"idx\": 826, \"min_loc\": 96987874}, {\"points\": 5, \"idx\": 827, \"min_loc\": 96987874}, {\"points\": 42, \"idx\": 828, \"min_loc\": 96987874}, {\"points\": 448, \"idx\": 829, \"min_loc\": 96987874}, {\"points\": 246, \"idx\": 830, \"min_loc\": 96987874}, {\"points\": 145, \"idx\": 831, \"min_loc\": 96987874}, {\"points\": 1268, \"idx\": 832, \"min_loc\": 96987874}, {\"points\": 1047, \"idx\": 833, \"min_loc\": 96987874}, {\"points\": 944, \"idx\": 834, \"min_loc\": 96987874}, {\"points\": 428, \"idx\": 835, \"min_loc\": 96987874}, {\"points\": 29, \"idx\": 836, \"min_loc\": 96987874}, {\"points\": 1, \"idx\": 837, \"min_loc\": 96987874}, {\"points\": 265, \"idx\": 838, \"min_loc\": 96987874}, {\"points\": 381, \"idx\": 839, \"min_loc\": 96987874}, {\"points\": 767, \"idx\": 840, \"min_loc\": 96987874}, {\"points\": 481, \"idx\": 841, \"min_loc\": 96987874}, {\"points\": 409, \"idx\": 842, \"min_loc\": 96987874}, {\"points\": 1747, \"idx\": 843, \"min_loc\": 96987874}, {\"points\": 110, \"idx\": 844, \"min_loc\": 96987874}, {\"points\": 1238, \"idx\": 845, \"min_loc\": 96987874}, {\"points\": 1821, \"idx\": 846, \"min_loc\": 96987874}, {\"points\": 35, \"idx\": 847, \"min_loc\": 96987874}, {\"points\": 594, \"idx\": 848, \"min_loc\": 96987874}, {\"points\": 1, \"idx\": 849, \"min_loc\": 96987874}, {\"points\": 784, \"idx\": 850, \"min_loc\": 96987874}, {\"points\": 301, \"idx\": 851, \"min_loc\": 96987874}, {\"points\": 1228, \"idx\": 852, \"min_loc\": 96987874}, {\"points\": 72, \"idx\": 853, \"min_loc\": 96987874}, {\"points\": 1247, \"idx\": 854, \"min_loc\": 96987874}, {\"points\": 161, \"idx\": 855, \"min_loc\": 96987874}, {\"points\": 582, \"idx\": 856, \"min_loc\": 96987874}, {\"points\": 380, \"idx\": 857, \"min_loc\": 96987874}, {\"points\": 48, \"idx\": 858, \"min_loc\": 96987874}, {\"points\": 51, \"idx\": 859, \"min_loc\": 96987874}, {\"points\": 904, \"idx\": 860, \"min_loc\": 96987874}, {\"points\": 751, \"idx\": 861, \"min_loc\": 96987874}, {\"points\": 179, \"idx\": 862, \"min_loc\": 96987874}, {\"points\": 409, \"idx\": 863, \"min_loc\": 96987874}, {\"points\": 1219, \"idx\": 864, \"min_loc\": 96987874}, {\"points\": 238, \"idx\": 865, \"min_loc\": 96987874}, {\"points\": 453, \"idx\": 866, \"min_loc\": 96987874}, {\"points\": 42, \"idx\": 867, \"min_loc\": 96987874}, {\"points\": 248, \"idx\": 868, \"min_loc\": 96987874}, {\"points\": 99, \"idx\": 869, \"min_loc\": 96987874}, {\"points\": 94, \"idx\": 870, \"min_loc\": 96987874}, {\"points\": 10, \"idx\": 871, \"min_loc\": 96987874}, {\"points\": 387, \"idx\": 872, \"min_loc\": 96987874}, {\"points\": 257, \"idx\": 873, \"min_loc\": 96987874}, {\"points\": 70, \"idx\": 874, \"min_loc\": 96987874}, {\"points\": 1339, \"idx\": 875, \"min_loc\": 96987874}, {\"points\": 130, \"idx\": 876, \"min_loc\": 96987874}, {\"points\": 943, \"idx\": 877, \"min_loc\": 96987874}, {\"points\": 569, \"idx\": 878, \"min_loc\": 96987874}, {\"points\": 986, \"idx\": 879, \"min_loc\": 96987874}, {\"points\": 46, \"idx\": 880, \"min_loc\": 96987874}, {\"points\": 100, \"idx\": 881, \"min_loc\": 96987874}, {\"points\": 77, \"idx\": 882, \"min_loc\": 96987874}, {\"points\": 270, \"idx\": 883, \"min_loc\": 96987874}, {\"points\": 906, \"idx\": 884, \"min_loc\": 96987874}, {\"points\": 506, \"idx\": 885, \"min_loc\": 96987874}, {\"points\": 851, \"idx\": 886, \"min_loc\": 96987874}, {\"points\": 1, \"idx\": 887, \"min_loc\": 96987874}, {\"points\": 1550, \"idx\": 888, \"min_loc\": 96987874}, {\"points\": 983, \"idx\": 889, \"min_loc\": 96987874}, {\"points\": 192, \"idx\": 890, \"min_loc\": 96987874}, {\"points\": 351, \"idx\": 891, \"min_loc\": 96987874}, {\"points\": 233, \"idx\": 892, \"min_loc\": 96987874}, {\"points\": 798, \"idx\": 893, \"min_loc\": 96987874}, {\"points\": 1408, \"idx\": 894, \"min_loc\": 96987874}, {\"points\": 1029, \"idx\": 895, \"min_loc\": 96987874}, {\"points\": 215, \"idx\": 896, \"min_loc\": 96987874}, {\"points\": 95, \"idx\": 897, \"min_loc\": 96987874}, {\"points\": 240, \"idx\": 898, \"min_loc\": 96987874}, {\"points\": 1615, \"idx\": 899, \"min_loc\": 96987874}, {\"points\": 522, \"idx\": 900, \"min_loc\": 96987874}, {\"points\": 1285, \"idx\": 901, \"min_loc\": 96987874}, {\"points\": 392, \"idx\": 902, \"min_loc\": 96987874}, {\"points\": 133, \"idx\": 903, \"min_loc\": 96987874}, {\"points\": 794, \"idx\": 904, \"min_loc\": 96987874}, {\"points\": 431, \"idx\": 905, \"min_loc\": 96987874}, {\"points\": 195, \"idx\": 906, \"min_loc\": 96987874}, {\"points\": 959, \"idx\": 907, \"min_loc\": 96987874}, {\"points\": 504, \"idx\": 908, \"min_loc\": 96987874}, {\"points\": 679, \"idx\": 909, \"min_loc\": 96987874}, {\"points\": 50, \"idx\": 910, \"min_loc\": 96987874}, {\"points\": 837, \"idx\": 911, \"min_loc\": 96987874}, {\"points\": 58, \"idx\": 912, \"min_loc\": 96987874}, {\"points\": 964, \"idx\": 913, \"min_loc\": 96987874}, {\"points\": 342, \"idx\": 914, \"min_loc\": 96987874}, {\"points\": 1548, \"idx\": 915, \"min_loc\": 96987874}, {\"points\": 218, \"idx\": 916, \"min_loc\": 96987874}, {\"points\": 388, \"idx\": 917, \"min_loc\": 96987874}, {\"points\": 596, \"idx\": 918, \"min_loc\": 96987874}, {\"points\": 448, \"idx\": 919, \"min_loc\": 96987874}, {\"points\": 1377, \"idx\": 920, \"min_loc\": 96987874}, {\"points\": 617, \"idx\": 921, \"min_loc\": 96987874}, {\"points\": 442, \"idx\": 922, \"min_loc\": 96987874}, {\"points\": 210, \"idx\": 923, \"min_loc\": 96987874}, {\"points\": 412, \"idx\": 924, \"min_loc\": 96987874}, {\"points\": 355, \"idx\": 925, \"min_loc\": 96987874}, {\"points\": 1249, \"idx\": 926, \"min_loc\": 96987874}, {\"points\": 1094, \"idx\": 927, \"min_loc\": 96987874}, {\"points\": 1060, \"idx\": 928, \"min_loc\": 96987874}, {\"points\": 1718, \"idx\": 929, \"min_loc\": 96987874}, {\"points\": 131, \"idx\": 930, \"min_loc\": 96987874}, {\"points\": 248, \"idx\": 931, \"min_loc\": 96987874}, {\"points\": 4, \"idx\": 932, \"min_loc\": 96987874}, {\"points\": 301, \"idx\": 933, \"min_loc\": 96987874}, {\"points\": 809, \"idx\": 934, \"min_loc\": 96987874}, {\"points\": 980, \"idx\": 935, \"min_loc\": 96987874}, {\"points\": 166, \"idx\": 936, \"min_loc\": 96987874}, {\"points\": 80, \"idx\": 937, \"min_loc\": 96987874}, {\"points\": 282, \"idx\": 938, \"min_loc\": 96987874}, {\"points\": 1846, \"idx\": 939, \"min_loc\": 96987874}, {\"points\": 482, \"idx\": 940, \"min_loc\": 96987874}, {\"points\": 89, \"idx\": 941, \"min_loc\": 96987874}, {\"points\": 221, \"idx\": 942, \"min_loc\": 96987874}, {\"points\": 22, \"idx\": 943, \"min_loc\": 96987874}, {\"points\": 80, \"idx\": 944, \"min_loc\": 96987874}, {\"points\": 356, \"idx\": 945, \"min_loc\": 96987874}, {\"points\": 279, \"idx\": 946, \"min_loc\": 96987874}, {\"points\": 330, \"idx\": 947, \"min_loc\": 96987874}, {\"points\": 13, \"idx\": 948, \"min_loc\": 96987874}, {\"points\": 471, \"idx\": 949, \"min_loc\": 96987874}, {\"points\": 457, \"idx\": 950, \"min_loc\": 96987874}, {\"points\": 28, \"idx\": 951, \"min_loc\": 96987874}, {\"points\": 254, \"idx\": 952, \"min_loc\": 96987874}, {\"points\": 174, \"idx\": 953, \"min_loc\": 96987874}, {\"points\": 110, \"idx\": 954, \"min_loc\": 96987874}, {\"points\": 1742, \"idx\": 955, \"min_loc\": 96987874}, {\"points\": 26, \"idx\": 956, \"min_loc\": 96987874}, {\"points\": 633, \"idx\": 957, \"min_loc\": 96987874}, {\"points\": 1708, \"idx\": 958, \"min_loc\": 96987874}, {\"points\": 818, \"idx\": 959, \"min_loc\": 96987874}, {\"points\": 441, \"idx\": 960, \"min_loc\": 96987874}, {\"points\": 1578, \"idx\": 961, \"min_loc\": 96987874}, {\"points\": 1013, \"idx\": 962, \"min_loc\": 96987874}, {\"points\": 1312, \"idx\": 963, \"min_loc\": 96987874}, {\"points\": 897, \"idx\": 964, \"min_loc\": 96987874}, {\"points\": 458, \"idx\": 965, \"min_loc\": 96987874}, {\"points\": 11, \"idx\": 966, \"min_loc\": 96987874}, {\"points\": 696, \"idx\": 967, \"min_loc\": 96987874}, {\"points\": 1084, \"idx\": 968, \"min_loc\": 96987874}, {\"points\": 453, \"idx\": 969, \"min_loc\": 96987874}, {\"points\": 507, \"idx\": 970, \"min_loc\": 96987874}, {\"points\": 315, \"idx\": 971, \"min_loc\": 96987874}, {\"points\": 149, \"idx\": 972, \"min_loc\": 96987874}, {\"points\": 413, \"idx\": 973, \"min_loc\": 96987874}, {\"points\": 7, \"idx\": 974, \"min_loc\": 96987874}, {\"points\": 36, \"idx\": 975, \"min_loc\": 96987874}, {\"points\": 1000, \"idx\": 976, \"min_loc\": 96987874}, {\"points\": 458, \"idx\": 977, \"min_loc\": 96987874}, {\"points\": 181, \"idx\": 978, \"min_loc\": 96987874}, {\"points\": 286, \"idx\": 979, \"min_loc\": 96987874}, {\"points\": 300, \"idx\": 980, \"min_loc\": 96987874}, {\"points\": 132, \"idx\": 981, \"min_loc\": 96987874}, {\"points\": 1453, \"idx\": 982, \"min_loc\": 96987874}, {\"points\": 76, \"idx\": 983, \"min_loc\": 96987874}, {\"points\": 293, \"idx\": 984, \"min_loc\": 96987874}, {\"points\": 415, \"idx\": 985, \"min_loc\": 96987874}, {\"points\": 288, \"idx\": 986, \"min_loc\": 96987874}, {\"points\": 141, \"idx\": 987, \"min_loc\": 96987874}, {\"points\": 52, \"idx\": 988, \"min_loc\": 96987874}, {\"points\": 1190, \"idx\": 989, \"min_loc\": 96987874}, {\"points\": 1250, \"idx\": 990, \"min_loc\": 96987874}, {\"points\": 107, \"idx\": 991, \"min_loc\": 96987874}, {\"points\": 63, \"idx\": 992, \"min_loc\": 96987874}, {\"points\": 708, \"idx\": 993, \"min_loc\": 96987874}, {\"points\": 356, \"idx\": 994, \"min_loc\": 96987874}, {\"points\": 599, \"idx\": 995, \"min_loc\": 96987874}, {\"points\": 870, \"idx\": 996, \"min_loc\": 96987874}, {\"points\": 769, \"idx\": 997, \"min_loc\": 96987874}, {\"points\": 264, \"idx\": 998, \"min_loc\": 96987874}, {\"points\": 274, \"idx\": 999, \"min_loc\": 96987874}], \"data-7a3ebea16b9d8f755cf0e1ec17158025\": [{\"y\": 478}], \"data-01938aafef8b322b90209acfbc103439\": [{\"y\": 508, \"x\": 3, \"text\": \"Minimum Fuel Location\"}]}}, {\"mode\": \"vega-lite\"});\n",
       "</script>"
      ],
      "text/plain": [
       "alt.LayerChart(...)"
      ]
     },
     "execution_count": 11,
     "metadata": {},
     "output_type": "execute_result"
    }
   ],
   "source": [
    "frame = pd.DataFrame({\n",
    "    \"points\" : puzzle_input,\n",
    "    \"idx\" : range(len(puzzle_input)),\n",
    "    \"min_loc\" : [answer] * len(puzzle_input)\n",
    "})\n",
    "\n",
    "crabs = alt.Chart(frame).transform_calculate(\n",
    "    # Generate Gaussian jitter with a Box-Muller transform\n",
    "    jitter='sqrt(-2*log(random()))*cos(2*PI*random())'\n",
    ").mark_point().encode(\n",
    "    x = alt.X(\n",
    "        'jitter:Q'\n",
    "    ),\n",
    "    y = alt.Y(\n",
    "        'points:Q',\n",
    "        axis = alt.Axis(\n",
    "            title = [\"Crab\",\"Location\"],\n",
    "            titleAngle = 0,\n",
    "            titlePadding = 20\n",
    "        )\n",
    "    )\n",
    ").properties(height = 300, width = 800)\n",
    "\n",
    "line = alt.Chart(pd.DataFrame({'y': [min_key]})).mark_rule().encode(y='y')\n",
    "text = alt.Chart(pd.DataFrame({\n",
    "    'y': [min_key+30],\n",
    "    'x': [3],\n",
    "    \"text\" : [\"Minimum Fuel Location\"]\n",
    "})).mark_text().encode(\n",
    "    y='y',\n",
    "    x =\"x\",\n",
    "    text = \"text\"\n",
    ")\n",
    "\n",
    "\n",
    "alt.layer(crabs, line, text, title = [\"Crabs and minimum fuel location\",\"(marked with the horizontal line)\"])"
   ]
  },
  {
   "cell_type": "code",
   "execution_count": null,
   "metadata": {},
   "outputs": [],
   "source": []
  }
 ],
 "metadata": {
  "kernelspec": {
   "display_name": "Python 3",
   "language": "python",
   "name": "python3"
  },
  "language_info": {
   "codemirror_mode": {
    "name": "ipython",
    "version": 3
   },
   "file_extension": ".py",
   "mimetype": "text/x-python",
   "name": "python",
   "nbconvert_exporter": "python",
   "pygments_lexer": "ipython3",
   "version": "3.7.6"
  }
 },
 "nbformat": 4,
 "nbformat_minor": 2
}
