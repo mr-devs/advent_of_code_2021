{
 "cells": [
  {
   "cell_type": "markdown",
   "metadata": {},
   "source": [
    "--- Day 10: Syntax Scoring ---\n",
    "\n",
    "You ask the submarine to determine the best route out of the deep-sea cave, but it only replies:\n",
    "\n",
    "Syntax error in navigation subsystem on line: all of them\n",
    "\n",
    "All of them?! The damage is worse than you thought. You bring up a copy of the navigation subsystem (your puzzle input).\n",
    "\n",
    "The navigation subsystem syntax is made of several lines containing chunks. There are one or more chunks on each line, and chunks contain zero or more other chunks. Adjacent chunks are not separated by any delimiter; if one chunk stops, the next chunk (if any) can immediately start. Every chunk must open and close with one of four legal pairs of matching characters:\n",
    "\n",
    "    If a chunk opens with (, it must close with ).\n",
    "    If a chunk opens with [, it must close with ].\n",
    "    If a chunk opens with {, it must close with }.\n",
    "    If a chunk opens with <, it must close with >.\n",
    "\n",
    "So, () is a legal chunk that contains no other chunks, as is []. More complex but valid chunks include ([]), {()()()}, <([{}])>, [<>({}){}[([])<>]], and even (((((((((()))))))))).\n",
    "\n",
    "Some lines are incomplete, but others are corrupted. Find and discard the corrupted lines first.\n",
    "\n",
    "A corrupted line is one where a chunk closes with the wrong character - that is, where the characters it opens and closes with do not form one of the four legal pairs listed above.\n",
    "\n",
    "Examples of corrupted chunks include (], {()()()>, (((()))}, and <([]){()}[{}]). Such a chunk can appear anywhere within a line, and its presence causes the whole line to be considered corrupted.\n",
    "\n",
    "For example, consider the following navigation subsystem:\n",
    "\n",
    "```\n",
    "    [({(<(())[]>[[{[]{<()<>>\n",
    "    [(()[<>])]({[<{<<[]>>(\n",
    "    {([(<{}[<>[]}>{[]{[(<()>\n",
    "    (((({<>}<{<{<>}{[]{[]{}\n",
    "    [[<[([]))<([[{}[[()]]]\n",
    "    [{[{({}]{}}([{[{{{}}([]\n",
    "    {<[[]]>}<{[{[{[]{()[[[]\n",
    "    [<(<(<(<{}))><([]([]()\n",
    "    <{([([[(<>()){}]>(<<{{\n",
    "    <{([{{}}[<[[[<>{}]]]>[]]\n",
    "```\n",
    "\n",
    "Some of the lines aren't corrupted, just incomplete; you can ignore these lines for now. The remaining five lines are corrupted:\n",
    "\n",
    "```\n",
    "    {([(<{}[<>[]}>{[]{[(<()> - Expected ], but found } instead.\n",
    "    [[<[([]))<([[{}[[()]]] - Expected ], but found ) instead.\n",
    "    [{[{({}]{}}([{[{{{}}([] - Expected ), but found ] instead.\n",
    "    [<(<(<(<{}))><([]([]() - Expected >, but found ) instead.\n",
    "    <{([([[(<>()){}]>(<<{{ - Expected ], but found > instead.\n",
    "```\n",
    "\n",
    "Stop at the first incorrect closing character on each corrupted line.\n",
    "\n",
    "Did you know that syntax checkers actually have contests to see who can get the high score for syntax errors in a file? It's true! To calculate the syntax error score for a line, take the first illegal character on the line and look it up in the following table:\n",
    "\n",
    "    ): 3 points.\n",
    "    ]: 57 points.\n",
    "    }: 1197 points.\n",
    "    >: 25137 points.\n",
    "\n",
    "In the above example, an illegal ) was found twice (2*3 = 6 points), an illegal ] was found once (57 points), an illegal } was found once (1197 points), and an illegal > was found once (25137 points). So, the total syntax error score for this file is 6+57+1197+25137 = 26397 points!\n",
    "\n",
    "Find the first illegal character in each corrupted line of the navigation subsystem. What is the total syntax error score for those errors?\n"
   ]
  },
  {
   "cell_type": "code",
   "execution_count": 1,
   "metadata": {},
   "outputs": [],
   "source": [
    "import numpy as np"
   ]
  },
  {
   "cell_type": "code",
   "execution_count": 2,
   "metadata": {},
   "outputs": [],
   "source": [
    "# Covert input into a numpy matrix\n",
    "test_input = [\n",
    "    \"[({(<(())[]>[[{[]{<()<>>\",\n",
    "    \"[(()[<>])]({[<{<<[]>>(\",\n",
    "    \"{([(<{}[<>[]}>{[]{[(<()>\",\n",
    "    \"(((({<>}<{<{<>}{[]{[]{}\",\n",
    "    \"[[<[([]))<([[{}[[()]]]\",\n",
    "    \"[{[{({}]{}}([{[{{{}}([]\",\n",
    "    \"{<[[]]>}<{[{[{[]{()[[[]\",\n",
    "    \"[<(<(<(<{}))><([]([]()\",\n",
    "    \"<{([([[(<>()){}]>(<<{{\",\n",
    "    \"<{([{{}}[<[[[<>{}]]]>[]]\"\n",
    "]\n",
    "\n"
   ]
  },
  {
   "cell_type": "code",
   "execution_count": 3,
   "metadata": {},
   "outputs": [],
   "source": [
    "def count_first_illegals(puzzle):\n",
    "    \n",
    "    # Set key characters\n",
    "    openers = \"{[(<\"\n",
    "    closers = \"}])>\"\n",
    "    \n",
    "    # Set points lookup\n",
    "    syntax_points = {\n",
    "        \")\" : 3,\n",
    "        \"]\" : 57,\n",
    "        \"}\" : 1197,\n",
    "        \">\" : 25137\n",
    "    }\n",
    "    \n",
    "    # A useful character flipper\n",
    "    syntax_flipper = {\n",
    "        \")\" : \"(\",\n",
    "        \"]\" : \"[\",\n",
    "        \"}\" : \"{\",\n",
    "        \">\" : \"<\"\n",
    "    }\n",
    "\n",
    "    syntax_score = 0\n",
    "\n",
    "    for line in puzzle:\n",
    "        queue = []\n",
    "        for char in line:\n",
    "            \n",
    "            # If it is a syntax opener, add it to the queue\n",
    "            if char in openers:\n",
    "                queue.append(char)\n",
    "            \n",
    "            # If it is a syntax closer, it should match the last opener in the queue\n",
    "            if char in closers:\n",
    "                if queue[-1] == syntax_flipper[char]:\n",
    "                    queue.pop()\n",
    "                \n",
    "                # If it doesn't, it is an error, and we should add that characters point value\n",
    "                elif queue[-1] != syntax_flipper[char]:\n",
    "                    syntax_score += syntax_points[char]\n",
    "                    break  # We stop looking at this line once we find an error!\n",
    "                else:\n",
    "                    print(\"something weird happened...\")\n",
    "    \n",
    "    return syntax_score"
   ]
  },
  {
   "cell_type": "code",
   "execution_count": 4,
   "metadata": {},
   "outputs": [
    {
     "name": "stdout",
     "output_type": "stream",
     "text": [
      "Looks like its working!!\n"
     ]
    }
   ],
   "source": [
    "known_answer = 26397\n",
    "answer = count_first_illegals(test_input)\n",
    "\n",
    "if known_answer == answer:\n",
    "    print(\"Looks like its working!!\")\n",
    "else:\n",
    "    print(\"There is something wrong... :(\")"
   ]
  },
  {
   "cell_type": "code",
   "execution_count": 5,
   "metadata": {
    "scrolled": true
   },
   "outputs": [
    {
     "data": {
      "text/plain": [
       "166191"
      ]
     },
     "execution_count": 5,
     "metadata": {},
     "output_type": "execute_result"
    }
   ],
   "source": [
    "data_file = \"../data/10_data.txt\"\n",
    "\n",
    "with open(data_file, \"r\") as f:\n",
    "    puzzle_input = [line.rstrip(\"\\n\") for line in f]\n",
    "\n",
    "answer = count_first_illegals(puzzle_input)\n",
    "answer\n"
   ]
  },
  {
   "cell_type": "markdown",
   "metadata": {},
   "source": [
    "# --- Part Two ---\n",
    "\n",
    "Now, discard the corrupted lines. The remaining lines are incomplete.\n",
    "\n",
    "Incomplete lines don't have any incorrect characters - instead, they're missing some closing characters at the end of the line. To repair the navigation subsystem, you just need to figure out the sequence of closing characters that complete all open chunks in the line.\n",
    "\n",
    "You can only use closing characters (), ], }, or >), and you must add them in the correct order so that only legal pairs are formed and all chunks end up closed.\n",
    "\n",
    "In the example above, there are five incomplete lines:\n",
    "\n",
    "```\n",
    "    [({(<(())[]>[[{[]{<()<>> - Complete by adding }}]])})].\n",
    "    [(()[<>])]({[<{<<[]>>( - Complete by adding )}>]}).\n",
    "    (((({<>}<{<{<>}{[]{[]{} - Complete by adding }}>}>)))).\n",
    "    {<[[]]>}<{[{[{[]{()[[[] - Complete by adding ]]}}]}]}>.\n",
    "    <{([{{}}[<[[[<>{}]]]>[]] - Complete by adding ])}>.\n",
    "```\n",
    "\n",
    "Did you know that autocomplete tools also have contests? It's true! The score is determined by considering the completion string character-by-character. Start with a total score of 0. Then, for each character, multiply the total score by 5 and then increase the total score by the point value given for the character in the following table:\n",
    "\n",
    "```\n",
    "    ): 1 point.\n",
    "    ]: 2 points.\n",
    "    }: 3 points.\n",
    "    >: 4 points.\n",
    "```\n",
    "\n",
    "So, the last completion string above - ])}> - would be scored as follows:\n",
    "\n",
    "```\n",
    "    Start with a total score of 0.\n",
    "    Multiply the total score by 5 to get 0, then add the value of ] (2) to get a new total score of 2.\n",
    "    Multiply the total score by 5 to get 10, then add the value of ) (1) to get a new total score of 11.\n",
    "    Multiply the total score by 5 to get 55, then add the value of } (3) to get a new total score of 58.\n",
    "    Multiply the total score by 5 to get 290, then add the value of > (4) to get a new total score of 294.\n",
    "```\n",
    "\n",
    "The five lines' completion strings have total scores as follows:\n",
    "\n",
    "```\n",
    "    }}]])})] - 288957 total points.\n",
    "    )}>]}) - 5566 total points.\n",
    "    }}>}>)))) - 1480781 total points.\n",
    "    ]]}}]}]}> - 995444 total points.\n",
    "    ])}> - 294 total points.\n",
    "```\n",
    "\n",
    "Autocomplete tools are an odd bunch: the winner is found by sorting all of the scores and then taking the middle score. (There will always be an odd number of scores to consider.) In this example, the middle score is 288957 because there are the same number of scores smaller and larger than it.\n",
    "\n",
    "Find the completion string for each incomplete line, score the completion strings, and sort the scores. What is the middle score?\n"
   ]
  },
  {
   "cell_type": "code",
   "execution_count": 6,
   "metadata": {},
   "outputs": [],
   "source": [
    "def get_completion_score(puzzle):\n",
    "    \n",
    "    # Set key characters\n",
    "    openers = \"{[(<\"\n",
    "    closers = \"}])>\"\n",
    "    \n",
    "    # Set points lookup\n",
    "    syntax_points = {\n",
    "        \")\" : 1,\n",
    "        \"]\" : 2,\n",
    "        \"}\" : 3,\n",
    "        \">\" : 4\n",
    "    }\n",
    "    \n",
    "    # A useful character flipper\n",
    "    syntax_flipper = {\n",
    "        \")\" : \"(\",\n",
    "        \"]\" : \"[\",\n",
    "        \"}\" : \"{\",\n",
    "        \">\" : \"<\",\n",
    "        \"(\" : \")\",\n",
    "        \"[\" : \"]\",\n",
    "        \"{\" : \"}\",\n",
    "        \"<\" : \">\",\n",
    "    }\n",
    "\n",
    "    completion_scores = []\n",
    "\n",
    "    for line in puzzle:\n",
    "        queue = []\n",
    "        corrupted = False\n",
    "        for char in line:\n",
    "            \n",
    "            # If it is a syntax opener, add it to the queue\n",
    "            if char in openers:\n",
    "                queue.append(char)\n",
    "            \n",
    "            # If it is a syntax closer, it should match the last opener in the queue\n",
    "            if char in closers:\n",
    "                if queue[-1] == syntax_flipper[char]:\n",
    "                    queue.pop()\n",
    "                \n",
    "                # If it doesn't, it is an error, and we discard these lines\n",
    "                elif queue[-1] != syntax_flipper[char]:\n",
    "                    corrupted = True\n",
    "                    break\n",
    "                else:\n",
    "                    print(\"something weird happened...\")\n",
    "        \n",
    "        # Skip corrupted lines\n",
    "        if corrupted:\n",
    "            continue\n",
    "        \n",
    "        # Calculate the incomplete line's score\n",
    "        completion_score = 0\n",
    "        queue.reverse()\n",
    "        for char in queue:\n",
    "            completion_score *= 5\n",
    "            completion_score += syntax_points[syntax_flipper[char]]\n",
    "        completion_scores.append(completion_score)\n",
    "    \n",
    "    # Sort lines and take the middle score\n",
    "    num_incomplete_lines = len(completion_scores)\n",
    "    \n",
    "    return sorted(completion_scores)[num_incomplete_lines//2]"
   ]
  },
  {
   "cell_type": "code",
   "execution_count": 7,
   "metadata": {},
   "outputs": [
    {
     "name": "stdout",
     "output_type": "stream",
     "text": [
      "Looks like its working!!\n"
     ]
    }
   ],
   "source": [
    "known_answer = 288957\n",
    "answer = get_completion_score(test_input)\n",
    "\n",
    "if known_answer == answer:\n",
    "    print(\"Looks like its working!!\")\n",
    "else:\n",
    "    print(\"There is something wrong... :(\")"
   ]
  },
  {
   "cell_type": "code",
   "execution_count": 8,
   "metadata": {
    "scrolled": true
   },
   "outputs": [
    {
     "data": {
      "text/plain": [
       "1152088313"
      ]
     },
     "execution_count": 8,
     "metadata": {},
     "output_type": "execute_result"
    }
   ],
   "source": [
    "data_file = \"../data/10_data.txt\"\n",
    "\n",
    "with open(data_file, \"r\") as f:\n",
    "    puzzle_input = [line.rstrip(\"\\n\") for line in f]\n",
    "\n",
    "answer = get_completion_score(puzzle_input)\n",
    "answer\n"
   ]
  },
  {
   "cell_type": "code",
   "execution_count": null,
   "metadata": {},
   "outputs": [],
   "source": []
  }
 ],
 "metadata": {
  "kernelspec": {
   "display_name": "Python 3",
   "language": "python",
   "name": "python3"
  },
  "language_info": {
   "codemirror_mode": {
    "name": "ipython",
    "version": 3
   },
   "file_extension": ".py",
   "mimetype": "text/x-python",
   "name": "python",
   "nbconvert_exporter": "python",
   "pygments_lexer": "ipython3",
   "version": "3.7.6"
  }
 },
 "nbformat": 4,
 "nbformat_minor": 2
}
