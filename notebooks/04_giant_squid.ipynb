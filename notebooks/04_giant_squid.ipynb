{
 "cells": [
  {
   "cell_type": "markdown",
   "metadata": {},
   "source": [
    "# --- Day 4: Giant Squid ---\n",
    "\n",
    "You're already almost 1.5km (almost a mile) below the surface of the ocean, already so deep that you can't see any sunlight. What you can see, however, is a giant squid that has attached itself to the outside of your submarine.\n",
    "\n",
    "Maybe it wants to play bingo?\n",
    "\n",
    "Bingo is played on a set of boards each consisting of a 5x5 grid of numbers. Numbers are chosen at random, and the chosen number is marked on all boards on which it appears. (Numbers may not appear on all boards.) If all numbers in any row or any column of a board are marked, that board wins. (Diagonals don't count.)\n",
    "\n",
    "The submarine has a bingo subsystem to help passengers (currently, you and the giant squid) pass the time. It automatically generates a random order in which to draw numbers and a random set of boards (your puzzle input). For example:\n",
    "\n",
    "![](../images/squid_0.png)\n",
    "\n",
    "After the first five numbers are drawn (7, 4, 9, 5, and 11), there are no winners, but the boards are marked as follows (shown here adjacent to each other to save space):\n",
    "\n",
    "![](../images/squid_1.png)\n",
    "\n",
    "After the next six numbers are drawn (17, 23, 2, 0, 14, and 21), there are still no winners:\n",
    "\n",
    "![](../images/squid_2.png)\n",
    "\n",
    "\n",
    "Finally, 24 is drawn:\n",
    "\n",
    "![](../images/squid_3.png)\n",
    "\n",
    "At this point, the third board wins because it has at least one complete row or column of marked numbers (in this case, the entire top row is marked: `14 21 17 24 4`).\n",
    "\n",
    "**The score of the winning board can now be calculated. Start by finding the sum of all unmarked numbers on that board; in this case, the sum is 188. Then, multiply that sum by the number that was just called when the board won, 24, to get the final score, `188 * 24 = 4512`.**\n",
    "\n",
    "To guarantee victory against the giant squid, figure out which board will win first. What will your final score be if you choose that board?\n"
   ]
  },
  {
   "cell_type": "code",
   "execution_count": 1,
   "metadata": {},
   "outputs": [],
   "source": [
    "from collections import defaultdict"
   ]
  },
  {
   "cell_type": "code",
   "execution_count": 2,
   "metadata": {},
   "outputs": [],
   "source": [
    "import numpy as np"
   ]
  },
  {
   "cell_type": "markdown",
   "metadata": {},
   "source": [
    "### Build necessary functions"
   ]
  },
  {
   "cell_type": "code",
   "execution_count": 3,
   "metadata": {},
   "outputs": [],
   "source": [
    "def update_board(board, number):\n",
    "    \n",
    "    # Get board coordinates that match the number\n",
    "    x_coord, y_coord = np.where(np.array(board) == number)\n",
    "    \n",
    "    # Update the board in place\n",
    "    for x, y in zip(x_coord, y_coord):\n",
    "        board[x][y] = True\n",
    "\n",
    "def check_rows(board):\n",
    "\n",
    "    for row in range(len(board)):\n",
    "        if all(i == True for i in board[row]):\n",
    "            return True\n",
    "    return False\n",
    "\n",
    "def check_cols(board):\n",
    "    \n",
    "    for col in range(len(board[0])):\n",
    "        column = [row[col] for row in board]\n",
    "        if all(i == True for i in column):\n",
    "            return True\n",
    "    return False\n",
    "\n",
    "def get_board_value(board, num):\n",
    "    \n",
    "    remaining_board_val = 0\n",
    "    \n",
    "    for row_idx in range(len(board)):\n",
    "        row = board[row_idx]\n",
    "        for col_idx in range(len(row)):\n",
    "            val = board[row_idx][col_idx]\n",
    "            if val != True:\n",
    "                remaining_board_val += val\n",
    "    return remaining_board_val * num\n",
    "\n",
    "def return_answer(test_numbers, boards):\n",
    "\n",
    "    for num in test_numbers:\n",
    "        for b_num in boards.keys():\n",
    "            update_board(boards[b_num], num)\n",
    "\n",
    "            if check_rows(boards[b_num]):\n",
    "                return get_board_value(boards[b_num], num)\n",
    "\n",
    "            if check_cols(boards[b_num]):\n",
    "                return get_board_value(boards[b_num], num)\n"
   ]
  },
  {
   "cell_type": "markdown",
   "metadata": {},
   "source": [
    "### Set up and run on the test input..."
   ]
  },
  {
   "cell_type": "code",
   "execution_count": 4,
   "metadata": {},
   "outputs": [
    {
     "name": "stdout",
     "output_type": "stream",
     "text": [
      "Looks like its working!!\n"
     ]
    }
   ],
   "source": [
    "test_numbers = [7,4,9,5,11,17,23,2,0,14,21,24,10,16,13,6,15,25,12,22,18,20,8,19,3,26,1]\n",
    "\n",
    "boards = defaultdict(list)\n",
    "boards[1] = [[22, 13, 17, 11, 0],\n",
    "                     [8,  2, 23,  4, 24],\n",
    "                     [21,  9, 14, 16,  7],\n",
    "                     [6, 10,  3, 18,  5],\n",
    "                     [1, 12, 20, 15, 19]]\n",
    "\n",
    "boards[2] = [[3, 15, 0, 2, 22],\n",
    "                     [9, 18, 13, 17,  5],\n",
    "                     [19,  8, 7, 25, 23],\n",
    "                     [20, 11, 10, 24,  4],\n",
    "                     [14, 21, 16, 12,  6]]\n",
    "\n",
    "boards[3] = [[14, 21, 17, 24,  4],\n",
    "                     [10, 16, 15,  9, 19],\n",
    "                     [18,  8, 23, 26, 20],\n",
    "                     [22, 11, 13,  6,  5],\n",
    "                     [2,  0, 12,  3,  7]]\n",
    "\n",
    "\n",
    "known_answer = 4512\n",
    "\n",
    "myanswer = return_answer(test_numbers, boards)\n",
    "\n",
    "if myanswer == known_answer:\n",
    "    print(\"Looks like its working!!\")\n",
    "else:\n",
    "    print(\"There is something wrong... :(\")"
   ]
  },
  {
   "cell_type": "markdown",
   "metadata": {},
   "source": [
    "### Try with the puzzle data"
   ]
  },
  {
   "cell_type": "code",
   "execution_count": 5,
   "metadata": {},
   "outputs": [],
   "source": [
    "data_file = \"../data/04_data.txt\"\n",
    "\n",
    "boards = defaultdict(list)\n",
    "\n",
    "board_count = 0\n",
    "\n",
    "with open(data_file, \"r\") as f:\n",
    "    for idx, line in enumerate(f):\n",
    "        \n",
    "        if idx == 0:\n",
    "            called_numers = [int(num) for num in line.split(\",\")]\n",
    "        elif line == \"\\n\":\n",
    "            board_count += 1\n",
    "        else:\n",
    "            boards[board_count].append(\n",
    "                [int(num.rstrip(\"\\n\"))\n",
    "                 for num in line.split(\" \")\n",
    "                 if num is not \"\"]\n",
    "            )\n",
    "\n",
    "# Convert everything to an array for easy access\n",
    "# for key in boards.keys():\n",
    "#     boards[key] = np.array(boards[key])"
   ]
  },
  {
   "cell_type": "code",
   "execution_count": 6,
   "metadata": {},
   "outputs": [
    {
     "data": {
      "text/plain": [
       "22680"
      ]
     },
     "execution_count": 6,
     "metadata": {},
     "output_type": "execute_result"
    }
   ],
   "source": [
    "return_answer(called_numers, boards)"
   ]
  },
  {
   "cell_type": "markdown",
   "metadata": {},
   "source": [
    "## --- Part Two ---\n",
    "\n",
    "On the other hand, it might be wise to try a different strategy: let the giant squid win.\n",
    "\n",
    "You aren't sure how many bingo boards a giant squid could play at once, so rather than waste time counting its arms, the safe thing to do is to figure out which board will win last and choose that one. That way, no matter which boards it picks, it will win for sure.\n",
    "\n",
    "In the above example, the second board is the last to win, which happens after 13 is eventually called and its middle column is completely marked. If you were to keep playing until this point, the second board would have a sum of unmarked numbers equal to 148 for a final score of 148 * 13 = 1924.\n",
    "\n",
    "Figure out which board will win last. Once it wins, what would its final score be?\n"
   ]
  },
  {
   "cell_type": "code",
   "execution_count": 7,
   "metadata": {},
   "outputs": [],
   "source": [
    "def who_wins_last(test_numbers, boards):\n",
    "    num_boards = len(boards.keys())\n",
    "    board_keys = list(boards.keys())\n",
    "    finished = []\n",
    "    \n",
    "    for num in test_numbers:\n",
    "        for b_num in board_keys:\n",
    "            update_board(boards[b_num], num)\n",
    "            \n",
    "            if b_num not in finished:\n",
    "\n",
    "                if check_rows(boards[b_num]):\n",
    "                    num_boards -= 1\n",
    "                    finished.append(b_num)\n",
    "                    if num_boards == 0:\n",
    "                        return get_board_value(boards[b_num], num)\n",
    "\n",
    "                if (b_num not in finished) and check_cols(boards[b_num]):\n",
    "                    num_boards -= 1\n",
    "                    finished.append(b_num)\n",
    "                    if num_boards == 0:\n",
    "                        return get_board_value(boards[b_num], num)"
   ]
  },
  {
   "cell_type": "markdown",
   "metadata": {},
   "source": [
    "### Try it again on the test input"
   ]
  },
  {
   "cell_type": "code",
   "execution_count": 8,
   "metadata": {},
   "outputs": [
    {
     "name": "stdout",
     "output_type": "stream",
     "text": [
      "Looks like its working!!\n"
     ]
    }
   ],
   "source": [
    "test_numbers = [7,4,9,5,11,17,23,2,0,14,21,24,10,16,13,6,15,25,12,22,18,20,8,19,3,26,1]\n",
    "\n",
    "boards = defaultdict(list)\n",
    "boards[1] = [[22, 13, 17, 11, 0],\n",
    "                     [8,  2, 23,  4, 24],\n",
    "                     [21,  9, 14, 16,  7],\n",
    "                     [6, 10,  3, 18,  5],\n",
    "                     [1, 12, 20, 15, 19]]\n",
    "\n",
    "boards[2] = [[3, 15, 0, 2, 22],\n",
    "                     [9, 18, 13, 17,  5],\n",
    "                     [19,  8, 7, 25, 23],\n",
    "                     [20, 11, 10, 24,  4],\n",
    "                     [14, 21, 16, 12,  6]]\n",
    "\n",
    "boards[3] = [[14, 21, 17, 24,  4],\n",
    "                     [10, 16, 15,  9, 19],\n",
    "                     [18,  8, 23, 26, 20],\n",
    "                     [22, 11, 13,  6,  5],\n",
    "                     [2,  0, 12,  3,  7]]\n",
    "\n",
    "known_answer = 1924\n",
    "\n",
    "myanswer = who_wins_last(test_numbers, boards)\n",
    "\n",
    "if myanswer == known_answer:\n",
    "    print(\"Looks like its working!!\")\n",
    "else:\n",
    "    print(\"There is something wrong... :(\")"
   ]
  },
  {
   "cell_type": "markdown",
   "metadata": {},
   "source": [
    "### Now with the puzzle data..."
   ]
  },
  {
   "cell_type": "code",
   "execution_count": 9,
   "metadata": {},
   "outputs": [
    {
     "data": {
      "text/plain": [
       "16168"
      ]
     },
     "execution_count": 9,
     "metadata": {},
     "output_type": "execute_result"
    }
   ],
   "source": [
    "data_file = \"../data/04_data.txt\"\n",
    "\n",
    "boards = defaultdict(list)\n",
    "\n",
    "board_count = 0\n",
    "\n",
    "with open(data_file, \"r\") as f:\n",
    "    for idx, line in enumerate(f):\n",
    "        \n",
    "        if idx == 0:\n",
    "            called_numers = [int(num) for num in line.split(\",\")]\n",
    "        elif line == \"\\n\":\n",
    "            board_count += 1\n",
    "        else:\n",
    "            boards[board_count].append(\n",
    "                [int(num.rstrip(\"\\n\"))\n",
    "                 for num in line.split(\" \")\n",
    "                 if num is not \"\"]\n",
    "            )\n",
    "\n",
    "who_wins_last(called_numers, boards)"
   ]
  },
  {
   "cell_type": "code",
   "execution_count": null,
   "metadata": {},
   "outputs": [],
   "source": []
  }
 ],
 "metadata": {
  "kernelspec": {
   "display_name": "Python 3",
   "language": "python",
   "name": "python3"
  },
  "language_info": {
   "codemirror_mode": {
    "name": "ipython",
    "version": 3
   },
   "file_extension": ".py",
   "mimetype": "text/x-python",
   "name": "python",
   "nbconvert_exporter": "python",
   "pygments_lexer": "ipython3",
   "version": "3.7.6"
  }
 },
 "nbformat": 4,
 "nbformat_minor": 2
}
