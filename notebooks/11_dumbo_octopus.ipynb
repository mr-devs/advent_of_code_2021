{
 "cells": [
  {
   "cell_type": "markdown",
   "metadata": {},
   "source": [
    "--- Day 11: Dumbo Octopus ---\n",
    "\n",
    "You enter a large cavern full of rare bioluminescent dumbo octopuses! They seem to not like the Christmas lights on your submarine, so you turn them off for now.\n",
    "\n",
    "There are 100 octopuses arranged neatly in a 10 by 10 grid. Each octopus slowly gains energy over time and flashes brightly for a moment when its energy is full. Although your lights are off, maybe you could navigate through the cave without disturbing the octopuses if you could predict when the flashes of light will happen.\n",
    "\n",
    "Each octopus has an energy level - your submarine can remotely measure the energy level of each octopus (your puzzle input). For example:\n",
    "\n",
    "```\n",
    "5483143223\n",
    "2745854711\n",
    "5264556173\n",
    "6141336146\n",
    "6357385478\n",
    "4167524645\n",
    "2176841721\n",
    "6882881134\n",
    "4846848554\n",
    "5283751526\n",
    "```\n",
    "\n",
    "The energy level of each octopus is a value between 0 and 9. Here, the top-left octopus has an energy level of 5, the bottom-right one has an energy level of 6, and so on.\n",
    "\n",
    "You can model the energy levels and flashes of light in steps. During a single step, the following occurs:\n",
    "\n",
    "- First, the energy level of each octopus increases by 1.\n",
    "- Then, any octopus with an energy level greater than 9 flashes. This increases the energy level of all adjacent octopuses by 1, including octopuses that are diagonally adjacent. If this causes an octopus to have an energy level greater than 9, it also flashes. This process continues as long as new octopuses keep having their energy level increased beyond 9. (An octopus can only flash at most once per step.)\n",
    "- Finally, any octopus that flashed during this step has its energy level set to 0, as it used all of its energy to flash.\n",
    "\n",
    "Adjacent flashes can cause an octopus to flash on a step even if it begins that step with very little energy. Consider the middle octopus with 1 energy in this situation:\n",
    "\n",
    "```\n",
    "Before any steps:\n",
    "11111\n",
    "19991\n",
    "19191\n",
    "19991\n",
    "11111\n",
    "\n",
    "After step 1:\n",
    "34543\n",
    "40004\n",
    "50005\n",
    "40004\n",
    "34543\n",
    "\n",
    "After step 2:\n",
    "45654\n",
    "51115\n",
    "61116\n",
    "51115\n",
    "45654\n",
    "```\n",
    "\n",
    "An octopus is highlighted when it flashed during the given step.\n",
    "\n",
    "```\n",
    "After step 100 of test input above:\n",
    "0397666866\n",
    "0749766918\n",
    "0053976933\n",
    "0004297822\n",
    "0004229892\n",
    "0053222877\n",
    "0532222966\n",
    "9322228966\n",
    "7922286866\n",
    "6789998766\n",
    "```\n",
    "\n",
    "After 100 steps, there have been a total of 1656 flashes.\n",
    "\n",
    "**Given the starting energy levels of the dumbo octopuses in your cavern, simulate 100 steps. How many total flashes are there after 100 steps?**"
   ]
  },
  {
   "cell_type": "code",
   "execution_count": 1,
   "metadata": {},
   "outputs": [],
   "source": [
    "import numpy as np"
   ]
  },
  {
   "cell_type": "code",
   "execution_count": 105,
   "metadata": {},
   "outputs": [],
   "source": [
    "def flash(row, col, puzzle, nines):\n",
    "    \n",
    "    puzzle[row, col] = 0\n",
    "    \n",
    "    down, up, left, right = row+1, row-1, col-1, col+1\n",
    "    \n",
    "    # Left\n",
    "    if (not left < 0):\n",
    "        if (row, left) not in nines:\n",
    "            puzzle[row][left] +=1\n",
    "    \n",
    "    # Right\n",
    "    if (not right >= len(puzzle[0])):\n",
    "        if (row, right) not in nines:\n",
    "            puzzle[row][right] +=1\n",
    "    \n",
    "    # Up\n",
    "    if (not up < 0):\n",
    "        if (up, col) not in nines:\n",
    "            puzzle[up][col] += 1\n",
    "    \n",
    "    # Down\n",
    "    if (not down >= len(puzzle)):\n",
    "        if (down, col) not in nines:\n",
    "            puzzle[down][col] += 1\n",
    "        \n",
    "    # Left-up\n",
    "    if (not left < 0) and (not up < 0):\n",
    "        if (left, up) not in nines:\n",
    "            puzzle[left,up] += 1\n",
    "    \n",
    "    # Right-up\n",
    "    if (not right >= len(puzzle[0])) and (not up < 0):\n",
    "        if (right, up) not in nines:\n",
    "            puzzle[right,up] += 1\n",
    "    \n",
    "    # Left-down\n",
    "    if (not left < 0) and (not down >= len(puzzle)):\n",
    "        if (left, down) not in nines:\n",
    "            puzzle[left,down] += 1\n",
    "    \n",
    "    # Right-down\n",
    "    if (not right >= len(puzzle[0])) and (not down >= len(puzzle)):\n",
    "        if (right, down) not in nines:\n",
    "            puzzle[right,down] += 1"
   ]
  },
  {
   "cell_type": "code",
   "execution_count": 112,
   "metadata": {
    "scrolled": true
   },
   "outputs": [],
   "source": [
    "def count_flashes(num_steps, puzzle):\n",
    "    \n",
    "    flashes = 0\n",
    "    \n",
    "    for step in range(num_steps):\n",
    "        \n",
    "        puzzle += 1   # Increment by one\n",
    "        \n",
    "        # Get x,y locations of energy greater than 9 in puzzle\n",
    "        x_nines, y_nines = np.where(puzzle > 9)\n",
    "        \n",
    "        # Convert it to a list\n",
    "        nines = list(zip(x_nines, y_nines))\n",
    "        flashed = []\n",
    "        \n",
    "        # Repeatedly flash all nine locations\n",
    "        while len(nines) > 0:\n",
    "            for x, y in nines:\n",
    "                flash(x, y, puzzle, nines)\n",
    "                flashed.append((x,y))      # Record all flashed locations\n",
    "                flashes += 1               # Count the number of flashes we make\n",
    "            \n",
    "            # See if there are new octopi that should be flashed\n",
    "            x_nines, y_nines = np.where(puzzle > 9)\n",
    "            nines = list(zip(x_nines, y_nines))\n",
    "        \n",
    "        # Set the flashed to zero\n",
    "        for x,y in flashed:\n",
    "            puzzle[x,y] = 0\n",
    "#         print(step+1)\n",
    "#         print(*puzzle, sep=\"\\n\")\n",
    "#         print(\"-\"*30)\n",
    "    return flashes"
   ]
  },
  {
   "cell_type": "markdown",
   "metadata": {},
   "source": [
    "### Test function on test input"
   ]
  },
  {
   "cell_type": "code",
   "execution_count": 113,
   "metadata": {},
   "outputs": [],
   "source": [
    "# Covert input into a numpy matrix\n",
    "test_input = [\n",
    "    \"5483143223\",\n",
    "    \"2745854711\",\n",
    "    \"5264556173\",\n",
    "    \"6141336146\",\n",
    "    \"6357385478\",\n",
    "    \"4167524645\",\n",
    "    \"2176841721\",\n",
    "    \"6882881134\",\n",
    "    \"4846848554\",\n",
    "    \"5283751526\"\n",
    "]\n",
    "\n",
    "for idx, numstr in enumerate(test_input):\n",
    "    test_input[idx] = [int(char) for char in numstr]\n",
    "\n",
    "test_input = np.array(test_input)"
   ]
  },
  {
   "cell_type": "markdown",
   "metadata": {},
   "source": [
    "# Note: I solved this puzzle and then lost the `flash` function. I can't seem to get it back now..."
   ]
  },
  {
   "cell_type": "code",
   "execution_count": 50,
   "metadata": {},
   "outputs": [
    {
     "name": "stdout",
     "output_type": "stream",
     "text": [
      "There is something wrong... :(\n"
     ]
    }
   ],
   "source": [
    "known_answer = 1656\n",
    "num_steps = 100\n",
    "answer = count_flashes(num_steps, test_input)\n",
    "\n",
    "if known_answer == answer:\n",
    "    print(\"Looks like its working!!\")\n",
    "else:\n",
    "    print(\"There is something wrong... :(\")"
   ]
  },
  {
   "cell_type": "code",
   "execution_count": 9,
   "metadata": {},
   "outputs": [
    {
     "data": {
      "text/plain": [
       "1544"
      ]
     },
     "execution_count": 9,
     "metadata": {},
     "output_type": "execute_result"
    }
   ],
   "source": [
    "answer"
   ]
  },
  {
   "cell_type": "code",
   "execution_count": null,
   "metadata": {},
   "outputs": [],
   "source": [
    "test_input"
   ]
  },
  {
   "cell_type": "markdown",
   "metadata": {},
   "source": [
    "### Test on puzzle data"
   ]
  },
  {
   "cell_type": "code",
   "execution_count": null,
   "metadata": {
    "scrolled": true
   },
   "outputs": [],
   "source": [
    "data_file = \"../data/11_data.txt\"\n",
    "\n",
    "with open(data_file, \"r\") as f:\n",
    "    puzzle_input = [line.rstrip(\"\\n\") for line in f]\n",
    "\n",
    "for idx, numstr in enumerate(puzzle_input):\n",
    "    puzzle_input[idx] = [int(char) for char in numstr]\n",
    "\n",
    "puzzle_input = np.array(puzzle_input)\n",
    "    \n",
    "answer = count_flashes(num_steps, puzzle_input)\n",
    "answer\n"
   ]
  },
  {
   "cell_type": "markdown",
   "metadata": {},
   "source": [
    "`Your puzzle answer was 1675`"
   ]
  },
  {
   "cell_type": "markdown",
   "metadata": {},
   "source": [
    "## --- Part Two ---\n",
    "\n",
    "It seems like the individual flashes aren't bright enough to navigate. However, you might have a better option: the flashes seem to be synchronizing!\n",
    "\n",
    "In the example above, the first time all octopuses flash simultaneously is step 195:\n",
    "\n",
    "```\n",
    "    After step 193:\n",
    "    5877777777\n",
    "    8877777777\n",
    "    7777777777\n",
    "    7777777777\n",
    "    7777777777\n",
    "    7777777777\n",
    "    7777777777\n",
    "    7777777777\n",
    "    7777777777\n",
    "    7777777777\n",
    "\n",
    "    After step 194:\n",
    "    6988888888\n",
    "    9988888888\n",
    "    8888888888\n",
    "    8888888888\n",
    "    8888888888\n",
    "    8888888888\n",
    "    8888888888\n",
    "    8888888888\n",
    "    8888888888\n",
    "    8888888888\n",
    "\n",
    "    After step 195:\n",
    "    0000000000\n",
    "    0000000000\n",
    "    0000000000\n",
    "    0000000000\n",
    "    0000000000\n",
    "    0000000000\n",
    "    0000000000\n",
    "    0000000000\n",
    "    0000000000\n",
    "    0000000000\n",
    "```\n",
    "\n",
    "**If you can calculate the exact moments when the octopuses will all flash simultaneously, you should be able to navigate through the cavern. What is the first step during which all octopuses flash?**\n"
   ]
  },
  {
   "cell_type": "code",
   "execution_count": null,
   "metadata": {},
   "outputs": [],
   "source": [
    "# Covert input into a numpy matrix\n",
    "test_input = [\n",
    "    \"5483143223\",\n",
    "    \"2745854711\",\n",
    "    \"5264556173\",\n",
    "    \"6141336146\",\n",
    "    \"6357385478\",\n",
    "    \"4167524645\",\n",
    "    \"2176841721\",\n",
    "    \"6882881134\",\n",
    "    \"4846848554\",\n",
    "    \"5283751526\"\n",
    "]\n",
    "\n",
    "for idx, numstr in enumerate(test_input):\n",
    "    test_input[idx] = [int(char) for char in numstr]\n",
    "\n",
    "test_input = np.array(test_input)"
   ]
  },
  {
   "cell_type": "code",
   "execution_count": null,
   "metadata": {
    "scrolled": true
   },
   "outputs": [],
   "source": [
    "def detect_simultaneous_flashes(puzzle):\n",
    "    \n",
    "    num_octopi = puzzle.shape[0] * puzzle.shape[1]\n",
    "    \n",
    "    step = 1\n",
    "    while True:\n",
    "        puzzle += 1   # Increment by one\n",
    "        \n",
    "        # Get x,y locations of 9s in puzzle\n",
    "        x_nines, y_nines = np.where(puzzle > 9)\n",
    "        \n",
    "        # Convert it to a list\n",
    "        nines = list(zip(x_nines, y_nines))\n",
    "        \n",
    "        flashed = []\n",
    "        \n",
    "        # Repeatedly flash all nine locations\n",
    "        while len(nines) > 0:\n",
    "            for x, y in nines:\n",
    "                flash(x, y, puzzle, nines)\n",
    "                flashed.append((x,y))      # Record all flashed locations\n",
    "            \n",
    "            # See if there are new octopi that should be flashed\n",
    "            x_nines, y_nines = np.where(puzzle > 9)\n",
    "            nines = list(zip(x_nines, y_nines))\n",
    "        \n",
    "        # Set the flashed to zero\n",
    "        for x,y in flashed:\n",
    "            puzzle[x,y] = 0\n",
    "        \n",
    "        # Get x,y locations of 9s in puzzle\n",
    "        x_zeros, y_zeros = np.where(puzzle == 0)\n",
    "        \n",
    "        # Convert it to a list\n",
    "        zeros = list(zip(x_zeros, y_zeros))\n",
    "        if len(zeros) == num_octopi:\n",
    "            return step\n",
    "        \n",
    "        step += 1\n",
    "        if step > 10_000:\n",
    "            print(\"Too long?\")\n",
    "            return"
   ]
  },
  {
   "cell_type": "code",
   "execution_count": null,
   "metadata": {},
   "outputs": [],
   "source": [
    "detect_simultaneous_flashes(test_input)"
   ]
  },
  {
   "cell_type": "code",
   "execution_count": null,
   "metadata": {},
   "outputs": [],
   "source": [
    "# Covert input into a numpy matrix\n",
    "test_input = [\n",
    "    \"5483143223\",\n",
    "    \"2745854711\",\n",
    "    \"5264556173\",\n",
    "    \"6141336146\",\n",
    "    \"6357385478\",\n",
    "    \"4167524645\",\n",
    "    \"2176841721\",\n",
    "    \"6882881134\",\n",
    "    \"4846848554\",\n",
    "    \"5283751526\"\n",
    "]\n",
    "\n",
    "for idx, numstr in enumerate(test_input):\n",
    "    test_input[idx] = [int(char) for char in numstr]\n",
    "\n",
    "test_input = np.array(test_input)\n",
    "\n",
    "\n",
    "known_answer = 195\n",
    "answer = detect_simultaneous_flashes(test_input)\n",
    "\n",
    "if known_answer == answer:\n",
    "    print(\"Looks like its working!!\")\n",
    "else:\n",
    "    print(\"There is something wrong... :(\")"
   ]
  },
  {
   "cell_type": "markdown",
   "metadata": {},
   "source": [
    "### Test on puzzle data"
   ]
  },
  {
   "cell_type": "code",
   "execution_count": null,
   "metadata": {
    "scrolled": true
   },
   "outputs": [],
   "source": [
    "data_file = \"../data/11_data.txt\"\n",
    "\n",
    "with open(data_file, \"r\") as f:\n",
    "    puzzle_input = [line.rstrip(\"\\n\") for line in f]\n",
    "\n",
    "for idx, numstr in enumerate(puzzle_input):\n",
    "    puzzle_input[idx] = [int(char) for char in numstr]\n",
    "\n",
    "puzzle_input = np.array(puzzle_input)\n",
    "    \n",
    "answer = detect_simultaneous_flashes(puzzle_input)\n",
    "answer\n"
   ]
  },
  {
   "cell_type": "markdown",
   "metadata": {},
   "source": [
    "`Your puzzle answer was 515`"
   ]
  },
  {
   "cell_type": "code",
   "execution_count": null,
   "metadata": {},
   "outputs": [],
   "source": []
  }
 ],
 "metadata": {
  "kernelspec": {
   "display_name": "Python 3",
   "language": "python",
   "name": "python3"
  },
  "language_info": {
   "codemirror_mode": {
    "name": "ipython",
    "version": 3
   },
   "file_extension": ".py",
   "mimetype": "text/x-python",
   "name": "python",
   "nbconvert_exporter": "python",
   "pygments_lexer": "ipython3",
   "version": "3.7.6"
  }
 },
 "nbformat": 4,
 "nbformat_minor": 2
}
