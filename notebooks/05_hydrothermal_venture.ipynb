{
 "cells": [
  {
   "cell_type": "markdown",
   "metadata": {},
   "source": [
    "# --- Day 5: Hydrothermal Venture ---\n",
    "\n",
    "## Part 1\n",
    "\n",
    "You come across a field of hydrothermal vents on the ocean floor! These vents constantly produce large, opaque clouds, so it would be best to avoid them if possible.\n",
    "\n",
    "They tend to form in lines; the submarine helpfully produces a list of nearby lines of vents (your puzzle input) for you to review. For example:\n",
    "\n",
    "```\n",
    "0,9 -> 5,9\n",
    "8,0 -> 0,8\n",
    "9,4 -> 3,4\n",
    "2,2 -> 2,1\n",
    "7,0 -> 7,4\n",
    "6,4 -> 2,0\n",
    "0,9 -> 2,9\n",
    "3,4 -> 1,4\n",
    "0,0 -> 8,8\n",
    "5,5 -> 8,2\n",
    "```\n",
    "\n",
    "Each line of vents is given as a line segment in the format x1,y1 -> x2,y2 where x1,y1 are the coordinates of one end the line segment and x2,y2 are the coordinates of the other end. These line segments include the points at both ends. In other words:\n",
    "\n",
    "```\n",
    "    An entry like 1,1 -> 1,3 covers points 1,1, 1,2, and 1,3.\n",
    "    An entry like 9,7 -> 7,7 covers points 9,7, 8,7, and 7,7.\n",
    "```\n",
    "\n",
    "For now, **only consider horizontal and vertical lines**: lines where either x1 = x2 or y1 = y2.\n",
    "\n",
    "So, the horizontal and vertical lines from the above list would produce the following diagram:\n",
    "\n",
    "```\n",
    ".......1..\n",
    "..1....1..\n",
    "..1....1..\n",
    ".......1..\n",
    ".112111211\n",
    "..........\n",
    "..........\n",
    "..........\n",
    "..........\n",
    "222111....\n",
    "```\n",
    "\n",
    "In this diagram, the top left corner is 0,0 and the bottom right corner is 9,9. Each position is shown as **the number of lines which cover that point** or `.` if no line covers that point. The top-left pair of 1s, for example, comes from 2,2 -> 2,1; the very bottom row is formed by the overlapping lines 0,9 -> 5,9 and 0,9 -> 2,9.\n",
    "\n",
    "To avoid the most dangerous areas, you need to determine **the number of points where at least two lines overlap**. In the above example, this is anywhere in the diagram with a 2 or larger - a total of 5 points.\n",
    "\n",
    "Consider only horizontal and vertical lines. At how many points do at least two lines overlap?\n"
   ]
  },
  {
   "cell_type": "code",
   "execution_count": 1,
   "metadata": {},
   "outputs": [],
   "source": [
    "import numpy as np"
   ]
  },
  {
   "cell_type": "code",
   "execution_count": 2,
   "metadata": {},
   "outputs": [],
   "source": [
    "def get_coordinates(messy_coords):\n",
    "    \"\"\"\n",
    "    Return a list of lists which contain tuples\n",
    "    of coordinates for the vents.\n",
    "    \"\"\"\n",
    "    clean_inputs = []\n",
    "    for line in messy_coords:\n",
    "        onesplit = line.split(\" -> \")\n",
    "        twosplit = [eval(nums) for nums in onesplit][:]\n",
    "        clean_inputs.append(twosplit)\n",
    "    return clean_inputs\n",
    "\n",
    "def get_matrix_board(clean_inputs):\n",
    "    \"\"\"\n",
    "    Return a matrix of zeros as our board to work with.\n",
    "    \"\"\"\n",
    "    max_yval = 1 + max(\n",
    "            max(clean_inputs, key=lambda x: x[0][0])[0][0],\n",
    "            max(clean_inputs, key=lambda x: x[1][0])[1][0]\n",
    "        )\n",
    "\n",
    "\n",
    "    max_xval = 1 + max(\n",
    "        max(clean_inputs, key=lambda x: x[0][1])[0][1],\n",
    "        max(clean_inputs, key=lambda x: x[1][1])[1][1]\n",
    "    )\n",
    "    return np.zeros(shape = (max_xval, max_yval))\n",
    "\n",
    "def get_num_overlaps(clean_inputs, matrix):\n",
    "    for coords in clean_inputs:\n",
    "        y1 = coords[0][0]\n",
    "        x1 = coords[0][1]\n",
    "        y2 = coords[1][0]\n",
    "        x2 = coords[1][1]\n",
    "\n",
    "        lowx = min(x1,x2)\n",
    "        highx = max(x1,x2)\n",
    "\n",
    "        lowy = min(y1,y2)\n",
    "        highy = max(y1,y2)\n",
    "\n",
    "        if lowx == highx:\n",
    "            for y in range(lowy, highy+1):\n",
    "                matrix[lowx, y] += 1\n",
    "\n",
    "        elif lowy == highy:\n",
    "            for x in range(lowx, highx+1):\n",
    "                matrix[x, lowy] += 1\n",
    "    \n",
    "    xs,_ = np.where(matrix > 1)\n",
    "    return len(xs)"
   ]
  },
  {
   "cell_type": "code",
   "execution_count": 3,
   "metadata": {},
   "outputs": [
    {
     "name": "stdout",
     "output_type": "stream",
     "text": [
      "Looks like its working!!\n"
     ]
    }
   ],
   "source": [
    "test_input = [\n",
    "    \"0,9 -> 5,9\",\n",
    "    \"8,0 -> 0,8\",\n",
    "    \"9,4 -> 3,4\",\n",
    "    \"2,2 -> 2,1\",\n",
    "    \"7,0 -> 7,4\",\n",
    "    \"6,4 -> 2,0\",\n",
    "    \"0,9 -> 2,9\",\n",
    "    \"3,4 -> 1,4\",\n",
    "    \"0,0 -> 8,8\",\n",
    "    \"5,5 -> 8,2\"\n",
    "]\n",
    "\n",
    "known_answer = 5\n",
    "\n",
    "clean_inputs = get_coordinates(test_input)\n",
    "matrix = get_matrix_board(clean_inputs)\n",
    "myanswer = get_num_overlaps(clean_inputs, matrix)\n",
    "\n",
    "if myanswer == known_answer:\n",
    "    print(\"Looks like its working!!\")\n",
    "else:\n",
    "    print(\"There is something wrong... :(\")"
   ]
  },
  {
   "cell_type": "code",
   "execution_count": 4,
   "metadata": {},
   "outputs": [],
   "source": [
    "data_file = \"../data/05_data.txt\"\n",
    "\n",
    "with open(data_file, \"r\") as f:\n",
    "    puzzle_input = [line.rstrip('\\n') for line in f]"
   ]
  },
  {
   "cell_type": "code",
   "execution_count": 5,
   "metadata": {},
   "outputs": [
    {
     "data": {
      "text/plain": [
       "8060"
      ]
     },
     "execution_count": 5,
     "metadata": {},
     "output_type": "execute_result"
    }
   ],
   "source": [
    "clean_inputs = get_coordinates(puzzle_input)\n",
    "matrix = get_matrix_board(clean_inputs)\n",
    "get_num_overlaps(clean_inputs, matrix)"
   ]
  },
  {
   "cell_type": "markdown",
   "metadata": {},
   "source": [
    "## Part Two\n",
    "\n",
    "Unfortunately, considering only horizontal and vertical lines doesn't give you the full picture; you need to also consider diagonal lines.\n",
    "\n",
    "Because of the limits of the hydrothermal vent mapping system, the lines in your list will only ever be horizontal, vertical, or a diagonal line at exactly 45 degrees. In other words:\n",
    "\n",
    "    An entry like 1,1 -> 3,3 covers points 1,1, 2,2, and 3,3.\n",
    "    An entry like 9,7 -> 7,9 covers points 9,7, 8,8, and 7,9.\n",
    "\n",
    "Considering all lines from the above example would now produce the following diagram:\n",
    "\n",
    "```\n",
    "1.1....11.\n",
    ".111...2..\n",
    "..2.1.111.\n",
    "...1.2.2..\n",
    ".112313211\n",
    "...1.2....\n",
    "..1...1...\n",
    ".1.....1..\n",
    "1.......1.\n",
    "222111....\n",
    "```\n",
    "\n",
    "You still need to determine the number of points where at least two lines overlap. In the above example, this is still anywhere in the diagram with a 2 or larger - now a total of 12 points.\n",
    "\n",
    "Consider all of the lines. At how many points do at least two lines overlap?\n"
   ]
  },
  {
   "cell_type": "markdown",
   "metadata": {},
   "source": [
    "### The only thing that needs to change here is the `get_num_overlaps` function, which now needs to incorporate diagonals...."
   ]
  },
  {
   "cell_type": "code",
   "execution_count": 6,
   "metadata": {},
   "outputs": [],
   "source": [
    "def get_num_overlaps_w_diag(clean_inputs, matrix):\n",
    "    for coords in clean_inputs:\n",
    "        y1 = coords[0][0]\n",
    "        x1 = coords[0][1]\n",
    "        y2 = coords[1][0]\n",
    "        x2 = coords[1][1]\n",
    "\n",
    "        lowx = min(x1,x2)\n",
    "        highx = max(x1,x2)\n",
    "\n",
    "        lowy = min(y1,y2)\n",
    "        highy = max(y1,y2)\n",
    "        \n",
    "        # Vertical moves\n",
    "        if lowx == highx:\n",
    "            for y in range(lowy, highy+1):\n",
    "                matrix[lowx, y] += 1\n",
    "        \n",
    "        # Horizontal moves\n",
    "        elif lowy == highy:\n",
    "            for x in range(lowx, highx+1):\n",
    "                matrix[x, lowy] += 1\n",
    "        \n",
    "        # Diagonal moves\n",
    "        else:\n",
    "            if x1 > x2:  # Count down\n",
    "                x_vals = [x for x in range(x1, x2-1, -1)]\n",
    "            else:\n",
    "                x_vals = [x for x in range(x1, x2+1)]\n",
    "\n",
    "            if y1 > y2:  # Count down\n",
    "                y_vals = [y for y in range(y1, y2-1, -1)]\n",
    "            else:\n",
    "                y_vals = [y for y in range(y1, y2+1)]\n",
    "            \n",
    "            # Increment by one\n",
    "            coordinate_zipper = zip(x_vals, y_vals)\n",
    "            for x,y in coordinate_zipper:\n",
    "                matrix[x, y] += 1\n",
    "    \n",
    "    xs,_ = np.where(matrix > 1)\n",
    "    return len(xs)"
   ]
  },
  {
   "cell_type": "code",
   "execution_count": 7,
   "metadata": {},
   "outputs": [
    {
     "name": "stdout",
     "output_type": "stream",
     "text": [
      "Looks like its working!!\n"
     ]
    }
   ],
   "source": [
    "known_answer = 12\n",
    "\n",
    "clean_inputs = get_coordinates(test_input)\n",
    "matrix = get_matrix_board(clean_inputs)\n",
    "myanswer = get_num_overlaps_w_diag(clean_inputs, matrix)\n",
    "\n",
    "if myanswer == known_answer:\n",
    "    print(\"Looks like its working!!\")\n",
    "else:\n",
    "    print(\"There is something wrong... :(\")"
   ]
  },
  {
   "cell_type": "markdown",
   "metadata": {},
   "source": [
    "### Try again with the puzzle input..."
   ]
  },
  {
   "cell_type": "code",
   "execution_count": 8,
   "metadata": {},
   "outputs": [
    {
     "data": {
      "text/plain": [
       "21577"
      ]
     },
     "execution_count": 8,
     "metadata": {},
     "output_type": "execute_result"
    }
   ],
   "source": [
    "clean_inputs = get_coordinates(puzzle_input)\n",
    "matrix = get_matrix_board(clean_inputs)\n",
    "get_num_overlaps_w_diag(clean_inputs, matrix)"
   ]
  }
 ],
 "metadata": {
  "kernelspec": {
   "display_name": "Python 3",
   "language": "python",
   "name": "python3"
  },
  "language_info": {
   "codemirror_mode": {
    "name": "ipython",
    "version": 3
   },
   "file_extension": ".py",
   "mimetype": "text/x-python",
   "name": "python",
   "nbconvert_exporter": "python",
   "pygments_lexer": "ipython3",
   "version": "3.7.6"
  }
 },
 "nbformat": 4,
 "nbformat_minor": 2
}
